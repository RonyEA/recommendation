{
 "metadata": {
  "language_info": {
   "codemirror_mode": {
    "name": "ipython",
    "version": 3
   },
   "file_extension": ".py",
   "mimetype": "text/x-python",
   "name": "python",
   "nbconvert_exporter": "python",
   "pygments_lexer": "ipython3",
   "version": "3.8.10"
  },
  "orig_nbformat": 4,
  "kernelspec": {
   "name": "python3",
   "display_name": "Python 3.8.10 64-bit ('DS': conda)"
  },
  "interpreter": {
   "hash": "e1580800eb539cd7af4f72d8081f15b8aa8a9e635c2356c114c5a7a7e43a5119"
  }
 },
 "nbformat": 4,
 "nbformat_minor": 2,
 "cells": [
  {
   "source": [
    "# TO DO\n",
    "\n",
    "- Measurement of Similarity (Other Methods?)\n",
    "- Add the sentiment part for recommendation\n",
    "- Check output of predictions\n",
    "- Flask and Heruku\n"
   ],
   "cell_type": "markdown",
   "metadata": {}
  },
  {
   "cell_type": "code",
   "execution_count": 2,
   "metadata": {},
   "outputs": [],
   "source": [
    "import pandas as pd \n",
    "import numpy as np\n",
    "import matplotlib.pyplot as plt \n",
    "\n",
    "from sklearn.model_selection import train_test_split\n",
    "from sklearn.metrics.pairwise import pairwise_distances"
   ]
  },
  {
   "cell_type": "code",
   "execution_count": 3,
   "metadata": {},
   "outputs": [],
   "source": [
    "df = pd.read_csv(\"./Data/sample30.csv\")"
   ]
  },
  {
   "cell_type": "code",
   "execution_count": 4,
   "metadata": {},
   "outputs": [
    {
     "output_type": "execute_result",
     "data": {
      "text/plain": [
       "                     id            brand  \\\n",
       "0  AV13O1A8GV-KLJ3akUyj  Universal Music   \n",
       "1  AV14LG0R-jtxr-f38QfS         Lundberg   \n",
       "2  AV14LG0R-jtxr-f38QfS         Lundberg   \n",
       "3  AV16khLE-jtxr-f38VFn              K-Y   \n",
       "4  AV16khLE-jtxr-f38VFn              K-Y   \n",
       "\n",
       "                                          categories  \\\n",
       "0  Movies, Music & Books,Music,R&b,Movies & TV,Mo...   \n",
       "1  Food,Packaged Foods,Snacks,Crackers,Snacks, Co...   \n",
       "2  Food,Packaged Foods,Snacks,Crackers,Snacks, Co...   \n",
       "3  Personal Care,Medicine Cabinet,Lubricant/Sperm...   \n",
       "4  Personal Care,Medicine Cabinet,Lubricant/Sperm...   \n",
       "\n",
       "                         manufacturer  \\\n",
       "0  Universal Music Group / Cash Money   \n",
       "1                            Lundberg   \n",
       "2                            Lundberg   \n",
       "3                                 K-Y   \n",
       "4                                 K-Y   \n",
       "\n",
       "                                         name              reviews_date  \\\n",
       "0   Pink Friday: Roman Reloaded Re-Up (w/dvd)  2012-11-30T06:21:45.000Z   \n",
       "1  Lundberg Organic Cinnamon Toast Rice Cakes  2017-07-09T00:00:00.000Z   \n",
       "2  Lundberg Organic Cinnamon Toast Rice Cakes  2017-07-09T00:00:00.000Z   \n",
       "3            K-Y Love Sensuality Pleasure Gel  2016-01-06T00:00:00.000Z   \n",
       "4            K-Y Love Sensuality Pleasure Gel  2016-12-21T00:00:00.000Z   \n",
       "\n",
       "  reviews_didPurchase reviews_doRecommend  reviews_rating  \\\n",
       "0                 NaN                 NaN               5   \n",
       "1                True                 NaN               5   \n",
       "2                True                 NaN               5   \n",
       "3               False               False               1   \n",
       "4               False               False               1   \n",
       "\n",
       "                                        reviews_text reviews_title  \\\n",
       "0  i love this album. it's very good. more to the...  Just Awesome   \n",
       "1  Good flavor. This review was collected as part...          Good   \n",
       "2                                       Good flavor.          Good   \n",
       "3  I read through the reviews on here before look...  Disappointed   \n",
       "4  My husband bought this gel for us. The gel cau...    Irritation   \n",
       "\n",
       "  reviews_userCity reviews_userProvince reviews_username user_sentiment  \n",
       "0      Los Angeles                  NaN           joshua       Positive  \n",
       "1              NaN                  NaN        dorothy w       Positive  \n",
       "2              NaN                  NaN        dorothy w       Positive  \n",
       "3              NaN                  NaN          rebecca       Negative  \n",
       "4              NaN                  NaN        walker557       Negative  "
      ],
      "text/html": "<div>\n<style scoped>\n    .dataframe tbody tr th:only-of-type {\n        vertical-align: middle;\n    }\n\n    .dataframe tbody tr th {\n        vertical-align: top;\n    }\n\n    .dataframe thead th {\n        text-align: right;\n    }\n</style>\n<table border=\"1\" class=\"dataframe\">\n  <thead>\n    <tr style=\"text-align: right;\">\n      <th></th>\n      <th>id</th>\n      <th>brand</th>\n      <th>categories</th>\n      <th>manufacturer</th>\n      <th>name</th>\n      <th>reviews_date</th>\n      <th>reviews_didPurchase</th>\n      <th>reviews_doRecommend</th>\n      <th>reviews_rating</th>\n      <th>reviews_text</th>\n      <th>reviews_title</th>\n      <th>reviews_userCity</th>\n      <th>reviews_userProvince</th>\n      <th>reviews_username</th>\n      <th>user_sentiment</th>\n    </tr>\n  </thead>\n  <tbody>\n    <tr>\n      <th>0</th>\n      <td>AV13O1A8GV-KLJ3akUyj</td>\n      <td>Universal Music</td>\n      <td>Movies, Music &amp; Books,Music,R&amp;b,Movies &amp; TV,Mo...</td>\n      <td>Universal Music Group / Cash Money</td>\n      <td>Pink Friday: Roman Reloaded Re-Up (w/dvd)</td>\n      <td>2012-11-30T06:21:45.000Z</td>\n      <td>NaN</td>\n      <td>NaN</td>\n      <td>5</td>\n      <td>i love this album. it's very good. more to the...</td>\n      <td>Just Awesome</td>\n      <td>Los Angeles</td>\n      <td>NaN</td>\n      <td>joshua</td>\n      <td>Positive</td>\n    </tr>\n    <tr>\n      <th>1</th>\n      <td>AV14LG0R-jtxr-f38QfS</td>\n      <td>Lundberg</td>\n      <td>Food,Packaged Foods,Snacks,Crackers,Snacks, Co...</td>\n      <td>Lundberg</td>\n      <td>Lundberg Organic Cinnamon Toast Rice Cakes</td>\n      <td>2017-07-09T00:00:00.000Z</td>\n      <td>True</td>\n      <td>NaN</td>\n      <td>5</td>\n      <td>Good flavor. This review was collected as part...</td>\n      <td>Good</td>\n      <td>NaN</td>\n      <td>NaN</td>\n      <td>dorothy w</td>\n      <td>Positive</td>\n    </tr>\n    <tr>\n      <th>2</th>\n      <td>AV14LG0R-jtxr-f38QfS</td>\n      <td>Lundberg</td>\n      <td>Food,Packaged Foods,Snacks,Crackers,Snacks, Co...</td>\n      <td>Lundberg</td>\n      <td>Lundberg Organic Cinnamon Toast Rice Cakes</td>\n      <td>2017-07-09T00:00:00.000Z</td>\n      <td>True</td>\n      <td>NaN</td>\n      <td>5</td>\n      <td>Good flavor.</td>\n      <td>Good</td>\n      <td>NaN</td>\n      <td>NaN</td>\n      <td>dorothy w</td>\n      <td>Positive</td>\n    </tr>\n    <tr>\n      <th>3</th>\n      <td>AV16khLE-jtxr-f38VFn</td>\n      <td>K-Y</td>\n      <td>Personal Care,Medicine Cabinet,Lubricant/Sperm...</td>\n      <td>K-Y</td>\n      <td>K-Y Love Sensuality Pleasure Gel</td>\n      <td>2016-01-06T00:00:00.000Z</td>\n      <td>False</td>\n      <td>False</td>\n      <td>1</td>\n      <td>I read through the reviews on here before look...</td>\n      <td>Disappointed</td>\n      <td>NaN</td>\n      <td>NaN</td>\n      <td>rebecca</td>\n      <td>Negative</td>\n    </tr>\n    <tr>\n      <th>4</th>\n      <td>AV16khLE-jtxr-f38VFn</td>\n      <td>K-Y</td>\n      <td>Personal Care,Medicine Cabinet,Lubricant/Sperm...</td>\n      <td>K-Y</td>\n      <td>K-Y Love Sensuality Pleasure Gel</td>\n      <td>2016-12-21T00:00:00.000Z</td>\n      <td>False</td>\n      <td>False</td>\n      <td>1</td>\n      <td>My husband bought this gel for us. The gel cau...</td>\n      <td>Irritation</td>\n      <td>NaN</td>\n      <td>NaN</td>\n      <td>walker557</td>\n      <td>Negative</td>\n    </tr>\n  </tbody>\n</table>\n</div>"
     },
     "metadata": {},
     "execution_count": 4
    }
   ],
   "source": [
    "df.head()"
   ]
  },
  {
   "cell_type": "code",
   "execution_count": 5,
   "metadata": {},
   "outputs": [],
   "source": [
    "ratings = df[['reviews_username','name', 'reviews_rating']]\n",
    "ratings.columns = ['userId', 'prodId', 'rating']\n",
    "ratings = ratings.dropna()"
   ]
  },
  {
   "cell_type": "code",
   "execution_count": 6,
   "metadata": {},
   "outputs": [
    {
     "output_type": "execute_result",
     "data": {
      "text/plain": [
       "24914"
      ]
     },
     "metadata": {},
     "execution_count": 6
    }
   ],
   "source": [
    "len(ratings['userId'].unique().tolist())"
   ]
  },
  {
   "cell_type": "code",
   "execution_count": 7,
   "metadata": {},
   "outputs": [],
   "source": [
    "ratings = ratings.groupby(['userId', 'prodId']).mean().reset_index()"
   ]
  },
  {
   "cell_type": "code",
   "execution_count": 8,
   "metadata": {},
   "outputs": [],
   "source": [
    "train, test = train_test_split(ratings, test_size=0.30, random_state=30)"
   ]
  },
  {
   "cell_type": "code",
   "execution_count": 9,
   "metadata": {},
   "outputs": [
    {
     "output_type": "stream",
     "name": "stdout",
     "text": [
      "(19311, 3)\n(8277, 3)\n"
     ]
    }
   ],
   "source": [
    "print(train.shape)\n",
    "print(test.shape)"
   ]
  },
  {
   "cell_type": "code",
   "execution_count": 10,
   "metadata": {},
   "outputs": [],
   "source": [
    "df_pivot = train.pivot(\n",
    "    index='userId',\n",
    "    columns='prodId',\n",
    "    values='rating'\n",
    ").fillna(0)"
   ]
  },
  {
   "cell_type": "code",
   "execution_count": 11,
   "metadata": {},
   "outputs": [
    {
     "output_type": "execute_result",
     "data": {
      "text/plain": [
       "prodId       0.6 Cu. Ft. Letter A4 Size Waterproof 30 Min. Fire File Chest  \\\n",
       "userId                                                                       \n",
       "00dog3                                                     0.0               \n",
       "00sab00                                                    0.0               \n",
       "01impala                                                   0.0               \n",
       "0325home                                                   0.0               \n",
       "06stidriver                                                0.0               \n",
       "...                                                        ...               \n",
       "zxcsdfd                                                    0.0               \n",
       "zxjki                                                      0.0               \n",
       "zyiah4                                                     0.0               \n",
       "zzdiane                                                    0.0               \n",
       "zzz1127                                                    0.0               \n",
       "\n",
       "prodId       100:Complete First Season (blu-Ray)  \\\n",
       "userId                                             \n",
       "00dog3                                       0.0   \n",
       "00sab00                                      0.0   \n",
       "01impala                                     0.0   \n",
       "0325home                                     0.0   \n",
       "06stidriver                                  0.0   \n",
       "...                                          ...   \n",
       "zxcsdfd                                      0.0   \n",
       "zxjki                                        0.0   \n",
       "zyiah4                                       0.0   \n",
       "zzdiane                                      0.0   \n",
       "zzz1127                                      0.0   \n",
       "\n",
       "prodId       2017-2018 Brownline174 Duraflex 14-Month Planner 8 1/2 X 11 Black  \\\n",
       "userId                                                                           \n",
       "00dog3                                                     0.0                   \n",
       "00sab00                                                    0.0                   \n",
       "01impala                                                   0.0                   \n",
       "0325home                                                   0.0                   \n",
       "06stidriver                                                0.0                   \n",
       "...                                                        ...                   \n",
       "zxcsdfd                                                    0.0                   \n",
       "zxjki                                                      0.0                   \n",
       "zyiah4                                                     0.0                   \n",
       "zzdiane                                                    0.0                   \n",
       "zzz1127                                                    0.0                   \n",
       "\n",
       "prodId       2x Ultra Era with Oxi Booster, 50fl oz  \\\n",
       "userId                                                \n",
       "00dog3                                          0.0   \n",
       "00sab00                                         0.0   \n",
       "01impala                                        0.0   \n",
       "0325home                                        0.0   \n",
       "06stidriver                                     0.0   \n",
       "...                                             ...   \n",
       "zxcsdfd                                         0.0   \n",
       "zxjki                                           0.0   \n",
       "zyiah4                                          0.0   \n",
       "zzdiane                                         0.0   \n",
       "zzz1127                                         0.0   \n",
       "\n",
       "prodId       42 Dual Drop Leaf Table with 2 Madrid Chairs\"  \\\n",
       "userId                                                       \n",
       "00dog3                                                 0.0   \n",
       "00sab00                                                0.0   \n",
       "01impala                                               0.0   \n",
       "0325home                                               0.0   \n",
       "06stidriver                                            0.0   \n",
       "...                                                    ...   \n",
       "zxcsdfd                                                0.0   \n",
       "zxjki                                                  0.0   \n",
       "zyiah4                                                 0.0   \n",
       "zzdiane                                                0.0   \n",
       "zzz1127                                                0.0   \n",
       "\n",
       "prodId       4C Grated Parmesan Cheese 100% Natural 8oz Shaker  \\\n",
       "userId                                                           \n",
       "00dog3                                                     0.0   \n",
       "00sab00                                                    0.0   \n",
       "01impala                                                   0.0   \n",
       "0325home                                                   0.0   \n",
       "06stidriver                                                0.0   \n",
       "...                                                        ...   \n",
       "zxcsdfd                                                    0.0   \n",
       "zxjki                                                      0.0   \n",
       "zyiah4                                                     0.0   \n",
       "zzdiane                                                    0.0   \n",
       "zzz1127                                                    0.0   \n",
       "\n",
       "prodId       5302050 15/16 FCT/HOSE ADAPTOR  \\\n",
       "userId                                        \n",
       "00dog3                                  0.0   \n",
       "00sab00                                 0.0   \n",
       "01impala                                0.0   \n",
       "0325home                                0.0   \n",
       "06stidriver                             0.0   \n",
       "...                                     ...   \n",
       "zxcsdfd                                 0.0   \n",
       "zxjki                                   0.0   \n",
       "zyiah4                                  0.0   \n",
       "zzdiane                                 0.0   \n",
       "zzz1127                                 0.0   \n",
       "\n",
       "prodId       Africa's Best No-Lye Dual Conditioning Relaxer System Super  \\\n",
       "userId                                                                     \n",
       "00dog3                                                     0.0             \n",
       "00sab00                                                    0.0             \n",
       "01impala                                                   0.0             \n",
       "0325home                                                   0.0             \n",
       "06stidriver                                                0.0             \n",
       "...                                                        ...             \n",
       "zxcsdfd                                                    0.0             \n",
       "zxjki                                                      0.0             \n",
       "zyiah4                                                     0.0             \n",
       "zzdiane                                                    0.0             \n",
       "zzz1127                                                    0.0             \n",
       "\n",
       "prodId       Alberto VO5 Salon Series Smooth Plus Sleek Shampoo  \\\n",
       "userId                                                            \n",
       "00dog3                                                     0.0    \n",
       "00sab00                                                    0.0    \n",
       "01impala                                                   0.0    \n",
       "0325home                                                   0.0    \n",
       "06stidriver                                                0.0    \n",
       "...                                                        ...    \n",
       "zxcsdfd                                                    0.0    \n",
       "zxjki                                                      0.0    \n",
       "zyiah4                                                     0.0    \n",
       "zzdiane                                                    0.0    \n",
       "zzz1127                                                    0.0    \n",
       "\n",
       "prodId       Alex Cross (dvdvideo)  ...  \\\n",
       "userId                              ...   \n",
       "00dog3                         0.0  ...   \n",
       "00sab00                        0.0  ...   \n",
       "01impala                       0.0  ...   \n",
       "0325home                       0.0  ...   \n",
       "06stidriver                    0.0  ...   \n",
       "...                            ...  ...   \n",
       "zxcsdfd                        0.0  ...   \n",
       "zxjki                          0.0  ...   \n",
       "zyiah4                         0.0  ...   \n",
       "zzdiane                        0.0  ...   \n",
       "zzz1127                        0.0  ...   \n",
       "\n",
       "prodId       Wagan Smartac 80watt Inverter With Usb  \\\n",
       "userId                                                \n",
       "00dog3                                          0.0   \n",
       "00sab00                                         0.0   \n",
       "01impala                                        0.0   \n",
       "0325home                                        0.0   \n",
       "06stidriver                                     0.0   \n",
       "...                                             ...   \n",
       "zxcsdfd                                         0.0   \n",
       "zxjki                                           0.0   \n",
       "zyiah4                                          0.0   \n",
       "zzdiane                                         0.0   \n",
       "zzz1127                                         0.0   \n",
       "\n",
       "prodId       Walkers Stem Ginger Shortbread  \\\n",
       "userId                                        \n",
       "00dog3                                  0.0   \n",
       "00sab00                                 0.0   \n",
       "01impala                                0.0   \n",
       "0325home                                0.0   \n",
       "06stidriver                             0.0   \n",
       "...                                     ...   \n",
       "zxcsdfd                                 0.0   \n",
       "zxjki                                   0.0   \n",
       "zyiah4                                  0.0   \n",
       "zzdiane                                 0.0   \n",
       "zzz1127                                 0.0   \n",
       "\n",
       "prodId       Way Basics 3-Shelf Eco Narrow Bookcase Storage Shelf, Espresso - Formaldehyde Free - Lifetime Guarantee  \\\n",
       "userId                                                                                                                 \n",
       "00dog3                                                     0.0                                                         \n",
       "00sab00                                                    0.0                                                         \n",
       "01impala                                                   0.0                                                         \n",
       "0325home                                                   0.0                                                         \n",
       "06stidriver                                                0.0                                                         \n",
       "...                                                        ...                                                         \n",
       "zxcsdfd                                                    0.0                                                         \n",
       "zxjki                                                      0.0                                                         \n",
       "zyiah4                                                     0.0                                                         \n",
       "zzdiane                                                    0.0                                                         \n",
       "zzz1127                                                    0.0                                                         \n",
       "\n",
       "prodId       WeatherTech 40647 14-15 Outlander Cargo Liners Behind 2nd Row, Black  \\\n",
       "userId                                                                              \n",
       "00dog3                                                     0.0                      \n",
       "00sab00                                                    0.0                      \n",
       "01impala                                                   0.0                      \n",
       "0325home                                                   0.0                      \n",
       "06stidriver                                                0.0                      \n",
       "...                                                        ...                      \n",
       "zxcsdfd                                                    0.0                      \n",
       "zxjki                                                      0.0                      \n",
       "zyiah4                                                     0.0                      \n",
       "zzdiane                                                    0.0                      \n",
       "zzz1127                                                    0.0                      \n",
       "\n",
       "prodId       Wedding Wishes Wedding Guest Book  Weleda Everon Lip Balm  \\\n",
       "userId                                                                   \n",
       "00dog3                                     0.0                     0.0   \n",
       "00sab00                                    0.0                     0.0   \n",
       "01impala                                   0.0                     0.0   \n",
       "0325home                                   0.0                     0.0   \n",
       "06stidriver                                0.0                     0.0   \n",
       "...                                        ...                     ...   \n",
       "zxcsdfd                                    0.0                     0.0   \n",
       "zxjki                                      0.0                     0.0   \n",
       "zyiah4                                     0.0                     0.0   \n",
       "zzdiane                                    0.0                     0.0   \n",
       "zzz1127                                    0.0                     0.0   \n",
       "\n",
       "prodId       Wilton Black Dots Standard Baking Cups  \\\n",
       "userId                                                \n",
       "00dog3                                          0.0   \n",
       "00sab00                                         0.0   \n",
       "01impala                                        0.0   \n",
       "0325home                                        0.0   \n",
       "06stidriver                                     0.0   \n",
       "...                                             ...   \n",
       "zxcsdfd                                         0.0   \n",
       "zxjki                                           0.0   \n",
       "zyiah4                                          0.0   \n",
       "zzdiane                                         0.0   \n",
       "zzz1127                                         0.0   \n",
       "\n",
       "prodId       Windex Original Glass Cleaner Refill 67.6oz (2 Liter)  \\\n",
       "userId                                                               \n",
       "00dog3                                                     0.0       \n",
       "00sab00                                                    0.0       \n",
       "01impala                                                   0.0       \n",
       "0325home                                                   0.0       \n",
       "06stidriver                                                0.0       \n",
       "...                                                        ...       \n",
       "zxcsdfd                                                    0.0       \n",
       "zxjki                                                      0.0       \n",
       "zyiah4                                                     0.0       \n",
       "zzdiane                                                    0.0       \n",
       "zzz1127                                                    0.0       \n",
       "\n",
       "prodId       Yes To Carrots Nourishing Body Wash  \\\n",
       "userId                                             \n",
       "00dog3                                       0.0   \n",
       "00sab00                                      0.0   \n",
       "01impala                                     0.0   \n",
       "0325home                                     0.0   \n",
       "06stidriver                                  0.0   \n",
       "...                                          ...   \n",
       "zxcsdfd                                      0.0   \n",
       "zxjki                                        0.0   \n",
       "zyiah4                                       0.0   \n",
       "zzdiane                                      0.0   \n",
       "zzz1127                                      0.0   \n",
       "\n",
       "prodId       Yes To Grapefruit Rejuvenating Body Wash  \n",
       "userId                                                 \n",
       "00dog3                                            0.0  \n",
       "00sab00                                           0.0  \n",
       "01impala                                          0.0  \n",
       "0325home                                          0.0  \n",
       "06stidriver                                       0.0  \n",
       "...                                               ...  \n",
       "zxcsdfd                                           0.0  \n",
       "zxjki                                             0.0  \n",
       "zyiah4                                            0.0  \n",
       "zzdiane                                           0.0  \n",
       "zzz1127                                           0.0  \n",
       "\n",
       "[17844 rows x 254 columns]"
      ],
      "text/html": "<div>\n<style scoped>\n    .dataframe tbody tr th:only-of-type {\n        vertical-align: middle;\n    }\n\n    .dataframe tbody tr th {\n        vertical-align: top;\n    }\n\n    .dataframe thead th {\n        text-align: right;\n    }\n</style>\n<table border=\"1\" class=\"dataframe\">\n  <thead>\n    <tr style=\"text-align: right;\">\n      <th>prodId</th>\n      <th>0.6 Cu. Ft. Letter A4 Size Waterproof 30 Min. Fire File Chest</th>\n      <th>100:Complete First Season (blu-Ray)</th>\n      <th>2017-2018 Brownline174 Duraflex 14-Month Planner 8 1/2 X 11 Black</th>\n      <th>2x Ultra Era with Oxi Booster, 50fl oz</th>\n      <th>42 Dual Drop Leaf Table with 2 Madrid Chairs\"</th>\n      <th>4C Grated Parmesan Cheese 100% Natural 8oz Shaker</th>\n      <th>5302050 15/16 FCT/HOSE ADAPTOR</th>\n      <th>Africa's Best No-Lye Dual Conditioning Relaxer System Super</th>\n      <th>Alberto VO5 Salon Series Smooth Plus Sleek Shampoo</th>\n      <th>Alex Cross (dvdvideo)</th>\n      <th>...</th>\n      <th>Wagan Smartac 80watt Inverter With Usb</th>\n      <th>Walkers Stem Ginger Shortbread</th>\n      <th>Way Basics 3-Shelf Eco Narrow Bookcase Storage Shelf, Espresso - Formaldehyde Free - Lifetime Guarantee</th>\n      <th>WeatherTech 40647 14-15 Outlander Cargo Liners Behind 2nd Row, Black</th>\n      <th>Wedding Wishes Wedding Guest Book</th>\n      <th>Weleda Everon Lip Balm</th>\n      <th>Wilton Black Dots Standard Baking Cups</th>\n      <th>Windex Original Glass Cleaner Refill 67.6oz (2 Liter)</th>\n      <th>Yes To Carrots Nourishing Body Wash</th>\n      <th>Yes To Grapefruit Rejuvenating Body Wash</th>\n    </tr>\n    <tr>\n      <th>userId</th>\n      <th></th>\n      <th></th>\n      <th></th>\n      <th></th>\n      <th></th>\n      <th></th>\n      <th></th>\n      <th></th>\n      <th></th>\n      <th></th>\n      <th></th>\n      <th></th>\n      <th></th>\n      <th></th>\n      <th></th>\n      <th></th>\n      <th></th>\n      <th></th>\n      <th></th>\n      <th></th>\n      <th></th>\n    </tr>\n  </thead>\n  <tbody>\n    <tr>\n      <th>00dog3</th>\n      <td>0.0</td>\n      <td>0.0</td>\n      <td>0.0</td>\n      <td>0.0</td>\n      <td>0.0</td>\n      <td>0.0</td>\n      <td>0.0</td>\n      <td>0.0</td>\n      <td>0.0</td>\n      <td>0.0</td>\n      <td>...</td>\n      <td>0.0</td>\n      <td>0.0</td>\n      <td>0.0</td>\n      <td>0.0</td>\n      <td>0.0</td>\n      <td>0.0</td>\n      <td>0.0</td>\n      <td>0.0</td>\n      <td>0.0</td>\n      <td>0.0</td>\n    </tr>\n    <tr>\n      <th>00sab00</th>\n      <td>0.0</td>\n      <td>0.0</td>\n      <td>0.0</td>\n      <td>0.0</td>\n      <td>0.0</td>\n      <td>0.0</td>\n      <td>0.0</td>\n      <td>0.0</td>\n      <td>0.0</td>\n      <td>0.0</td>\n      <td>...</td>\n      <td>0.0</td>\n      <td>0.0</td>\n      <td>0.0</td>\n      <td>0.0</td>\n      <td>0.0</td>\n      <td>0.0</td>\n      <td>0.0</td>\n      <td>0.0</td>\n      <td>0.0</td>\n      <td>0.0</td>\n    </tr>\n    <tr>\n      <th>01impala</th>\n      <td>0.0</td>\n      <td>0.0</td>\n      <td>0.0</td>\n      <td>0.0</td>\n      <td>0.0</td>\n      <td>0.0</td>\n      <td>0.0</td>\n      <td>0.0</td>\n      <td>0.0</td>\n      <td>0.0</td>\n      <td>...</td>\n      <td>0.0</td>\n      <td>0.0</td>\n      <td>0.0</td>\n      <td>0.0</td>\n      <td>0.0</td>\n      <td>0.0</td>\n      <td>0.0</td>\n      <td>0.0</td>\n      <td>0.0</td>\n      <td>0.0</td>\n    </tr>\n    <tr>\n      <th>0325home</th>\n      <td>0.0</td>\n      <td>0.0</td>\n      <td>0.0</td>\n      <td>0.0</td>\n      <td>0.0</td>\n      <td>0.0</td>\n      <td>0.0</td>\n      <td>0.0</td>\n      <td>0.0</td>\n      <td>0.0</td>\n      <td>...</td>\n      <td>0.0</td>\n      <td>0.0</td>\n      <td>0.0</td>\n      <td>0.0</td>\n      <td>0.0</td>\n      <td>0.0</td>\n      <td>0.0</td>\n      <td>0.0</td>\n      <td>0.0</td>\n      <td>0.0</td>\n    </tr>\n    <tr>\n      <th>06stidriver</th>\n      <td>0.0</td>\n      <td>0.0</td>\n      <td>0.0</td>\n      <td>0.0</td>\n      <td>0.0</td>\n      <td>0.0</td>\n      <td>0.0</td>\n      <td>0.0</td>\n      <td>0.0</td>\n      <td>0.0</td>\n      <td>...</td>\n      <td>0.0</td>\n      <td>0.0</td>\n      <td>0.0</td>\n      <td>0.0</td>\n      <td>0.0</td>\n      <td>0.0</td>\n      <td>0.0</td>\n      <td>0.0</td>\n      <td>0.0</td>\n      <td>0.0</td>\n    </tr>\n    <tr>\n      <th>...</th>\n      <td>...</td>\n      <td>...</td>\n      <td>...</td>\n      <td>...</td>\n      <td>...</td>\n      <td>...</td>\n      <td>...</td>\n      <td>...</td>\n      <td>...</td>\n      <td>...</td>\n      <td>...</td>\n      <td>...</td>\n      <td>...</td>\n      <td>...</td>\n      <td>...</td>\n      <td>...</td>\n      <td>...</td>\n      <td>...</td>\n      <td>...</td>\n      <td>...</td>\n      <td>...</td>\n    </tr>\n    <tr>\n      <th>zxcsdfd</th>\n      <td>0.0</td>\n      <td>0.0</td>\n      <td>0.0</td>\n      <td>0.0</td>\n      <td>0.0</td>\n      <td>0.0</td>\n      <td>0.0</td>\n      <td>0.0</td>\n      <td>0.0</td>\n      <td>0.0</td>\n      <td>...</td>\n      <td>0.0</td>\n      <td>0.0</td>\n      <td>0.0</td>\n      <td>0.0</td>\n      <td>0.0</td>\n      <td>0.0</td>\n      <td>0.0</td>\n      <td>0.0</td>\n      <td>0.0</td>\n      <td>0.0</td>\n    </tr>\n    <tr>\n      <th>zxjki</th>\n      <td>0.0</td>\n      <td>0.0</td>\n      <td>0.0</td>\n      <td>0.0</td>\n      <td>0.0</td>\n      <td>0.0</td>\n      <td>0.0</td>\n      <td>0.0</td>\n      <td>0.0</td>\n      <td>0.0</td>\n      <td>...</td>\n      <td>0.0</td>\n      <td>0.0</td>\n      <td>0.0</td>\n      <td>0.0</td>\n      <td>0.0</td>\n      <td>0.0</td>\n      <td>0.0</td>\n      <td>0.0</td>\n      <td>0.0</td>\n      <td>0.0</td>\n    </tr>\n    <tr>\n      <th>zyiah4</th>\n      <td>0.0</td>\n      <td>0.0</td>\n      <td>0.0</td>\n      <td>0.0</td>\n      <td>0.0</td>\n      <td>0.0</td>\n      <td>0.0</td>\n      <td>0.0</td>\n      <td>0.0</td>\n      <td>0.0</td>\n      <td>...</td>\n      <td>0.0</td>\n      <td>0.0</td>\n      <td>0.0</td>\n      <td>0.0</td>\n      <td>0.0</td>\n      <td>0.0</td>\n      <td>0.0</td>\n      <td>0.0</td>\n      <td>0.0</td>\n      <td>0.0</td>\n    </tr>\n    <tr>\n      <th>zzdiane</th>\n      <td>0.0</td>\n      <td>0.0</td>\n      <td>0.0</td>\n      <td>0.0</td>\n      <td>0.0</td>\n      <td>0.0</td>\n      <td>0.0</td>\n      <td>0.0</td>\n      <td>0.0</td>\n      <td>0.0</td>\n      <td>...</td>\n      <td>0.0</td>\n      <td>0.0</td>\n      <td>0.0</td>\n      <td>0.0</td>\n      <td>0.0</td>\n      <td>0.0</td>\n      <td>0.0</td>\n      <td>0.0</td>\n      <td>0.0</td>\n      <td>0.0</td>\n    </tr>\n    <tr>\n      <th>zzz1127</th>\n      <td>0.0</td>\n      <td>0.0</td>\n      <td>0.0</td>\n      <td>0.0</td>\n      <td>0.0</td>\n      <td>0.0</td>\n      <td>0.0</td>\n      <td>0.0</td>\n      <td>0.0</td>\n      <td>0.0</td>\n      <td>...</td>\n      <td>0.0</td>\n      <td>0.0</td>\n      <td>0.0</td>\n      <td>0.0</td>\n      <td>0.0</td>\n      <td>0.0</td>\n      <td>0.0</td>\n      <td>0.0</td>\n      <td>0.0</td>\n      <td>0.0</td>\n    </tr>\n  </tbody>\n</table>\n<p>17844 rows × 254 columns</p>\n</div>"
     },
     "metadata": {},
     "execution_count": 11
    }
   ],
   "source": [
    "df_pivot"
   ]
  },
  {
   "cell_type": "code",
   "execution_count": 12,
   "metadata": {},
   "outputs": [],
   "source": [
    "dummy_train = train.copy()"
   ]
  },
  {
   "cell_type": "code",
   "execution_count": 13,
   "metadata": {},
   "outputs": [],
   "source": [
    "dummy_train['rating'] = dummy_train['rating'].apply(lambda x: 0 if x>0 else 1)"
   ]
  },
  {
   "cell_type": "code",
   "execution_count": 14,
   "metadata": {},
   "outputs": [],
   "source": [
    "dummy_train = dummy_train.pivot(\n",
    "    index='userId',\n",
    "    columns='prodId',\n",
    "    values='rating'\n",
    ").fillna(1)"
   ]
  },
  {
   "cell_type": "code",
   "execution_count": 15,
   "metadata": {},
   "outputs": [
    {
     "output_type": "execute_result",
     "data": {
      "text/plain": [
       "userId       zzz1127\n",
       "NoRatings      253.0\n",
       "dtype: object"
      ]
     },
     "metadata": {},
     "execution_count": 15
    }
   ],
   "source": [
    "trial = dummy_train.sum(axis=1).reset_index()\n",
    "trial.columns = ['userId', 'NoRatings']\n",
    "trial.max()"
   ]
  },
  {
   "source": [
    "# Cosine Similarity"
   ],
   "cell_type": "markdown",
   "metadata": {}
  },
  {
   "cell_type": "code",
   "execution_count": 16,
   "metadata": {},
   "outputs": [
    {
     "output_type": "stream",
     "name": "stdout",
     "text": [
      "[[1. 0. 0. ... 0. 0. 0.]\n [0. 1. 0. ... 0. 0. 0.]\n [0. 0. 1. ... 0. 0. 0.]\n ...\n [0. 0. 0. ... 1. 0. 1.]\n [0. 0. 0. ... 0. 1. 0.]\n [0. 0. 0. ... 1. 0. 1.]]\n"
     ]
    }
   ],
   "source": [
    "user_correlation = 1 - pairwise_distances(df_pivot, metric='cosine')\n",
    "user_correlation[np.isnan(user_correlation)]=0\n",
    "print(user_correlation)"
   ]
  },
  {
   "cell_type": "code",
   "execution_count": 17,
   "metadata": {
    "tags": []
   },
   "outputs": [
    {
     "output_type": "execute_result",
     "data": {
      "text/plain": [
       "(17844, 17844)"
      ]
     },
     "metadata": {},
     "execution_count": 17
    }
   ],
   "source": [
    "user_correlation.shape"
   ]
  },
  {
   "source": [
    "# Adjusted Cosine"
   ],
   "cell_type": "markdown",
   "metadata": {}
  },
  {
   "cell_type": "code",
   "execution_count": 18,
   "metadata": {},
   "outputs": [],
   "source": [
    "# df_pivot = train.pivot(\n",
    "#     index='userId',\n",
    "#     columns='prodId',\n",
    "#     values='rating'\n",
    "# )"
   ]
  },
  {
   "cell_type": "code",
   "execution_count": 19,
   "metadata": {},
   "outputs": [],
   "source": [
    "# df_pivot.head()"
   ]
  },
  {
   "cell_type": "code",
   "execution_count": 20,
   "metadata": {},
   "outputs": [],
   "source": [
    "# mean = np.nanmean(df_pivot, axis=1)\n",
    "# df_substracted = (df_pivot.T - mean).T"
   ]
  },
  {
   "cell_type": "code",
   "execution_count": 21,
   "metadata": {},
   "outputs": [],
   "source": [
    "# df_substracted.head()"
   ]
  },
  {
   "cell_type": "code",
   "execution_count": 22,
   "metadata": {},
   "outputs": [],
   "source": [
    "# user_correlation = 1 - pairwise_distances(df_substracted.fillna(0), metric='cosine')\n",
    "# user_correlation[np.isnan(user_correlation)]=0\n",
    "# print(user_correlation)"
   ]
  },
  {
   "cell_type": "code",
   "execution_count": 23,
   "metadata": {
    "tags": []
   },
   "outputs": [],
   "source": [
    "# user_correlation.min()"
   ]
  },
  {
   "cell_type": "code",
   "execution_count": 24,
   "metadata": {},
   "outputs": [
    {
     "output_type": "execute_result",
     "data": {
      "text/plain": [
       "(17844, 17844)"
      ]
     },
     "metadata": {},
     "execution_count": 24
    }
   ],
   "source": [
    "user_correlation[user_correlation<0]=0\n",
    "user_correlation.shape"
   ]
  },
  {
   "cell_type": "code",
   "execution_count": 25,
   "metadata": {},
   "outputs": [
    {
     "output_type": "execute_result",
     "data": {
      "text/plain": [
       "array([[ 0.        ,  0.        ,  0.        , ...,  0.        ,\n",
       "         0.        ,  0.        ],\n",
       "       [ 0.        ,  3.60798171,  0.        , ..., 12.29726806,\n",
       "         0.        ,  0.61084722],\n",
       "       [ 0.        , 21.14607926,  0.        , ..., 26.13335793,\n",
       "         2.21348628,  3.61215302],\n",
       "       ...,\n",
       "       [ 0.        ,  6.82742743,  0.        , ...,  8.42825742,\n",
       "         2.88675135,  0.        ],\n",
       "       [ 0.        ,  0.        ,  0.        , ...,  1.80421959,\n",
       "         2.49017207,  1.06066017],\n",
       "       [ 0.        ,  6.82742743,  0.        , ...,  8.42825742,\n",
       "         2.88675135,  0.        ]])"
      ]
     },
     "metadata": {},
     "execution_count": 25
    }
   ],
   "source": [
    "user_predicted_ratings = np.dot(user_correlation, df_pivot.fillna(0))\n",
    "user_predicted_ratings"
   ]
  },
  {
   "cell_type": "code",
   "execution_count": 26,
   "metadata": {},
   "outputs": [
    {
     "output_type": "execute_result",
     "data": {
      "text/plain": [
       "(17844, 254)"
      ]
     },
     "metadata": {},
     "execution_count": 26
    }
   ],
   "source": [
    "user_predicted_ratings.shape"
   ]
  },
  {
   "cell_type": "code",
   "execution_count": 27,
   "metadata": {},
   "outputs": [
    {
     "output_type": "execute_result",
     "data": {
      "text/plain": [
       "prodId       0.6 Cu. Ft. Letter A4 Size Waterproof 30 Min. Fire File Chest  \\\n",
       "userId                                                                       \n",
       "00dog3                                                     0.0               \n",
       "00sab00                                                    0.0               \n",
       "01impala                                                   0.0               \n",
       "0325home                                                   0.0               \n",
       "06stidriver                                                0.0               \n",
       "\n",
       "prodId       100:Complete First Season (blu-Ray)  \\\n",
       "userId                                             \n",
       "00dog3                                  0.000000   \n",
       "00sab00                                 3.607982   \n",
       "01impala                               21.146079   \n",
       "0325home                                6.827427   \n",
       "06stidriver                             6.827427   \n",
       "\n",
       "prodId       2017-2018 Brownline174 Duraflex 14-Month Planner 8 1/2 X 11 Black  \\\n",
       "userId                                                                           \n",
       "00dog3                                                     0.0                   \n",
       "00sab00                                                    0.0                   \n",
       "01impala                                                   0.0                   \n",
       "0325home                                                   0.0                   \n",
       "06stidriver                                                0.0                   \n",
       "\n",
       "prodId       2x Ultra Era with Oxi Booster, 50fl oz  \\\n",
       "userId                                                \n",
       "00dog3                                          0.0   \n",
       "00sab00                                         0.0   \n",
       "01impala                                        0.0   \n",
       "0325home                                        0.0   \n",
       "06stidriver                                     0.0   \n",
       "\n",
       "prodId       42 Dual Drop Leaf Table with 2 Madrid Chairs\"  \\\n",
       "userId                                                       \n",
       "00dog3                                                 0.0   \n",
       "00sab00                                                0.0   \n",
       "01impala                                               0.0   \n",
       "0325home                                               0.0   \n",
       "06stidriver                                            0.0   \n",
       "\n",
       "prodId       4C Grated Parmesan Cheese 100% Natural 8oz Shaker  \\\n",
       "userId                                                           \n",
       "00dog3                                                     0.0   \n",
       "00sab00                                                    0.0   \n",
       "01impala                                                   0.0   \n",
       "0325home                                                   0.0   \n",
       "06stidriver                                                0.0   \n",
       "\n",
       "prodId       5302050 15/16 FCT/HOSE ADAPTOR  \\\n",
       "userId                                        \n",
       "00dog3                                  0.0   \n",
       "00sab00                                 0.0   \n",
       "01impala                                0.0   \n",
       "0325home                                0.0   \n",
       "06stidriver                             0.0   \n",
       "\n",
       "prodId       Africa's Best No-Lye Dual Conditioning Relaxer System Super  \\\n",
       "userId                                                                     \n",
       "00dog3                                                     0.0             \n",
       "00sab00                                                    0.0             \n",
       "01impala                                                   0.0             \n",
       "0325home                                                   0.0             \n",
       "06stidriver                                                0.0             \n",
       "\n",
       "prodId       Alberto VO5 Salon Series Smooth Plus Sleek Shampoo  \\\n",
       "userId                                                            \n",
       "00dog3                                                     0.0    \n",
       "00sab00                                                    0.0    \n",
       "01impala                                                   0.0    \n",
       "0325home                                                   0.0    \n",
       "06stidriver                                                0.0    \n",
       "\n",
       "prodId       Alex Cross (dvdvideo)  ...  \\\n",
       "userId                              ...   \n",
       "00dog3                    2.461830  ...   \n",
       "00sab00                   8.173706  ...   \n",
       "01impala                 17.823750  ...   \n",
       "0325home                  4.980429  ...   \n",
       "06stidriver               4.980429  ...   \n",
       "\n",
       "prodId       Wagan Smartac 80watt Inverter With Usb  \\\n",
       "userId                                                \n",
       "00dog3                                     0.000000   \n",
       "00sab00                                    0.000000   \n",
       "01impala                                   2.213486   \n",
       "0325home                                   0.000000   \n",
       "06stidriver                                0.000000   \n",
       "\n",
       "prodId       Walkers Stem Ginger Shortbread  \\\n",
       "userId                                        \n",
       "00dog3                                  0.0   \n",
       "00sab00                                 0.0   \n",
       "01impala                                0.0   \n",
       "0325home                                0.0   \n",
       "06stidriver                             0.0   \n",
       "\n",
       "prodId       Way Basics 3-Shelf Eco Narrow Bookcase Storage Shelf, Espresso - Formaldehyde Free - Lifetime Guarantee  \\\n",
       "userId                                                                                                                 \n",
       "00dog3                                                0.000000                                                         \n",
       "00sab00                                               2.981424                                                         \n",
       "01impala                                              2.404485                                                         \n",
       "0325home                                              0.000000                                                         \n",
       "06stidriver                                           0.000000                                                         \n",
       "\n",
       "prodId       WeatherTech 40647 14-15 Outlander Cargo Liners Behind 2nd Row, Black  \\\n",
       "userId                                                                              \n",
       "00dog3                                                0.000000                      \n",
       "00sab00                                               1.370578                      \n",
       "01impala                                              1.599007                      \n",
       "0325home                                              0.000000                      \n",
       "06stidriver                                           0.000000                      \n",
       "\n",
       "prodId       Wedding Wishes Wedding Guest Book  Weleda Everon Lip Balm  \\\n",
       "userId                                                                   \n",
       "00dog3                                     0.0                     0.0   \n",
       "00sab00                                    0.0                     0.0   \n",
       "01impala                                   0.0                     0.0   \n",
       "0325home                                   0.0                     0.0   \n",
       "06stidriver                                0.0                     0.0   \n",
       "\n",
       "prodId       Wilton Black Dots Standard Baking Cups  \\\n",
       "userId                                                \n",
       "00dog3                                          0.0   \n",
       "00sab00                                         0.0   \n",
       "01impala                                        0.0   \n",
       "0325home                                        0.0   \n",
       "06stidriver                                     0.0   \n",
       "\n",
       "prodId       Windex Original Glass Cleaner Refill 67.6oz (2 Liter)  \\\n",
       "userId                                                               \n",
       "00dog3                                                0.000000       \n",
       "00sab00                                              12.297268       \n",
       "01impala                                             26.133358       \n",
       "0325home                                              8.428257       \n",
       "06stidriver                                           8.428257       \n",
       "\n",
       "prodId       Yes To Carrots Nourishing Body Wash  \\\n",
       "userId                                             \n",
       "00dog3                                  0.000000   \n",
       "00sab00                                 0.000000   \n",
       "01impala                                2.213486   \n",
       "0325home                                2.886751   \n",
       "06stidriver                             2.886751   \n",
       "\n",
       "prodId       Yes To Grapefruit Rejuvenating Body Wash  \n",
       "userId                                                 \n",
       "00dog3                                       0.000000  \n",
       "00sab00                                      0.610847  \n",
       "01impala                                     3.612153  \n",
       "0325home                                     0.000000  \n",
       "06stidriver                                  0.000000  \n",
       "\n",
       "[5 rows x 254 columns]"
      ],
      "text/html": "<div>\n<style scoped>\n    .dataframe tbody tr th:only-of-type {\n        vertical-align: middle;\n    }\n\n    .dataframe tbody tr th {\n        vertical-align: top;\n    }\n\n    .dataframe thead th {\n        text-align: right;\n    }\n</style>\n<table border=\"1\" class=\"dataframe\">\n  <thead>\n    <tr style=\"text-align: right;\">\n      <th>prodId</th>\n      <th>0.6 Cu. Ft. Letter A4 Size Waterproof 30 Min. Fire File Chest</th>\n      <th>100:Complete First Season (blu-Ray)</th>\n      <th>2017-2018 Brownline174 Duraflex 14-Month Planner 8 1/2 X 11 Black</th>\n      <th>2x Ultra Era with Oxi Booster, 50fl oz</th>\n      <th>42 Dual Drop Leaf Table with 2 Madrid Chairs\"</th>\n      <th>4C Grated Parmesan Cheese 100% Natural 8oz Shaker</th>\n      <th>5302050 15/16 FCT/HOSE ADAPTOR</th>\n      <th>Africa's Best No-Lye Dual Conditioning Relaxer System Super</th>\n      <th>Alberto VO5 Salon Series Smooth Plus Sleek Shampoo</th>\n      <th>Alex Cross (dvdvideo)</th>\n      <th>...</th>\n      <th>Wagan Smartac 80watt Inverter With Usb</th>\n      <th>Walkers Stem Ginger Shortbread</th>\n      <th>Way Basics 3-Shelf Eco Narrow Bookcase Storage Shelf, Espresso - Formaldehyde Free - Lifetime Guarantee</th>\n      <th>WeatherTech 40647 14-15 Outlander Cargo Liners Behind 2nd Row, Black</th>\n      <th>Wedding Wishes Wedding Guest Book</th>\n      <th>Weleda Everon Lip Balm</th>\n      <th>Wilton Black Dots Standard Baking Cups</th>\n      <th>Windex Original Glass Cleaner Refill 67.6oz (2 Liter)</th>\n      <th>Yes To Carrots Nourishing Body Wash</th>\n      <th>Yes To Grapefruit Rejuvenating Body Wash</th>\n    </tr>\n    <tr>\n      <th>userId</th>\n      <th></th>\n      <th></th>\n      <th></th>\n      <th></th>\n      <th></th>\n      <th></th>\n      <th></th>\n      <th></th>\n      <th></th>\n      <th></th>\n      <th></th>\n      <th></th>\n      <th></th>\n      <th></th>\n      <th></th>\n      <th></th>\n      <th></th>\n      <th></th>\n      <th></th>\n      <th></th>\n      <th></th>\n    </tr>\n  </thead>\n  <tbody>\n    <tr>\n      <th>00dog3</th>\n      <td>0.0</td>\n      <td>0.000000</td>\n      <td>0.0</td>\n      <td>0.0</td>\n      <td>0.0</td>\n      <td>0.0</td>\n      <td>0.0</td>\n      <td>0.0</td>\n      <td>0.0</td>\n      <td>2.461830</td>\n      <td>...</td>\n      <td>0.000000</td>\n      <td>0.0</td>\n      <td>0.000000</td>\n      <td>0.000000</td>\n      <td>0.0</td>\n      <td>0.0</td>\n      <td>0.0</td>\n      <td>0.000000</td>\n      <td>0.000000</td>\n      <td>0.000000</td>\n    </tr>\n    <tr>\n      <th>00sab00</th>\n      <td>0.0</td>\n      <td>3.607982</td>\n      <td>0.0</td>\n      <td>0.0</td>\n      <td>0.0</td>\n      <td>0.0</td>\n      <td>0.0</td>\n      <td>0.0</td>\n      <td>0.0</td>\n      <td>8.173706</td>\n      <td>...</td>\n      <td>0.000000</td>\n      <td>0.0</td>\n      <td>2.981424</td>\n      <td>1.370578</td>\n      <td>0.0</td>\n      <td>0.0</td>\n      <td>0.0</td>\n      <td>12.297268</td>\n      <td>0.000000</td>\n      <td>0.610847</td>\n    </tr>\n    <tr>\n      <th>01impala</th>\n      <td>0.0</td>\n      <td>21.146079</td>\n      <td>0.0</td>\n      <td>0.0</td>\n      <td>0.0</td>\n      <td>0.0</td>\n      <td>0.0</td>\n      <td>0.0</td>\n      <td>0.0</td>\n      <td>17.823750</td>\n      <td>...</td>\n      <td>2.213486</td>\n      <td>0.0</td>\n      <td>2.404485</td>\n      <td>1.599007</td>\n      <td>0.0</td>\n      <td>0.0</td>\n      <td>0.0</td>\n      <td>26.133358</td>\n      <td>2.213486</td>\n      <td>3.612153</td>\n    </tr>\n    <tr>\n      <th>0325home</th>\n      <td>0.0</td>\n      <td>6.827427</td>\n      <td>0.0</td>\n      <td>0.0</td>\n      <td>0.0</td>\n      <td>0.0</td>\n      <td>0.0</td>\n      <td>0.0</td>\n      <td>0.0</td>\n      <td>4.980429</td>\n      <td>...</td>\n      <td>0.000000</td>\n      <td>0.0</td>\n      <td>0.000000</td>\n      <td>0.000000</td>\n      <td>0.0</td>\n      <td>0.0</td>\n      <td>0.0</td>\n      <td>8.428257</td>\n      <td>2.886751</td>\n      <td>0.000000</td>\n    </tr>\n    <tr>\n      <th>06stidriver</th>\n      <td>0.0</td>\n      <td>6.827427</td>\n      <td>0.0</td>\n      <td>0.0</td>\n      <td>0.0</td>\n      <td>0.0</td>\n      <td>0.0</td>\n      <td>0.0</td>\n      <td>0.0</td>\n      <td>4.980429</td>\n      <td>...</td>\n      <td>0.000000</td>\n      <td>0.0</td>\n      <td>0.000000</td>\n      <td>0.000000</td>\n      <td>0.0</td>\n      <td>0.0</td>\n      <td>0.0</td>\n      <td>8.428257</td>\n      <td>2.886751</td>\n      <td>0.000000</td>\n    </tr>\n  </tbody>\n</table>\n<p>5 rows × 254 columns</p>\n</div>"
     },
     "metadata": {},
     "execution_count": 27
    }
   ],
   "source": [
    "user_final_rating = np.multiply(user_predicted_ratings, dummy_train)\n",
    "user_final_rating.head()"
   ]
  },
  {
   "cell_type": "code",
   "execution_count": 28,
   "metadata": {},
   "outputs": [],
   "source": [
    "user_final_rating.to_csv(\"./Data/fin_ratings.csv\")"
   ]
  },
  {
   "cell_type": "code",
   "execution_count": 31,
   "metadata": {},
   "outputs": [],
   "source": [
    "user_input = \"00sab00\""
   ]
  },
  {
   "cell_type": "code",
   "execution_count": 32,
   "metadata": {},
   "outputs": [
    {
     "output_type": "execute_result",
     "data": {
      "text/plain": [
       "prodId\n",
       "Godzilla 3d Includes Digital Copy Ultraviolet 3d/2d Blu-Ray/dvd        117.665604\n",
       "Planes: Fire Rescue (2 Discs) (includes Digital Copy) (blu-Ray/dvd)     62.128046\n",
       "My Big Fat Greek Wedding 2 (blu-Ray + Dvd + Digital)                    56.709732\n",
       "The Resident Evil Collection 5 Discs (blu-Ray)                          49.255336\n",
       "Clorox Disinfecting Wipes Value Pack Scented 150 Ct Total               39.555878\n",
       "                                                                          ...    \n",
       "J.R. Watkins Hand Cream, Lemon Cream                                     0.000000\n",
       "J.a. Henckels International 4-Pc Everedge Plus Steak Knife Set           0.000000\n",
       "JNH Lifestyles Goldstar 3 Person FAR Infrared Sauna                      0.000000\n",
       "Jergens Extra Moisturizing Liquid Hand Wash, 7.5oz                       0.000000\n",
       "La Tortilla Factory Hand Made Style Tortillas Flour                      0.000000\n",
       "Name: 00sab00, Length: 254, dtype: float64"
      ]
     },
     "metadata": {},
     "execution_count": 32
    }
   ],
   "source": [
    "d = user_final_rating.loc[user_input].sort_values(ascending=False)\n",
    "d.head()"
   ]
  },
  {
   "cell_type": "code",
   "execution_count": 37,
   "metadata": {},
   "outputs": [
    {
     "output_type": "execute_result",
     "data": {
      "text/plain": [
       "['Godzilla 3d Includes Digital Copy Ultraviolet 3d/2d Blu-Ray/dvd',\n",
       " 'Planes: Fire Rescue (2 Discs) (includes Digital Copy) (blu-Ray/dvd)',\n",
       " 'My Big Fat Greek Wedding 2 (blu-Ray + Dvd + Digital)',\n",
       " 'The Resident Evil Collection 5 Discs (blu-Ray)',\n",
       " 'Clorox Disinfecting Wipes Value Pack Scented 150 Ct Total']"
      ]
     },
     "metadata": {},
     "execution_count": 37
    }
   ],
   "source": [
    "d[:5].index.tolist()"
   ]
  },
  {
   "source": [
    "# Evaluation User User"
   ],
   "cell_type": "markdown",
   "metadata": {}
  },
  {
   "cell_type": "code",
   "execution_count": 29,
   "metadata": {},
   "outputs": [
    {
     "output_type": "execute_result",
     "data": {
      "text/plain": [
       "(1059, 3)"
      ]
     },
     "metadata": {},
     "execution_count": 29
    }
   ],
   "source": [
    "common = test[test['userId'].isin(train['userId'])]\n",
    "common.shape"
   ]
  },
  {
   "cell_type": "code",
   "execution_count": 30,
   "metadata": {},
   "outputs": [
    {
     "output_type": "execute_result",
     "data": {
      "text/plain": [
       "mike          7\n",
       "lisa          6\n",
       "mimi          5\n",
       "jenn          5\n",
       "jessica       4\n",
       "             ..\n",
       "squirrel      1\n",
       "chucky        1\n",
       "toots         1\n",
       "lmg1135       1\n",
       "brandi1982    1\n",
       "Name: userId, Length: 893, dtype: int64"
      ]
     },
     "metadata": {},
     "execution_count": 30
    }
   ],
   "source": [
    "common['userId'].value_counts()"
   ]
  },
  {
   "cell_type": "code",
   "execution_count": 31,
   "metadata": {},
   "outputs": [
    {
     "output_type": "execute_result",
     "data": {
      "text/plain": [
       "(893, 119)"
      ]
     },
     "metadata": {},
     "execution_count": 31
    }
   ],
   "source": [
    "common_user_based_matrix = common.pivot(index='userId', columns='prodId', values='rating')\n",
    "common_user_based_matrix.shape"
   ]
  },
  {
   "cell_type": "code",
   "execution_count": 32,
   "metadata": {},
   "outputs": [
    {
     "output_type": "execute_result",
     "data": {
      "text/plain": [
       "prodId   0.6 Cu. Ft. Letter A4 Size Waterproof 30 Min. Fire File Chest  \\\n",
       "userId                                                                   \n",
       "00sab00                                                NaN               \n",
       "aaron                                                  NaN               \n",
       "abbey                                                  NaN               \n",
       "abbi                                                   NaN               \n",
       "abby                                                   NaN               \n",
       "...                                                    ...               \n",
       "yohnie1                                                NaN               \n",
       "yummy                                                  NaN               \n",
       "zippy                                                  NaN               \n",
       "zitro                                                  NaN               \n",
       "zmom                                                   NaN               \n",
       "\n",
       "prodId   100:Complete First Season (blu-Ray)  \\\n",
       "userId                                         \n",
       "00sab00                                  NaN   \n",
       "aaron                                    NaN   \n",
       "abbey                                    NaN   \n",
       "abbi                                     NaN   \n",
       "abby                                     NaN   \n",
       "...                                      ...   \n",
       "yohnie1                                  NaN   \n",
       "yummy                                    NaN   \n",
       "zippy                                    NaN   \n",
       "zitro                                    NaN   \n",
       "zmom                                     NaN   \n",
       "\n",
       "prodId   Africa's Best No-Lye Dual Conditioning Relaxer System Super  \\\n",
       "userId                                                                 \n",
       "00sab00                                                NaN             \n",
       "aaron                                                  NaN             \n",
       "abbey                                                  NaN             \n",
       "abbi                                                   NaN             \n",
       "abby                                                   NaN             \n",
       "...                                                    ...             \n",
       "yohnie1                                                NaN             \n",
       "yummy                                                  NaN             \n",
       "zippy                                                  NaN             \n",
       "zitro                                                  NaN             \n",
       "zmom                                                   NaN             \n",
       "\n",
       "prodId   Alex Cross (dvdvideo)  All,bran Complete Wheat Flakes, 18 Oz.  \\\n",
       "userId                                                                   \n",
       "00sab00                    NaN                                     NaN   \n",
       "aaron                      NaN                                     NaN   \n",
       "abbey                      NaN                                     NaN   \n",
       "abbi                       NaN                                     NaN   \n",
       "abby                       NaN                                     NaN   \n",
       "...                        ...                                     ...   \n",
       "yohnie1                    NaN                                     NaN   \n",
       "yummy                      NaN                                     NaN   \n",
       "zippy                      NaN                                     NaN   \n",
       "zitro                      NaN                                     NaN   \n",
       "zmom                       NaN                                     NaN   \n",
       "\n",
       "prodId   Ambi Complexion Cleansing Bar  \\\n",
       "userId                                   \n",
       "00sab00                            NaN   \n",
       "aaron                              NaN   \n",
       "abbey                              NaN   \n",
       "abbi                               NaN   \n",
       "abby                               NaN   \n",
       "...                                ...   \n",
       "yohnie1                            NaN   \n",
       "yummy                              NaN   \n",
       "zippy                              NaN   \n",
       "zitro                              NaN   \n",
       "zmom                               NaN   \n",
       "\n",
       "prodId   Arrid Extra Dry Anti-Perspirant Deodorant Spray Regular  \\\n",
       "userId                                                             \n",
       "00sab00                                                NaN         \n",
       "aaron                                                  NaN         \n",
       "abbey                                                  NaN         \n",
       "abbi                                                   NaN         \n",
       "abby                                                   NaN         \n",
       "...                                                    ...         \n",
       "yohnie1                                                NaN         \n",
       "yummy                                                  NaN         \n",
       "zippy                                                  NaN         \n",
       "zitro                                                  NaN         \n",
       "zmom                                                   NaN         \n",
       "\n",
       "prodId   Aussie Aussome Volume Shampoo, 13.5 Oz  \\\n",
       "userId                                            \n",
       "00sab00                                     NaN   \n",
       "aaron                                       NaN   \n",
       "abbey                                       NaN   \n",
       "abbi                                        NaN   \n",
       "abby                                        NaN   \n",
       "...                                         ...   \n",
       "yohnie1                                     NaN   \n",
       "yummy                                       NaN   \n",
       "zippy                                       NaN   \n",
       "zitro                                       NaN   \n",
       "zmom                                        NaN   \n",
       "\n",
       "prodId   Australian Gold Exotic Blend Lotion, SPF 4  \\\n",
       "userId                                                \n",
       "00sab00                                         NaN   \n",
       "aaron                                           NaN   \n",
       "abbey                                           NaN   \n",
       "abbi                                            NaN   \n",
       "abby                                            NaN   \n",
       "...                                             ...   \n",
       "yohnie1                                         NaN   \n",
       "yummy                                           NaN   \n",
       "zippy                                           NaN   \n",
       "zitro                                           NaN   \n",
       "zmom                                            NaN   \n",
       "\n",
       "prodId   Aveeno Baby Continuous Protection Lotion Sunscreen with Broad Spectrum SPF 55, 4oz  \\\n",
       "userId                                                                                        \n",
       "00sab00                                                NaN                                    \n",
       "aaron                                                  NaN                                    \n",
       "abbey                                                  NaN                                    \n",
       "abbi                                                   NaN                                    \n",
       "abby                                                   NaN                                    \n",
       "...                                                    ...                                    \n",
       "yohnie1                                                NaN                                    \n",
       "yummy                                                  NaN                                    \n",
       "zippy                                                  NaN                                    \n",
       "zitro                                                  NaN                                    \n",
       "zmom                                                   NaN                                    \n",
       "\n",
       "prodId   ...  Tostitos Simply Blue Corn Tortilla Chips  \\\n",
       "userId   ...                                             \n",
       "00sab00  ...                                       NaN   \n",
       "aaron    ...                                       NaN   \n",
       "abbey    ...                                       NaN   \n",
       "abbi     ...                                       NaN   \n",
       "abby     ...                                       NaN   \n",
       "...      ...                                       ...   \n",
       "yohnie1  ...                                       NaN   \n",
       "yummy    ...                                       5.0   \n",
       "zippy    ...                                       NaN   \n",
       "zitro    ...                                       NaN   \n",
       "zmom     ...                                       NaN   \n",
       "\n",
       "prodId   Various - Red Hot Blue:Tribute To Cole Porter (cd)  \\\n",
       "userId                                                        \n",
       "00sab00                                                NaN    \n",
       "aaron                                                  NaN    \n",
       "abbey                                                  NaN    \n",
       "abbi                                                   NaN    \n",
       "abby                                                   NaN    \n",
       "...                                                    ...    \n",
       "yohnie1                                                NaN    \n",
       "yummy                                                  NaN    \n",
       "zippy                                                  NaN    \n",
       "zitro                                                  NaN    \n",
       "zmom                                                   NaN    \n",
       "\n",
       "prodId   Various Artists - Choo Choo Soul (cd)  \\\n",
       "userId                                           \n",
       "00sab00                                    NaN   \n",
       "aaron                                      NaN   \n",
       "abbey                                      NaN   \n",
       "abbi                                       NaN   \n",
       "abby                                       NaN   \n",
       "...                                        ...   \n",
       "yohnie1                                    NaN   \n",
       "yummy                                      NaN   \n",
       "zippy                                      NaN   \n",
       "zitro                                      NaN   \n",
       "zmom                                       NaN   \n",
       "\n",
       "prodId   Vaseline Intensive Care Healthy Hands Stronger Nails  \\\n",
       "userId                                                          \n",
       "00sab00                                                NaN      \n",
       "aaron                                                  NaN      \n",
       "abbey                                                  NaN      \n",
       "abbi                                                   NaN      \n",
       "abby                                                   NaN      \n",
       "...                                                    ...      \n",
       "yohnie1                                                NaN      \n",
       "yummy                                                  NaN      \n",
       "zippy                                                  NaN      \n",
       "zitro                                                  NaN      \n",
       "zmom                                                   NaN      \n",
       "\n",
       "prodId   Vaseline Intensive Care Lip Therapy Cocoa Butter  \\\n",
       "userId                                                      \n",
       "00sab00                                               NaN   \n",
       "aaron                                                 NaN   \n",
       "abbey                                                 NaN   \n",
       "abbi                                                  NaN   \n",
       "abby                                                  NaN   \n",
       "...                                                   ...   \n",
       "yohnie1                                               NaN   \n",
       "yummy                                                 NaN   \n",
       "zippy                                                 NaN   \n",
       "zitro                                                 NaN   \n",
       "zmom                                                  NaN   \n",
       "\n",
       "prodId   Vicks Vaporub, Regular, 3.53oz  \\\n",
       "userId                                    \n",
       "00sab00                             NaN   \n",
       "aaron                               NaN   \n",
       "abbey                               NaN   \n",
       "abbi                                NaN   \n",
       "abby                                NaN   \n",
       "...                                 ...   \n",
       "yohnie1                             NaN   \n",
       "yummy                               NaN   \n",
       "zippy                               NaN   \n",
       "zitro                               NaN   \n",
       "zmom                                NaN   \n",
       "\n",
       "prodId   Voortman Sugar Free Fudge Chocolate Chip Cookies  \\\n",
       "userId                                                      \n",
       "00sab00                                               NaN   \n",
       "aaron                                                 NaN   \n",
       "abbey                                                 NaN   \n",
       "abbi                                                  NaN   \n",
       "abby                                                  NaN   \n",
       "...                                                   ...   \n",
       "yohnie1                                               NaN   \n",
       "yummy                                                 NaN   \n",
       "zippy                                                 NaN   \n",
       "zitro                                                 NaN   \n",
       "zmom                                                  NaN   \n",
       "\n",
       "prodId   Way Basics 3-Shelf Eco Narrow Bookcase Storage Shelf, Espresso - Formaldehyde Free - Lifetime Guarantee  \\\n",
       "userId                                                                                                             \n",
       "00sab00                                                NaN                                                         \n",
       "aaron                                                  NaN                                                         \n",
       "abbey                                                  NaN                                                         \n",
       "abbi                                                   NaN                                                         \n",
       "abby                                                   NaN                                                         \n",
       "...                                                    ...                                                         \n",
       "yohnie1                                                NaN                                                         \n",
       "yummy                                                  NaN                                                         \n",
       "zippy                                                  NaN                                                         \n",
       "zitro                                                  NaN                                                         \n",
       "zmom                                                   NaN                                                         \n",
       "\n",
       "prodId   Windex Original Glass Cleaner Refill 67.6oz (2 Liter)  \\\n",
       "userId                                                           \n",
       "00sab00                                                NaN       \n",
       "aaron                                                  NaN       \n",
       "abbey                                                  NaN       \n",
       "abbi                                                   NaN       \n",
       "abby                                                   NaN       \n",
       "...                                                    ...       \n",
       "yohnie1                                                NaN       \n",
       "yummy                                                  NaN       \n",
       "zippy                                                  NaN       \n",
       "zitro                                                  NaN       \n",
       "zmom                                                   NaN       \n",
       "\n",
       "prodId   Yes To Carrots Nourishing Body Wash  \n",
       "userId                                        \n",
       "00sab00                                  NaN  \n",
       "aaron                                    NaN  \n",
       "abbey                                    NaN  \n",
       "abbi                                     NaN  \n",
       "abby                                     NaN  \n",
       "...                                      ...  \n",
       "yohnie1                                  NaN  \n",
       "yummy                                    NaN  \n",
       "zippy                                    NaN  \n",
       "zitro                                    NaN  \n",
       "zmom                                     NaN  \n",
       "\n",
       "[893 rows x 119 columns]"
      ],
      "text/html": "<div>\n<style scoped>\n    .dataframe tbody tr th:only-of-type {\n        vertical-align: middle;\n    }\n\n    .dataframe tbody tr th {\n        vertical-align: top;\n    }\n\n    .dataframe thead th {\n        text-align: right;\n    }\n</style>\n<table border=\"1\" class=\"dataframe\">\n  <thead>\n    <tr style=\"text-align: right;\">\n      <th>prodId</th>\n      <th>0.6 Cu. Ft. Letter A4 Size Waterproof 30 Min. Fire File Chest</th>\n      <th>100:Complete First Season (blu-Ray)</th>\n      <th>Africa's Best No-Lye Dual Conditioning Relaxer System Super</th>\n      <th>Alex Cross (dvdvideo)</th>\n      <th>All,bran Complete Wheat Flakes, 18 Oz.</th>\n      <th>Ambi Complexion Cleansing Bar</th>\n      <th>Arrid Extra Dry Anti-Perspirant Deodorant Spray Regular</th>\n      <th>Aussie Aussome Volume Shampoo, 13.5 Oz</th>\n      <th>Australian Gold Exotic Blend Lotion, SPF 4</th>\n      <th>Aveeno Baby Continuous Protection Lotion Sunscreen with Broad Spectrum SPF 55, 4oz</th>\n      <th>...</th>\n      <th>Tostitos Simply Blue Corn Tortilla Chips</th>\n      <th>Various - Red Hot Blue:Tribute To Cole Porter (cd)</th>\n      <th>Various Artists - Choo Choo Soul (cd)</th>\n      <th>Vaseline Intensive Care Healthy Hands Stronger Nails</th>\n      <th>Vaseline Intensive Care Lip Therapy Cocoa Butter</th>\n      <th>Vicks Vaporub, Regular, 3.53oz</th>\n      <th>Voortman Sugar Free Fudge Chocolate Chip Cookies</th>\n      <th>Way Basics 3-Shelf Eco Narrow Bookcase Storage Shelf, Espresso - Formaldehyde Free - Lifetime Guarantee</th>\n      <th>Windex Original Glass Cleaner Refill 67.6oz (2 Liter)</th>\n      <th>Yes To Carrots Nourishing Body Wash</th>\n    </tr>\n    <tr>\n      <th>userId</th>\n      <th></th>\n      <th></th>\n      <th></th>\n      <th></th>\n      <th></th>\n      <th></th>\n      <th></th>\n      <th></th>\n      <th></th>\n      <th></th>\n      <th></th>\n      <th></th>\n      <th></th>\n      <th></th>\n      <th></th>\n      <th></th>\n      <th></th>\n      <th></th>\n      <th></th>\n      <th></th>\n      <th></th>\n    </tr>\n  </thead>\n  <tbody>\n    <tr>\n      <th>00sab00</th>\n      <td>NaN</td>\n      <td>NaN</td>\n      <td>NaN</td>\n      <td>NaN</td>\n      <td>NaN</td>\n      <td>NaN</td>\n      <td>NaN</td>\n      <td>NaN</td>\n      <td>NaN</td>\n      <td>NaN</td>\n      <td>...</td>\n      <td>NaN</td>\n      <td>NaN</td>\n      <td>NaN</td>\n      <td>NaN</td>\n      <td>NaN</td>\n      <td>NaN</td>\n      <td>NaN</td>\n      <td>NaN</td>\n      <td>NaN</td>\n      <td>NaN</td>\n    </tr>\n    <tr>\n      <th>aaron</th>\n      <td>NaN</td>\n      <td>NaN</td>\n      <td>NaN</td>\n      <td>NaN</td>\n      <td>NaN</td>\n      <td>NaN</td>\n      <td>NaN</td>\n      <td>NaN</td>\n      <td>NaN</td>\n      <td>NaN</td>\n      <td>...</td>\n      <td>NaN</td>\n      <td>NaN</td>\n      <td>NaN</td>\n      <td>NaN</td>\n      <td>NaN</td>\n      <td>NaN</td>\n      <td>NaN</td>\n      <td>NaN</td>\n      <td>NaN</td>\n      <td>NaN</td>\n    </tr>\n    <tr>\n      <th>abbey</th>\n      <td>NaN</td>\n      <td>NaN</td>\n      <td>NaN</td>\n      <td>NaN</td>\n      <td>NaN</td>\n      <td>NaN</td>\n      <td>NaN</td>\n      <td>NaN</td>\n      <td>NaN</td>\n      <td>NaN</td>\n      <td>...</td>\n      <td>NaN</td>\n      <td>NaN</td>\n      <td>NaN</td>\n      <td>NaN</td>\n      <td>NaN</td>\n      <td>NaN</td>\n      <td>NaN</td>\n      <td>NaN</td>\n      <td>NaN</td>\n      <td>NaN</td>\n    </tr>\n    <tr>\n      <th>abbi</th>\n      <td>NaN</td>\n      <td>NaN</td>\n      <td>NaN</td>\n      <td>NaN</td>\n      <td>NaN</td>\n      <td>NaN</td>\n      <td>NaN</td>\n      <td>NaN</td>\n      <td>NaN</td>\n      <td>NaN</td>\n      <td>...</td>\n      <td>NaN</td>\n      <td>NaN</td>\n      <td>NaN</td>\n      <td>NaN</td>\n      <td>NaN</td>\n      <td>NaN</td>\n      <td>NaN</td>\n      <td>NaN</td>\n      <td>NaN</td>\n      <td>NaN</td>\n    </tr>\n    <tr>\n      <th>abby</th>\n      <td>NaN</td>\n      <td>NaN</td>\n      <td>NaN</td>\n      <td>NaN</td>\n      <td>NaN</td>\n      <td>NaN</td>\n      <td>NaN</td>\n      <td>NaN</td>\n      <td>NaN</td>\n      <td>NaN</td>\n      <td>...</td>\n      <td>NaN</td>\n      <td>NaN</td>\n      <td>NaN</td>\n      <td>NaN</td>\n      <td>NaN</td>\n      <td>NaN</td>\n      <td>NaN</td>\n      <td>NaN</td>\n      <td>NaN</td>\n      <td>NaN</td>\n    </tr>\n    <tr>\n      <th>...</th>\n      <td>...</td>\n      <td>...</td>\n      <td>...</td>\n      <td>...</td>\n      <td>...</td>\n      <td>...</td>\n      <td>...</td>\n      <td>...</td>\n      <td>...</td>\n      <td>...</td>\n      <td>...</td>\n      <td>...</td>\n      <td>...</td>\n      <td>...</td>\n      <td>...</td>\n      <td>...</td>\n      <td>...</td>\n      <td>...</td>\n      <td>...</td>\n      <td>...</td>\n      <td>...</td>\n    </tr>\n    <tr>\n      <th>yohnie1</th>\n      <td>NaN</td>\n      <td>NaN</td>\n      <td>NaN</td>\n      <td>NaN</td>\n      <td>NaN</td>\n      <td>NaN</td>\n      <td>NaN</td>\n      <td>NaN</td>\n      <td>NaN</td>\n      <td>NaN</td>\n      <td>...</td>\n      <td>NaN</td>\n      <td>NaN</td>\n      <td>NaN</td>\n      <td>NaN</td>\n      <td>NaN</td>\n      <td>NaN</td>\n      <td>NaN</td>\n      <td>NaN</td>\n      <td>NaN</td>\n      <td>NaN</td>\n    </tr>\n    <tr>\n      <th>yummy</th>\n      <td>NaN</td>\n      <td>NaN</td>\n      <td>NaN</td>\n      <td>NaN</td>\n      <td>NaN</td>\n      <td>NaN</td>\n      <td>NaN</td>\n      <td>NaN</td>\n      <td>NaN</td>\n      <td>NaN</td>\n      <td>...</td>\n      <td>5.0</td>\n      <td>NaN</td>\n      <td>NaN</td>\n      <td>NaN</td>\n      <td>NaN</td>\n      <td>NaN</td>\n      <td>NaN</td>\n      <td>NaN</td>\n      <td>NaN</td>\n      <td>NaN</td>\n    </tr>\n    <tr>\n      <th>zippy</th>\n      <td>NaN</td>\n      <td>NaN</td>\n      <td>NaN</td>\n      <td>NaN</td>\n      <td>NaN</td>\n      <td>NaN</td>\n      <td>NaN</td>\n      <td>NaN</td>\n      <td>NaN</td>\n      <td>NaN</td>\n      <td>...</td>\n      <td>NaN</td>\n      <td>NaN</td>\n      <td>NaN</td>\n      <td>NaN</td>\n      <td>NaN</td>\n      <td>NaN</td>\n      <td>NaN</td>\n      <td>NaN</td>\n      <td>NaN</td>\n      <td>NaN</td>\n    </tr>\n    <tr>\n      <th>zitro</th>\n      <td>NaN</td>\n      <td>NaN</td>\n      <td>NaN</td>\n      <td>NaN</td>\n      <td>NaN</td>\n      <td>NaN</td>\n      <td>NaN</td>\n      <td>NaN</td>\n      <td>NaN</td>\n      <td>NaN</td>\n      <td>...</td>\n      <td>NaN</td>\n      <td>NaN</td>\n      <td>NaN</td>\n      <td>NaN</td>\n      <td>NaN</td>\n      <td>NaN</td>\n      <td>NaN</td>\n      <td>NaN</td>\n      <td>NaN</td>\n      <td>NaN</td>\n    </tr>\n    <tr>\n      <th>zmom</th>\n      <td>NaN</td>\n      <td>NaN</td>\n      <td>NaN</td>\n      <td>NaN</td>\n      <td>NaN</td>\n      <td>NaN</td>\n      <td>NaN</td>\n      <td>NaN</td>\n      <td>NaN</td>\n      <td>NaN</td>\n      <td>...</td>\n      <td>NaN</td>\n      <td>NaN</td>\n      <td>NaN</td>\n      <td>NaN</td>\n      <td>NaN</td>\n      <td>NaN</td>\n      <td>NaN</td>\n      <td>NaN</td>\n      <td>NaN</td>\n      <td>NaN</td>\n    </tr>\n  </tbody>\n</table>\n<p>893 rows × 119 columns</p>\n</div>"
     },
     "metadata": {},
     "execution_count": 32
    }
   ],
   "source": [
    "common_user_based_matrix"
   ]
  },
  {
   "cell_type": "code",
   "execution_count": 33,
   "metadata": {},
   "outputs": [],
   "source": [
    "user_correlation_df = pd.DataFrame(user_correlation)"
   ]
  },
  {
   "cell_type": "code",
   "execution_count": 34,
   "metadata": {},
   "outputs": [
    {
     "output_type": "execute_result",
     "data": {
      "text/plain": [
       "       0      1      2      3      4      5      6         7      8      \\\n",
       "0        1.0    0.0    0.0    0.0    0.0    0.0    0.0  0.000000    0.0   \n",
       "1        0.0    1.0    0.0    0.0    0.0    0.0    0.0  0.585206    0.0   \n",
       "2        0.0    0.0    1.0    0.0    0.0    0.0    0.0  0.468165    0.0   \n",
       "3        0.0    0.0    0.0    1.0    1.0    1.0    0.0  0.468165    0.0   \n",
       "4        0.0    0.0    0.0    1.0    1.0    1.0    0.0  0.468165    0.0   \n",
       "...      ...    ...    ...    ...    ...    ...    ...       ...    ...   \n",
       "17839    0.0    0.0    0.0    1.0    1.0    1.0    0.0  0.468165    0.0   \n",
       "17840    0.0    0.0    0.0    1.0    1.0    1.0    0.0  0.468165    0.0   \n",
       "17841    0.0    0.0    0.0    1.0    1.0    1.0    0.0  0.468165    0.0   \n",
       "17842    0.0    0.0    0.0    0.0    0.0    0.0    0.0  0.000000    0.0   \n",
       "17843    0.0    0.0    0.0    1.0    1.0    1.0    0.0  0.468165    0.0   \n",
       "\n",
       "       9      ...  17834  17835  17836  17837  17838  17839  17840  17841  \\\n",
       "0        0.0  ...    0.0    0.0    0.0    0.0    0.0    0.0    0.0    0.0   \n",
       "1        0.0  ...    0.0    0.0    0.0    0.0    0.0    0.0    0.0    0.0   \n",
       "2        0.0  ...    0.0    0.0    1.0    0.0    0.0    0.0    0.0    0.0   \n",
       "3        0.0  ...    0.0    1.0    0.0    0.0    1.0    1.0    1.0    1.0   \n",
       "4        0.0  ...    0.0    1.0    0.0    0.0    1.0    1.0    1.0    1.0   \n",
       "...      ...  ...    ...    ...    ...    ...    ...    ...    ...    ...   \n",
       "17839    0.0  ...    0.0    1.0    0.0    0.0    1.0    1.0    1.0    1.0   \n",
       "17840    0.0  ...    0.0    1.0    0.0    0.0    1.0    1.0    1.0    1.0   \n",
       "17841    0.0  ...    0.0    1.0    0.0    0.0    1.0    1.0    1.0    1.0   \n",
       "17842    1.0  ...    0.0    0.0    0.0    0.0    0.0    0.0    0.0    0.0   \n",
       "17843    0.0  ...    0.0    1.0    0.0    0.0    1.0    1.0    1.0    1.0   \n",
       "\n",
       "       17842  17843  \n",
       "0        0.0    0.0  \n",
       "1        0.0    0.0  \n",
       "2        0.0    0.0  \n",
       "3        0.0    1.0  \n",
       "4        0.0    1.0  \n",
       "...      ...    ...  \n",
       "17839    0.0    1.0  \n",
       "17840    0.0    1.0  \n",
       "17841    0.0    1.0  \n",
       "17842    1.0    0.0  \n",
       "17843    0.0    1.0  \n",
       "\n",
       "[17844 rows x 17844 columns]"
      ],
      "text/html": "<div>\n<style scoped>\n    .dataframe tbody tr th:only-of-type {\n        vertical-align: middle;\n    }\n\n    .dataframe tbody tr th {\n        vertical-align: top;\n    }\n\n    .dataframe thead th {\n        text-align: right;\n    }\n</style>\n<table border=\"1\" class=\"dataframe\">\n  <thead>\n    <tr style=\"text-align: right;\">\n      <th></th>\n      <th>0</th>\n      <th>1</th>\n      <th>2</th>\n      <th>3</th>\n      <th>4</th>\n      <th>5</th>\n      <th>6</th>\n      <th>7</th>\n      <th>8</th>\n      <th>9</th>\n      <th>...</th>\n      <th>17834</th>\n      <th>17835</th>\n      <th>17836</th>\n      <th>17837</th>\n      <th>17838</th>\n      <th>17839</th>\n      <th>17840</th>\n      <th>17841</th>\n      <th>17842</th>\n      <th>17843</th>\n    </tr>\n  </thead>\n  <tbody>\n    <tr>\n      <th>0</th>\n      <td>1.0</td>\n      <td>0.0</td>\n      <td>0.0</td>\n      <td>0.0</td>\n      <td>0.0</td>\n      <td>0.0</td>\n      <td>0.0</td>\n      <td>0.000000</td>\n      <td>0.0</td>\n      <td>0.0</td>\n      <td>...</td>\n      <td>0.0</td>\n      <td>0.0</td>\n      <td>0.0</td>\n      <td>0.0</td>\n      <td>0.0</td>\n      <td>0.0</td>\n      <td>0.0</td>\n      <td>0.0</td>\n      <td>0.0</td>\n      <td>0.0</td>\n    </tr>\n    <tr>\n      <th>1</th>\n      <td>0.0</td>\n      <td>1.0</td>\n      <td>0.0</td>\n      <td>0.0</td>\n      <td>0.0</td>\n      <td>0.0</td>\n      <td>0.0</td>\n      <td>0.585206</td>\n      <td>0.0</td>\n      <td>0.0</td>\n      <td>...</td>\n      <td>0.0</td>\n      <td>0.0</td>\n      <td>0.0</td>\n      <td>0.0</td>\n      <td>0.0</td>\n      <td>0.0</td>\n      <td>0.0</td>\n      <td>0.0</td>\n      <td>0.0</td>\n      <td>0.0</td>\n    </tr>\n    <tr>\n      <th>2</th>\n      <td>0.0</td>\n      <td>0.0</td>\n      <td>1.0</td>\n      <td>0.0</td>\n      <td>0.0</td>\n      <td>0.0</td>\n      <td>0.0</td>\n      <td>0.468165</td>\n      <td>0.0</td>\n      <td>0.0</td>\n      <td>...</td>\n      <td>0.0</td>\n      <td>0.0</td>\n      <td>1.0</td>\n      <td>0.0</td>\n      <td>0.0</td>\n      <td>0.0</td>\n      <td>0.0</td>\n      <td>0.0</td>\n      <td>0.0</td>\n      <td>0.0</td>\n    </tr>\n    <tr>\n      <th>3</th>\n      <td>0.0</td>\n      <td>0.0</td>\n      <td>0.0</td>\n      <td>1.0</td>\n      <td>1.0</td>\n      <td>1.0</td>\n      <td>0.0</td>\n      <td>0.468165</td>\n      <td>0.0</td>\n      <td>0.0</td>\n      <td>...</td>\n      <td>0.0</td>\n      <td>1.0</td>\n      <td>0.0</td>\n      <td>0.0</td>\n      <td>1.0</td>\n      <td>1.0</td>\n      <td>1.0</td>\n      <td>1.0</td>\n      <td>0.0</td>\n      <td>1.0</td>\n    </tr>\n    <tr>\n      <th>4</th>\n      <td>0.0</td>\n      <td>0.0</td>\n      <td>0.0</td>\n      <td>1.0</td>\n      <td>1.0</td>\n      <td>1.0</td>\n      <td>0.0</td>\n      <td>0.468165</td>\n      <td>0.0</td>\n      <td>0.0</td>\n      <td>...</td>\n      <td>0.0</td>\n      <td>1.0</td>\n      <td>0.0</td>\n      <td>0.0</td>\n      <td>1.0</td>\n      <td>1.0</td>\n      <td>1.0</td>\n      <td>1.0</td>\n      <td>0.0</td>\n      <td>1.0</td>\n    </tr>\n    <tr>\n      <th>...</th>\n      <td>...</td>\n      <td>...</td>\n      <td>...</td>\n      <td>...</td>\n      <td>...</td>\n      <td>...</td>\n      <td>...</td>\n      <td>...</td>\n      <td>...</td>\n      <td>...</td>\n      <td>...</td>\n      <td>...</td>\n      <td>...</td>\n      <td>...</td>\n      <td>...</td>\n      <td>...</td>\n      <td>...</td>\n      <td>...</td>\n      <td>...</td>\n      <td>...</td>\n      <td>...</td>\n    </tr>\n    <tr>\n      <th>17839</th>\n      <td>0.0</td>\n      <td>0.0</td>\n      <td>0.0</td>\n      <td>1.0</td>\n      <td>1.0</td>\n      <td>1.0</td>\n      <td>0.0</td>\n      <td>0.468165</td>\n      <td>0.0</td>\n      <td>0.0</td>\n      <td>...</td>\n      <td>0.0</td>\n      <td>1.0</td>\n      <td>0.0</td>\n      <td>0.0</td>\n      <td>1.0</td>\n      <td>1.0</td>\n      <td>1.0</td>\n      <td>1.0</td>\n      <td>0.0</td>\n      <td>1.0</td>\n    </tr>\n    <tr>\n      <th>17840</th>\n      <td>0.0</td>\n      <td>0.0</td>\n      <td>0.0</td>\n      <td>1.0</td>\n      <td>1.0</td>\n      <td>1.0</td>\n      <td>0.0</td>\n      <td>0.468165</td>\n      <td>0.0</td>\n      <td>0.0</td>\n      <td>...</td>\n      <td>0.0</td>\n      <td>1.0</td>\n      <td>0.0</td>\n      <td>0.0</td>\n      <td>1.0</td>\n      <td>1.0</td>\n      <td>1.0</td>\n      <td>1.0</td>\n      <td>0.0</td>\n      <td>1.0</td>\n    </tr>\n    <tr>\n      <th>17841</th>\n      <td>0.0</td>\n      <td>0.0</td>\n      <td>0.0</td>\n      <td>1.0</td>\n      <td>1.0</td>\n      <td>1.0</td>\n      <td>0.0</td>\n      <td>0.468165</td>\n      <td>0.0</td>\n      <td>0.0</td>\n      <td>...</td>\n      <td>0.0</td>\n      <td>1.0</td>\n      <td>0.0</td>\n      <td>0.0</td>\n      <td>1.0</td>\n      <td>1.0</td>\n      <td>1.0</td>\n      <td>1.0</td>\n      <td>0.0</td>\n      <td>1.0</td>\n    </tr>\n    <tr>\n      <th>17842</th>\n      <td>0.0</td>\n      <td>0.0</td>\n      <td>0.0</td>\n      <td>0.0</td>\n      <td>0.0</td>\n      <td>0.0</td>\n      <td>0.0</td>\n      <td>0.000000</td>\n      <td>0.0</td>\n      <td>1.0</td>\n      <td>...</td>\n      <td>0.0</td>\n      <td>0.0</td>\n      <td>0.0</td>\n      <td>0.0</td>\n      <td>0.0</td>\n      <td>0.0</td>\n      <td>0.0</td>\n      <td>0.0</td>\n      <td>1.0</td>\n      <td>0.0</td>\n    </tr>\n    <tr>\n      <th>17843</th>\n      <td>0.0</td>\n      <td>0.0</td>\n      <td>0.0</td>\n      <td>1.0</td>\n      <td>1.0</td>\n      <td>1.0</td>\n      <td>0.0</td>\n      <td>0.468165</td>\n      <td>0.0</td>\n      <td>0.0</td>\n      <td>...</td>\n      <td>0.0</td>\n      <td>1.0</td>\n      <td>0.0</td>\n      <td>0.0</td>\n      <td>1.0</td>\n      <td>1.0</td>\n      <td>1.0</td>\n      <td>1.0</td>\n      <td>0.0</td>\n      <td>1.0</td>\n    </tr>\n  </tbody>\n</table>\n<p>17844 rows × 17844 columns</p>\n</div>"
     },
     "metadata": {},
     "execution_count": 34
    }
   ],
   "source": [
    "user_correlation_df"
   ]
  },
  {
   "cell_type": "code",
   "execution_count": 35,
   "metadata": {},
   "outputs": [],
   "source": [
    "user_correlation_df.index = df_pivot.index\n",
    "user_correlation_df.columns = df_pivot.index"
   ]
  },
  {
   "cell_type": "code",
   "execution_count": 36,
   "metadata": {},
   "outputs": [
    {
     "output_type": "execute_result",
     "data": {
      "text/plain": [
       "userId       00dog3  00sab00  01impala  0325home  06stidriver  1.11E+24  \\\n",
       "userId                                                                    \n",
       "00dog3          1.0      0.0       0.0       0.0          0.0       0.0   \n",
       "00sab00         0.0      1.0       0.0       0.0          0.0       0.0   \n",
       "01impala        0.0      0.0       1.0       0.0          0.0       0.0   \n",
       "0325home        0.0      0.0       0.0       1.0          1.0       1.0   \n",
       "06stidriver     0.0      0.0       0.0       1.0          1.0       1.0   \n",
       "...             ...      ...       ...       ...          ...       ...   \n",
       "zxcsdfd         0.0      0.0       0.0       1.0          1.0       1.0   \n",
       "zxjki           0.0      0.0       0.0       1.0          1.0       1.0   \n",
       "zyiah4          0.0      0.0       0.0       1.0          1.0       1.0   \n",
       "zzdiane         0.0      0.0       0.0       0.0          0.0       0.0   \n",
       "zzz1127         0.0      0.0       0.0       1.0          1.0       1.0   \n",
       "\n",
       "userId       10ten      1234  1234asdf  123cat123  ...  zozo0o  zsarah  zt313  \\\n",
       "userId                                             ...                          \n",
       "00dog3         0.0  0.000000       0.0        0.0  ...     0.0     0.0    0.0   \n",
       "00sab00        0.0  0.585206       0.0        0.0  ...     0.0     0.0    0.0   \n",
       "01impala       0.0  0.468165       0.0        0.0  ...     0.0     0.0    1.0   \n",
       "0325home       0.0  0.468165       0.0        0.0  ...     0.0     1.0    0.0   \n",
       "06stidriver    0.0  0.468165       0.0        0.0  ...     0.0     1.0    0.0   \n",
       "...            ...       ...       ...        ...  ...     ...     ...    ...   \n",
       "zxcsdfd        0.0  0.468165       0.0        0.0  ...     0.0     1.0    0.0   \n",
       "zxjki          0.0  0.468165       0.0        0.0  ...     0.0     1.0    0.0   \n",
       "zyiah4         0.0  0.468165       0.0        0.0  ...     0.0     1.0    0.0   \n",
       "zzdiane        0.0  0.000000       0.0        1.0  ...     0.0     0.0    0.0   \n",
       "zzz1127        0.0  0.468165       0.0        0.0  ...     0.0     1.0    0.0   \n",
       "\n",
       "userId       zuttle  zwithanx  zxcsdfd  zxjki  zyiah4  zzdiane  zzz1127  \n",
       "userId                                                                   \n",
       "00dog3          0.0       0.0      0.0    0.0     0.0      0.0      0.0  \n",
       "00sab00         0.0       0.0      0.0    0.0     0.0      0.0      0.0  \n",
       "01impala        0.0       0.0      0.0    0.0     0.0      0.0      0.0  \n",
       "0325home        0.0       1.0      1.0    1.0     1.0      0.0      1.0  \n",
       "06stidriver     0.0       1.0      1.0    1.0     1.0      0.0      1.0  \n",
       "...             ...       ...      ...    ...     ...      ...      ...  \n",
       "zxcsdfd         0.0       1.0      1.0    1.0     1.0      0.0      1.0  \n",
       "zxjki           0.0       1.0      1.0    1.0     1.0      0.0      1.0  \n",
       "zyiah4          0.0       1.0      1.0    1.0     1.0      0.0      1.0  \n",
       "zzdiane         0.0       0.0      0.0    0.0     0.0      1.0      0.0  \n",
       "zzz1127         0.0       1.0      1.0    1.0     1.0      0.0      1.0  \n",
       "\n",
       "[17844 rows x 17844 columns]"
      ],
      "text/html": "<div>\n<style scoped>\n    .dataframe tbody tr th:only-of-type {\n        vertical-align: middle;\n    }\n\n    .dataframe tbody tr th {\n        vertical-align: top;\n    }\n\n    .dataframe thead th {\n        text-align: right;\n    }\n</style>\n<table border=\"1\" class=\"dataframe\">\n  <thead>\n    <tr style=\"text-align: right;\">\n      <th>userId</th>\n      <th>00dog3</th>\n      <th>00sab00</th>\n      <th>01impala</th>\n      <th>0325home</th>\n      <th>06stidriver</th>\n      <th>1.11E+24</th>\n      <th>10ten</th>\n      <th>1234</th>\n      <th>1234asdf</th>\n      <th>123cat123</th>\n      <th>...</th>\n      <th>zozo0o</th>\n      <th>zsarah</th>\n      <th>zt313</th>\n      <th>zuttle</th>\n      <th>zwithanx</th>\n      <th>zxcsdfd</th>\n      <th>zxjki</th>\n      <th>zyiah4</th>\n      <th>zzdiane</th>\n      <th>zzz1127</th>\n    </tr>\n    <tr>\n      <th>userId</th>\n      <th></th>\n      <th></th>\n      <th></th>\n      <th></th>\n      <th></th>\n      <th></th>\n      <th></th>\n      <th></th>\n      <th></th>\n      <th></th>\n      <th></th>\n      <th></th>\n      <th></th>\n      <th></th>\n      <th></th>\n      <th></th>\n      <th></th>\n      <th></th>\n      <th></th>\n      <th></th>\n      <th></th>\n    </tr>\n  </thead>\n  <tbody>\n    <tr>\n      <th>00dog3</th>\n      <td>1.0</td>\n      <td>0.0</td>\n      <td>0.0</td>\n      <td>0.0</td>\n      <td>0.0</td>\n      <td>0.0</td>\n      <td>0.0</td>\n      <td>0.000000</td>\n      <td>0.0</td>\n      <td>0.0</td>\n      <td>...</td>\n      <td>0.0</td>\n      <td>0.0</td>\n      <td>0.0</td>\n      <td>0.0</td>\n      <td>0.0</td>\n      <td>0.0</td>\n      <td>0.0</td>\n      <td>0.0</td>\n      <td>0.0</td>\n      <td>0.0</td>\n    </tr>\n    <tr>\n      <th>00sab00</th>\n      <td>0.0</td>\n      <td>1.0</td>\n      <td>0.0</td>\n      <td>0.0</td>\n      <td>0.0</td>\n      <td>0.0</td>\n      <td>0.0</td>\n      <td>0.585206</td>\n      <td>0.0</td>\n      <td>0.0</td>\n      <td>...</td>\n      <td>0.0</td>\n      <td>0.0</td>\n      <td>0.0</td>\n      <td>0.0</td>\n      <td>0.0</td>\n      <td>0.0</td>\n      <td>0.0</td>\n      <td>0.0</td>\n      <td>0.0</td>\n      <td>0.0</td>\n    </tr>\n    <tr>\n      <th>01impala</th>\n      <td>0.0</td>\n      <td>0.0</td>\n      <td>1.0</td>\n      <td>0.0</td>\n      <td>0.0</td>\n      <td>0.0</td>\n      <td>0.0</td>\n      <td>0.468165</td>\n      <td>0.0</td>\n      <td>0.0</td>\n      <td>...</td>\n      <td>0.0</td>\n      <td>0.0</td>\n      <td>1.0</td>\n      <td>0.0</td>\n      <td>0.0</td>\n      <td>0.0</td>\n      <td>0.0</td>\n      <td>0.0</td>\n      <td>0.0</td>\n      <td>0.0</td>\n    </tr>\n    <tr>\n      <th>0325home</th>\n      <td>0.0</td>\n      <td>0.0</td>\n      <td>0.0</td>\n      <td>1.0</td>\n      <td>1.0</td>\n      <td>1.0</td>\n      <td>0.0</td>\n      <td>0.468165</td>\n      <td>0.0</td>\n      <td>0.0</td>\n      <td>...</td>\n      <td>0.0</td>\n      <td>1.0</td>\n      <td>0.0</td>\n      <td>0.0</td>\n      <td>1.0</td>\n      <td>1.0</td>\n      <td>1.0</td>\n      <td>1.0</td>\n      <td>0.0</td>\n      <td>1.0</td>\n    </tr>\n    <tr>\n      <th>06stidriver</th>\n      <td>0.0</td>\n      <td>0.0</td>\n      <td>0.0</td>\n      <td>1.0</td>\n      <td>1.0</td>\n      <td>1.0</td>\n      <td>0.0</td>\n      <td>0.468165</td>\n      <td>0.0</td>\n      <td>0.0</td>\n      <td>...</td>\n      <td>0.0</td>\n      <td>1.0</td>\n      <td>0.0</td>\n      <td>0.0</td>\n      <td>1.0</td>\n      <td>1.0</td>\n      <td>1.0</td>\n      <td>1.0</td>\n      <td>0.0</td>\n      <td>1.0</td>\n    </tr>\n    <tr>\n      <th>...</th>\n      <td>...</td>\n      <td>...</td>\n      <td>...</td>\n      <td>...</td>\n      <td>...</td>\n      <td>...</td>\n      <td>...</td>\n      <td>...</td>\n      <td>...</td>\n      <td>...</td>\n      <td>...</td>\n      <td>...</td>\n      <td>...</td>\n      <td>...</td>\n      <td>...</td>\n      <td>...</td>\n      <td>...</td>\n      <td>...</td>\n      <td>...</td>\n      <td>...</td>\n      <td>...</td>\n    </tr>\n    <tr>\n      <th>zxcsdfd</th>\n      <td>0.0</td>\n      <td>0.0</td>\n      <td>0.0</td>\n      <td>1.0</td>\n      <td>1.0</td>\n      <td>1.0</td>\n      <td>0.0</td>\n      <td>0.468165</td>\n      <td>0.0</td>\n      <td>0.0</td>\n      <td>...</td>\n      <td>0.0</td>\n      <td>1.0</td>\n      <td>0.0</td>\n      <td>0.0</td>\n      <td>1.0</td>\n      <td>1.0</td>\n      <td>1.0</td>\n      <td>1.0</td>\n      <td>0.0</td>\n      <td>1.0</td>\n    </tr>\n    <tr>\n      <th>zxjki</th>\n      <td>0.0</td>\n      <td>0.0</td>\n      <td>0.0</td>\n      <td>1.0</td>\n      <td>1.0</td>\n      <td>1.0</td>\n      <td>0.0</td>\n      <td>0.468165</td>\n      <td>0.0</td>\n      <td>0.0</td>\n      <td>...</td>\n      <td>0.0</td>\n      <td>1.0</td>\n      <td>0.0</td>\n      <td>0.0</td>\n      <td>1.0</td>\n      <td>1.0</td>\n      <td>1.0</td>\n      <td>1.0</td>\n      <td>0.0</td>\n      <td>1.0</td>\n    </tr>\n    <tr>\n      <th>zyiah4</th>\n      <td>0.0</td>\n      <td>0.0</td>\n      <td>0.0</td>\n      <td>1.0</td>\n      <td>1.0</td>\n      <td>1.0</td>\n      <td>0.0</td>\n      <td>0.468165</td>\n      <td>0.0</td>\n      <td>0.0</td>\n      <td>...</td>\n      <td>0.0</td>\n      <td>1.0</td>\n      <td>0.0</td>\n      <td>0.0</td>\n      <td>1.0</td>\n      <td>1.0</td>\n      <td>1.0</td>\n      <td>1.0</td>\n      <td>0.0</td>\n      <td>1.0</td>\n    </tr>\n    <tr>\n      <th>zzdiane</th>\n      <td>0.0</td>\n      <td>0.0</td>\n      <td>0.0</td>\n      <td>0.0</td>\n      <td>0.0</td>\n      <td>0.0</td>\n      <td>0.0</td>\n      <td>0.000000</td>\n      <td>0.0</td>\n      <td>1.0</td>\n      <td>...</td>\n      <td>0.0</td>\n      <td>0.0</td>\n      <td>0.0</td>\n      <td>0.0</td>\n      <td>0.0</td>\n      <td>0.0</td>\n      <td>0.0</td>\n      <td>0.0</td>\n      <td>1.0</td>\n      <td>0.0</td>\n    </tr>\n    <tr>\n      <th>zzz1127</th>\n      <td>0.0</td>\n      <td>0.0</td>\n      <td>0.0</td>\n      <td>1.0</td>\n      <td>1.0</td>\n      <td>1.0</td>\n      <td>0.0</td>\n      <td>0.468165</td>\n      <td>0.0</td>\n      <td>0.0</td>\n      <td>...</td>\n      <td>0.0</td>\n      <td>1.0</td>\n      <td>0.0</td>\n      <td>0.0</td>\n      <td>1.0</td>\n      <td>1.0</td>\n      <td>1.0</td>\n      <td>1.0</td>\n      <td>0.0</td>\n      <td>1.0</td>\n    </tr>\n  </tbody>\n</table>\n<p>17844 rows × 17844 columns</p>\n</div>"
     },
     "metadata": {},
     "execution_count": 36
    }
   ],
   "source": [
    "user_correlation_df"
   ]
  },
  {
   "cell_type": "code",
   "execution_count": 37,
   "metadata": {},
   "outputs": [],
   "source": [
    "list_name = common['userId'].tolist()\n",
    "\n",
    "user_correlation_df_1 = user_correlation_df[user_correlation_df.index.isin(list_name)]\n",
    "user_correlation_df_1 = user_correlation_df_1[user_correlation_df_1.index.tolist()]"
   ]
  },
  {
   "cell_type": "code",
   "execution_count": 38,
   "metadata": {},
   "outputs": [
    {
     "output_type": "execute_result",
     "data": {
      "text/plain": [
       "764"
      ]
     },
     "metadata": {},
     "execution_count": 38
    }
   ],
   "source": [
    "lis = user_correlation_df_1.index.tolist()\n",
    "len([x for x in lis if user_correlation_df_1.loc[x, x] == 1.0])"
   ]
  },
  {
   "cell_type": "code",
   "execution_count": 39,
   "metadata": {},
   "outputs": [],
   "source": [
    "user_correlation_df_1[user_correlation_df_1<0]=0"
   ]
  },
  {
   "cell_type": "code",
   "execution_count": 40,
   "metadata": {},
   "outputs": [
    {
     "output_type": "execute_result",
     "data": {
      "text/plain": [
       "array([[ 0.        ,  6.03363701,  0.        , ...,  0.        ,\n",
       "         0.        ,  0.        ],\n",
       "       [ 0.        ,  3.23942947,  0.        , ...,  0.        ,\n",
       "         0.        ,  0.        ],\n",
       "       [ 0.        ,  0.        ,  0.        , ...,  0.        ,\n",
       "         4.63195092,  0.        ],\n",
       "       ...,\n",
       "       [ 0.        , 11.77979945,  0.        , ...,  0.        ,\n",
       "         1.38564065,  0.        ],\n",
       "       [ 0.        ,  0.        ,  0.        , ...,  0.        ,\n",
       "         2.30940108,  3.53553391],\n",
       "       [ 0.        ,  0.        ,  0.        , ...,  0.        ,\n",
       "         0.        ,  0.        ]])"
      ]
     },
     "metadata": {},
     "execution_count": 40
    }
   ],
   "source": [
    "common_user_predicted_ratings = np.dot(user_correlation_df_1, common_user_based_matrix.fillna(0))\n",
    "common_user_predicted_ratings"
   ]
  },
  {
   "cell_type": "code",
   "execution_count": 41,
   "metadata": {},
   "outputs": [],
   "source": [
    "dummy_test = common.copy()\n",
    "\n",
    "dummy_test['rating'] = dummy_test['rating'].apply(lambda x: 1 if x>=1 else 0)\n",
    "dummy_test = dummy_test.pivot_table(index='userId', columns='prodId', values='rating').fillna(0)"
   ]
  },
  {
   "cell_type": "code",
   "execution_count": 42,
   "metadata": {},
   "outputs": [
    {
     "output_type": "execute_result",
     "data": {
      "text/plain": [
       "prodId   0.6 Cu. Ft. Letter A4 Size Waterproof 30 Min. Fire File Chest  \\\n",
       "userId                                                                   \n",
       "00sab00                                                0.0               \n",
       "aaron                                                  0.0               \n",
       "abbey                                                  0.0               \n",
       "abbi                                                   0.0               \n",
       "abby                                                   0.0               \n",
       "...                                                    ...               \n",
       "yohnie1                                                0.0               \n",
       "yummy                                                  0.0               \n",
       "zippy                                                  0.0               \n",
       "zitro                                                  0.0               \n",
       "zmom                                                   0.0               \n",
       "\n",
       "prodId   100:Complete First Season (blu-Ray)  \\\n",
       "userId                                         \n",
       "00sab00                                  0.0   \n",
       "aaron                                    0.0   \n",
       "abbey                                    0.0   \n",
       "abbi                                     0.0   \n",
       "abby                                     0.0   \n",
       "...                                      ...   \n",
       "yohnie1                                  0.0   \n",
       "yummy                                    0.0   \n",
       "zippy                                    0.0   \n",
       "zitro                                    0.0   \n",
       "zmom                                     0.0   \n",
       "\n",
       "prodId   Africa's Best No-Lye Dual Conditioning Relaxer System Super  \\\n",
       "userId                                                                 \n",
       "00sab00                                                0.0             \n",
       "aaron                                                  0.0             \n",
       "abbey                                                  0.0             \n",
       "abbi                                                   0.0             \n",
       "abby                                                   0.0             \n",
       "...                                                    ...             \n",
       "yohnie1                                                0.0             \n",
       "yummy                                                  0.0             \n",
       "zippy                                                  0.0             \n",
       "zitro                                                  0.0             \n",
       "zmom                                                   0.0             \n",
       "\n",
       "prodId   Alex Cross (dvdvideo)  All,bran Complete Wheat Flakes, 18 Oz.  \\\n",
       "userId                                                                   \n",
       "00sab00                    0.0                                     0.0   \n",
       "aaron                      0.0                                     0.0   \n",
       "abbey                      0.0                                     0.0   \n",
       "abbi                       0.0                                     0.0   \n",
       "abby                       0.0                                     0.0   \n",
       "...                        ...                                     ...   \n",
       "yohnie1                    0.0                                     0.0   \n",
       "yummy                      0.0                                     0.0   \n",
       "zippy                      0.0                                     0.0   \n",
       "zitro                      0.0                                     0.0   \n",
       "zmom                       0.0                                     0.0   \n",
       "\n",
       "prodId   Ambi Complexion Cleansing Bar  \\\n",
       "userId                                   \n",
       "00sab00                            0.0   \n",
       "aaron                              0.0   \n",
       "abbey                              0.0   \n",
       "abbi                               0.0   \n",
       "abby                               0.0   \n",
       "...                                ...   \n",
       "yohnie1                            0.0   \n",
       "yummy                              0.0   \n",
       "zippy                              0.0   \n",
       "zitro                              0.0   \n",
       "zmom                               0.0   \n",
       "\n",
       "prodId   Arrid Extra Dry Anti-Perspirant Deodorant Spray Regular  \\\n",
       "userId                                                             \n",
       "00sab00                                                0.0         \n",
       "aaron                                                  0.0         \n",
       "abbey                                                  0.0         \n",
       "abbi                                                   0.0         \n",
       "abby                                                   0.0         \n",
       "...                                                    ...         \n",
       "yohnie1                                                0.0         \n",
       "yummy                                                  0.0         \n",
       "zippy                                                  0.0         \n",
       "zitro                                                  0.0         \n",
       "zmom                                                   0.0         \n",
       "\n",
       "prodId   Aussie Aussome Volume Shampoo, 13.5 Oz  \\\n",
       "userId                                            \n",
       "00sab00                                     0.0   \n",
       "aaron                                       0.0   \n",
       "abbey                                       0.0   \n",
       "abbi                                        0.0   \n",
       "abby                                        0.0   \n",
       "...                                         ...   \n",
       "yohnie1                                     0.0   \n",
       "yummy                                       0.0   \n",
       "zippy                                       0.0   \n",
       "zitro                                       0.0   \n",
       "zmom                                        0.0   \n",
       "\n",
       "prodId   Australian Gold Exotic Blend Lotion, SPF 4  \\\n",
       "userId                                                \n",
       "00sab00                                         0.0   \n",
       "aaron                                           0.0   \n",
       "abbey                                           0.0   \n",
       "abbi                                            0.0   \n",
       "abby                                            0.0   \n",
       "...                                             ...   \n",
       "yohnie1                                         0.0   \n",
       "yummy                                           0.0   \n",
       "zippy                                           0.0   \n",
       "zitro                                           0.0   \n",
       "zmom                                            0.0   \n",
       "\n",
       "prodId   Aveeno Baby Continuous Protection Lotion Sunscreen with Broad Spectrum SPF 55, 4oz  \\\n",
       "userId                                                                                        \n",
       "00sab00                                                0.0                                    \n",
       "aaron                                                  0.0                                    \n",
       "abbey                                                  0.0                                    \n",
       "abbi                                                   0.0                                    \n",
       "abby                                                   0.0                                    \n",
       "...                                                    ...                                    \n",
       "yohnie1                                                0.0                                    \n",
       "yummy                                                  0.0                                    \n",
       "zippy                                                  0.0                                    \n",
       "zitro                                                  0.0                                    \n",
       "zmom                                                   0.0                                    \n",
       "\n",
       "prodId   ...  Tostitos Simply Blue Corn Tortilla Chips  \\\n",
       "userId   ...                                             \n",
       "00sab00  ...                                       0.0   \n",
       "aaron    ...                                       0.0   \n",
       "abbey    ...                                       0.0   \n",
       "abbi     ...                                       0.0   \n",
       "abby     ...                                       0.0   \n",
       "...      ...                                       ...   \n",
       "yohnie1  ...                                       0.0   \n",
       "yummy    ...                                       1.0   \n",
       "zippy    ...                                       0.0   \n",
       "zitro    ...                                       0.0   \n",
       "zmom     ...                                       0.0   \n",
       "\n",
       "prodId   Various - Red Hot Blue:Tribute To Cole Porter (cd)  \\\n",
       "userId                                                        \n",
       "00sab00                                                0.0    \n",
       "aaron                                                  0.0    \n",
       "abbey                                                  0.0    \n",
       "abbi                                                   0.0    \n",
       "abby                                                   0.0    \n",
       "...                                                    ...    \n",
       "yohnie1                                                0.0    \n",
       "yummy                                                  0.0    \n",
       "zippy                                                  0.0    \n",
       "zitro                                                  0.0    \n",
       "zmom                                                   0.0    \n",
       "\n",
       "prodId   Various Artists - Choo Choo Soul (cd)  \\\n",
       "userId                                           \n",
       "00sab00                                    0.0   \n",
       "aaron                                      0.0   \n",
       "abbey                                      0.0   \n",
       "abbi                                       0.0   \n",
       "abby                                       0.0   \n",
       "...                                        ...   \n",
       "yohnie1                                    0.0   \n",
       "yummy                                      0.0   \n",
       "zippy                                      0.0   \n",
       "zitro                                      0.0   \n",
       "zmom                                       0.0   \n",
       "\n",
       "prodId   Vaseline Intensive Care Healthy Hands Stronger Nails  \\\n",
       "userId                                                          \n",
       "00sab00                                                0.0      \n",
       "aaron                                                  0.0      \n",
       "abbey                                                  0.0      \n",
       "abbi                                                   0.0      \n",
       "abby                                                   0.0      \n",
       "...                                                    ...      \n",
       "yohnie1                                                0.0      \n",
       "yummy                                                  0.0      \n",
       "zippy                                                  0.0      \n",
       "zitro                                                  0.0      \n",
       "zmom                                                   0.0      \n",
       "\n",
       "prodId   Vaseline Intensive Care Lip Therapy Cocoa Butter  \\\n",
       "userId                                                      \n",
       "00sab00                                               0.0   \n",
       "aaron                                                 0.0   \n",
       "abbey                                                 0.0   \n",
       "abbi                                                  0.0   \n",
       "abby                                                  0.0   \n",
       "...                                                   ...   \n",
       "yohnie1                                               0.0   \n",
       "yummy                                                 0.0   \n",
       "zippy                                                 0.0   \n",
       "zitro                                                 0.0   \n",
       "zmom                                                  0.0   \n",
       "\n",
       "prodId   Vicks Vaporub, Regular, 3.53oz  \\\n",
       "userId                                    \n",
       "00sab00                             0.0   \n",
       "aaron                               0.0   \n",
       "abbey                               0.0   \n",
       "abbi                                0.0   \n",
       "abby                                0.0   \n",
       "...                                 ...   \n",
       "yohnie1                             0.0   \n",
       "yummy                               0.0   \n",
       "zippy                               0.0   \n",
       "zitro                               0.0   \n",
       "zmom                                0.0   \n",
       "\n",
       "prodId   Voortman Sugar Free Fudge Chocolate Chip Cookies  \\\n",
       "userId                                                      \n",
       "00sab00                                               0.0   \n",
       "aaron                                                 0.0   \n",
       "abbey                                                 0.0   \n",
       "abbi                                                  0.0   \n",
       "abby                                                  0.0   \n",
       "...                                                   ...   \n",
       "yohnie1                                               0.0   \n",
       "yummy                                                 0.0   \n",
       "zippy                                                 0.0   \n",
       "zitro                                                 0.0   \n",
       "zmom                                                  0.0   \n",
       "\n",
       "prodId   Way Basics 3-Shelf Eco Narrow Bookcase Storage Shelf, Espresso - Formaldehyde Free - Lifetime Guarantee  \\\n",
       "userId                                                                                                             \n",
       "00sab00                                                0.0                                                         \n",
       "aaron                                                  0.0                                                         \n",
       "abbey                                                  0.0                                                         \n",
       "abbi                                                   0.0                                                         \n",
       "abby                                                   0.0                                                         \n",
       "...                                                    ...                                                         \n",
       "yohnie1                                                0.0                                                         \n",
       "yummy                                                  0.0                                                         \n",
       "zippy                                                  0.0                                                         \n",
       "zitro                                                  0.0                                                         \n",
       "zmom                                                   0.0                                                         \n",
       "\n",
       "prodId   Windex Original Glass Cleaner Refill 67.6oz (2 Liter)  \\\n",
       "userId                                                           \n",
       "00sab00                                                0.0       \n",
       "aaron                                                  0.0       \n",
       "abbey                                                  0.0       \n",
       "abbi                                                   0.0       \n",
       "abby                                                   0.0       \n",
       "...                                                    ...       \n",
       "yohnie1                                                0.0       \n",
       "yummy                                                  0.0       \n",
       "zippy                                                  0.0       \n",
       "zitro                                                  0.0       \n",
       "zmom                                                   0.0       \n",
       "\n",
       "prodId   Yes To Carrots Nourishing Body Wash  \n",
       "userId                                        \n",
       "00sab00                                  0.0  \n",
       "aaron                                    0.0  \n",
       "abbey                                    0.0  \n",
       "abbi                                     0.0  \n",
       "abby                                     0.0  \n",
       "...                                      ...  \n",
       "yohnie1                                  0.0  \n",
       "yummy                                    0.0  \n",
       "zippy                                    0.0  \n",
       "zitro                                    0.0  \n",
       "zmom                                     0.0  \n",
       "\n",
       "[893 rows x 119 columns]"
      ],
      "text/html": "<div>\n<style scoped>\n    .dataframe tbody tr th:only-of-type {\n        vertical-align: middle;\n    }\n\n    .dataframe tbody tr th {\n        vertical-align: top;\n    }\n\n    .dataframe thead th {\n        text-align: right;\n    }\n</style>\n<table border=\"1\" class=\"dataframe\">\n  <thead>\n    <tr style=\"text-align: right;\">\n      <th>prodId</th>\n      <th>0.6 Cu. Ft. Letter A4 Size Waterproof 30 Min. Fire File Chest</th>\n      <th>100:Complete First Season (blu-Ray)</th>\n      <th>Africa's Best No-Lye Dual Conditioning Relaxer System Super</th>\n      <th>Alex Cross (dvdvideo)</th>\n      <th>All,bran Complete Wheat Flakes, 18 Oz.</th>\n      <th>Ambi Complexion Cleansing Bar</th>\n      <th>Arrid Extra Dry Anti-Perspirant Deodorant Spray Regular</th>\n      <th>Aussie Aussome Volume Shampoo, 13.5 Oz</th>\n      <th>Australian Gold Exotic Blend Lotion, SPF 4</th>\n      <th>Aveeno Baby Continuous Protection Lotion Sunscreen with Broad Spectrum SPF 55, 4oz</th>\n      <th>...</th>\n      <th>Tostitos Simply Blue Corn Tortilla Chips</th>\n      <th>Various - Red Hot Blue:Tribute To Cole Porter (cd)</th>\n      <th>Various Artists - Choo Choo Soul (cd)</th>\n      <th>Vaseline Intensive Care Healthy Hands Stronger Nails</th>\n      <th>Vaseline Intensive Care Lip Therapy Cocoa Butter</th>\n      <th>Vicks Vaporub, Regular, 3.53oz</th>\n      <th>Voortman Sugar Free Fudge Chocolate Chip Cookies</th>\n      <th>Way Basics 3-Shelf Eco Narrow Bookcase Storage Shelf, Espresso - Formaldehyde Free - Lifetime Guarantee</th>\n      <th>Windex Original Glass Cleaner Refill 67.6oz (2 Liter)</th>\n      <th>Yes To Carrots Nourishing Body Wash</th>\n    </tr>\n    <tr>\n      <th>userId</th>\n      <th></th>\n      <th></th>\n      <th></th>\n      <th></th>\n      <th></th>\n      <th></th>\n      <th></th>\n      <th></th>\n      <th></th>\n      <th></th>\n      <th></th>\n      <th></th>\n      <th></th>\n      <th></th>\n      <th></th>\n      <th></th>\n      <th></th>\n      <th></th>\n      <th></th>\n      <th></th>\n      <th></th>\n    </tr>\n  </thead>\n  <tbody>\n    <tr>\n      <th>00sab00</th>\n      <td>0.0</td>\n      <td>0.0</td>\n      <td>0.0</td>\n      <td>0.0</td>\n      <td>0.0</td>\n      <td>0.0</td>\n      <td>0.0</td>\n      <td>0.0</td>\n      <td>0.0</td>\n      <td>0.0</td>\n      <td>...</td>\n      <td>0.0</td>\n      <td>0.0</td>\n      <td>0.0</td>\n      <td>0.0</td>\n      <td>0.0</td>\n      <td>0.0</td>\n      <td>0.0</td>\n      <td>0.0</td>\n      <td>0.0</td>\n      <td>0.0</td>\n    </tr>\n    <tr>\n      <th>aaron</th>\n      <td>0.0</td>\n      <td>0.0</td>\n      <td>0.0</td>\n      <td>0.0</td>\n      <td>0.0</td>\n      <td>0.0</td>\n      <td>0.0</td>\n      <td>0.0</td>\n      <td>0.0</td>\n      <td>0.0</td>\n      <td>...</td>\n      <td>0.0</td>\n      <td>0.0</td>\n      <td>0.0</td>\n      <td>0.0</td>\n      <td>0.0</td>\n      <td>0.0</td>\n      <td>0.0</td>\n      <td>0.0</td>\n      <td>0.0</td>\n      <td>0.0</td>\n    </tr>\n    <tr>\n      <th>abbey</th>\n      <td>0.0</td>\n      <td>0.0</td>\n      <td>0.0</td>\n      <td>0.0</td>\n      <td>0.0</td>\n      <td>0.0</td>\n      <td>0.0</td>\n      <td>0.0</td>\n      <td>0.0</td>\n      <td>0.0</td>\n      <td>...</td>\n      <td>0.0</td>\n      <td>0.0</td>\n      <td>0.0</td>\n      <td>0.0</td>\n      <td>0.0</td>\n      <td>0.0</td>\n      <td>0.0</td>\n      <td>0.0</td>\n      <td>0.0</td>\n      <td>0.0</td>\n    </tr>\n    <tr>\n      <th>abbi</th>\n      <td>0.0</td>\n      <td>0.0</td>\n      <td>0.0</td>\n      <td>0.0</td>\n      <td>0.0</td>\n      <td>0.0</td>\n      <td>0.0</td>\n      <td>0.0</td>\n      <td>0.0</td>\n      <td>0.0</td>\n      <td>...</td>\n      <td>0.0</td>\n      <td>0.0</td>\n      <td>0.0</td>\n      <td>0.0</td>\n      <td>0.0</td>\n      <td>0.0</td>\n      <td>0.0</td>\n      <td>0.0</td>\n      <td>0.0</td>\n      <td>0.0</td>\n    </tr>\n    <tr>\n      <th>abby</th>\n      <td>0.0</td>\n      <td>0.0</td>\n      <td>0.0</td>\n      <td>0.0</td>\n      <td>0.0</td>\n      <td>0.0</td>\n      <td>0.0</td>\n      <td>0.0</td>\n      <td>0.0</td>\n      <td>0.0</td>\n      <td>...</td>\n      <td>0.0</td>\n      <td>0.0</td>\n      <td>0.0</td>\n      <td>0.0</td>\n      <td>0.0</td>\n      <td>0.0</td>\n      <td>0.0</td>\n      <td>0.0</td>\n      <td>0.0</td>\n      <td>0.0</td>\n    </tr>\n    <tr>\n      <th>...</th>\n      <td>...</td>\n      <td>...</td>\n      <td>...</td>\n      <td>...</td>\n      <td>...</td>\n      <td>...</td>\n      <td>...</td>\n      <td>...</td>\n      <td>...</td>\n      <td>...</td>\n      <td>...</td>\n      <td>...</td>\n      <td>...</td>\n      <td>...</td>\n      <td>...</td>\n      <td>...</td>\n      <td>...</td>\n      <td>...</td>\n      <td>...</td>\n      <td>...</td>\n      <td>...</td>\n    </tr>\n    <tr>\n      <th>yohnie1</th>\n      <td>0.0</td>\n      <td>0.0</td>\n      <td>0.0</td>\n      <td>0.0</td>\n      <td>0.0</td>\n      <td>0.0</td>\n      <td>0.0</td>\n      <td>0.0</td>\n      <td>0.0</td>\n      <td>0.0</td>\n      <td>...</td>\n      <td>0.0</td>\n      <td>0.0</td>\n      <td>0.0</td>\n      <td>0.0</td>\n      <td>0.0</td>\n      <td>0.0</td>\n      <td>0.0</td>\n      <td>0.0</td>\n      <td>0.0</td>\n      <td>0.0</td>\n    </tr>\n    <tr>\n      <th>yummy</th>\n      <td>0.0</td>\n      <td>0.0</td>\n      <td>0.0</td>\n      <td>0.0</td>\n      <td>0.0</td>\n      <td>0.0</td>\n      <td>0.0</td>\n      <td>0.0</td>\n      <td>0.0</td>\n      <td>0.0</td>\n      <td>...</td>\n      <td>1.0</td>\n      <td>0.0</td>\n      <td>0.0</td>\n      <td>0.0</td>\n      <td>0.0</td>\n      <td>0.0</td>\n      <td>0.0</td>\n      <td>0.0</td>\n      <td>0.0</td>\n      <td>0.0</td>\n    </tr>\n    <tr>\n      <th>zippy</th>\n      <td>0.0</td>\n      <td>0.0</td>\n      <td>0.0</td>\n      <td>0.0</td>\n      <td>0.0</td>\n      <td>0.0</td>\n      <td>0.0</td>\n      <td>0.0</td>\n      <td>0.0</td>\n      <td>0.0</td>\n      <td>...</td>\n      <td>0.0</td>\n      <td>0.0</td>\n      <td>0.0</td>\n      <td>0.0</td>\n      <td>0.0</td>\n      <td>0.0</td>\n      <td>0.0</td>\n      <td>0.0</td>\n      <td>0.0</td>\n      <td>0.0</td>\n    </tr>\n    <tr>\n      <th>zitro</th>\n      <td>0.0</td>\n      <td>0.0</td>\n      <td>0.0</td>\n      <td>0.0</td>\n      <td>0.0</td>\n      <td>0.0</td>\n      <td>0.0</td>\n      <td>0.0</td>\n      <td>0.0</td>\n      <td>0.0</td>\n      <td>...</td>\n      <td>0.0</td>\n      <td>0.0</td>\n      <td>0.0</td>\n      <td>0.0</td>\n      <td>0.0</td>\n      <td>0.0</td>\n      <td>0.0</td>\n      <td>0.0</td>\n      <td>0.0</td>\n      <td>0.0</td>\n    </tr>\n    <tr>\n      <th>zmom</th>\n      <td>0.0</td>\n      <td>0.0</td>\n      <td>0.0</td>\n      <td>0.0</td>\n      <td>0.0</td>\n      <td>0.0</td>\n      <td>0.0</td>\n      <td>0.0</td>\n      <td>0.0</td>\n      <td>0.0</td>\n      <td>...</td>\n      <td>0.0</td>\n      <td>0.0</td>\n      <td>0.0</td>\n      <td>0.0</td>\n      <td>0.0</td>\n      <td>0.0</td>\n      <td>0.0</td>\n      <td>0.0</td>\n      <td>0.0</td>\n      <td>0.0</td>\n    </tr>\n  </tbody>\n</table>\n<p>893 rows × 119 columns</p>\n</div>"
     },
     "metadata": {},
     "execution_count": 42
    }
   ],
   "source": [
    "dummy_test"
   ]
  },
  {
   "cell_type": "code",
   "execution_count": 43,
   "metadata": {},
   "outputs": [],
   "source": [
    "common_user_predicted_ratings = np.multiply(common_user_predicted_ratings, dummy_test)"
   ]
  },
  {
   "cell_type": "code",
   "execution_count": 44,
   "metadata": {},
   "outputs": [
    {
     "output_type": "execute_result",
     "data": {
      "text/plain": [
       "prodId   0.6 Cu. Ft. Letter A4 Size Waterproof 30 Min. Fire File Chest  \\\n",
       "userId                                                                   \n",
       "00sab00                                                0.0               \n",
       "aaron                                                  0.0               \n",
       "abbey                                                  0.0               \n",
       "abbi                                                   0.0               \n",
       "abby                                                   0.0               \n",
       "...                                                    ...               \n",
       "yohnie1                                                0.0               \n",
       "yummy                                                  0.0               \n",
       "zippy                                                  0.0               \n",
       "zitro                                                  0.0               \n",
       "zmom                                                   0.0               \n",
       "\n",
       "prodId   100:Complete First Season (blu-Ray)  \\\n",
       "userId                                         \n",
       "00sab00                                  0.0   \n",
       "aaron                                    0.0   \n",
       "abbey                                    0.0   \n",
       "abbi                                     0.0   \n",
       "abby                                     0.0   \n",
       "...                                      ...   \n",
       "yohnie1                                  0.0   \n",
       "yummy                                    0.0   \n",
       "zippy                                    0.0   \n",
       "zitro                                    0.0   \n",
       "zmom                                     0.0   \n",
       "\n",
       "prodId   Africa's Best No-Lye Dual Conditioning Relaxer System Super  \\\n",
       "userId                                                                 \n",
       "00sab00                                                0.0             \n",
       "aaron                                                  0.0             \n",
       "abbey                                                  0.0             \n",
       "abbi                                                   0.0             \n",
       "abby                                                   0.0             \n",
       "...                                                    ...             \n",
       "yohnie1                                                0.0             \n",
       "yummy                                                  0.0             \n",
       "zippy                                                  0.0             \n",
       "zitro                                                  0.0             \n",
       "zmom                                                   0.0             \n",
       "\n",
       "prodId   Alex Cross (dvdvideo)  All,bran Complete Wheat Flakes, 18 Oz.  \\\n",
       "userId                                                                   \n",
       "00sab00                    0.0                                     0.0   \n",
       "aaron                      0.0                                     0.0   \n",
       "abbey                      0.0                                     0.0   \n",
       "abbi                       0.0                                     0.0   \n",
       "abby                       0.0                                     0.0   \n",
       "...                        ...                                     ...   \n",
       "yohnie1                    0.0                                     0.0   \n",
       "yummy                      0.0                                     0.0   \n",
       "zippy                      0.0                                     0.0   \n",
       "zitro                      0.0                                     0.0   \n",
       "zmom                       0.0                                     0.0   \n",
       "\n",
       "prodId   Ambi Complexion Cleansing Bar  \\\n",
       "userId                                   \n",
       "00sab00                            0.0   \n",
       "aaron                              0.0   \n",
       "abbey                              0.0   \n",
       "abbi                               0.0   \n",
       "abby                               0.0   \n",
       "...                                ...   \n",
       "yohnie1                            0.0   \n",
       "yummy                              0.0   \n",
       "zippy                              0.0   \n",
       "zitro                              0.0   \n",
       "zmom                               0.0   \n",
       "\n",
       "prodId   Arrid Extra Dry Anti-Perspirant Deodorant Spray Regular  \\\n",
       "userId                                                             \n",
       "00sab00                                                0.0         \n",
       "aaron                                                  0.0         \n",
       "abbey                                                  0.0         \n",
       "abbi                                                   0.0         \n",
       "abby                                                   0.0         \n",
       "...                                                    ...         \n",
       "yohnie1                                                0.0         \n",
       "yummy                                                  0.0         \n",
       "zippy                                                  0.0         \n",
       "zitro                                                  0.0         \n",
       "zmom                                                   0.0         \n",
       "\n",
       "prodId   Aussie Aussome Volume Shampoo, 13.5 Oz  \\\n",
       "userId                                            \n",
       "00sab00                                     0.0   \n",
       "aaron                                       0.0   \n",
       "abbey                                       0.0   \n",
       "abbi                                        0.0   \n",
       "abby                                        0.0   \n",
       "...                                         ...   \n",
       "yohnie1                                     0.0   \n",
       "yummy                                       0.0   \n",
       "zippy                                       0.0   \n",
       "zitro                                       0.0   \n",
       "zmom                                        0.0   \n",
       "\n",
       "prodId   Australian Gold Exotic Blend Lotion, SPF 4  \\\n",
       "userId                                                \n",
       "00sab00                                         0.0   \n",
       "aaron                                           0.0   \n",
       "abbey                                           0.0   \n",
       "abbi                                            0.0   \n",
       "abby                                            0.0   \n",
       "...                                             ...   \n",
       "yohnie1                                         0.0   \n",
       "yummy                                           0.0   \n",
       "zippy                                           0.0   \n",
       "zitro                                           0.0   \n",
       "zmom                                            0.0   \n",
       "\n",
       "prodId   Aveeno Baby Continuous Protection Lotion Sunscreen with Broad Spectrum SPF 55, 4oz  \\\n",
       "userId                                                                                        \n",
       "00sab00                                                0.0                                    \n",
       "aaron                                                  0.0                                    \n",
       "abbey                                                  0.0                                    \n",
       "abbi                                                   0.0                                    \n",
       "abby                                                   0.0                                    \n",
       "...                                                    ...                                    \n",
       "yohnie1                                                0.0                                    \n",
       "yummy                                                  0.0                                    \n",
       "zippy                                                  0.0                                    \n",
       "zitro                                                  0.0                                    \n",
       "zmom                                                   0.0                                    \n",
       "\n",
       "prodId   ...  Tostitos Simply Blue Corn Tortilla Chips  \\\n",
       "userId   ...                                             \n",
       "00sab00  ...                                       0.0   \n",
       "aaron    ...                                       0.0   \n",
       "abbey    ...                                       0.0   \n",
       "abbi     ...                                       0.0   \n",
       "abby     ...                                       0.0   \n",
       "...      ...                                       ...   \n",
       "yohnie1  ...                                       0.0   \n",
       "yummy    ...                                       5.0   \n",
       "zippy    ...                                       0.0   \n",
       "zitro    ...                                       0.0   \n",
       "zmom     ...                                       0.0   \n",
       "\n",
       "prodId   Various - Red Hot Blue:Tribute To Cole Porter (cd)  \\\n",
       "userId                                                        \n",
       "00sab00                                                0.0    \n",
       "aaron                                                  0.0    \n",
       "abbey                                                  0.0    \n",
       "abbi                                                   0.0    \n",
       "abby                                                   0.0    \n",
       "...                                                    ...    \n",
       "yohnie1                                                0.0    \n",
       "yummy                                                  0.0    \n",
       "zippy                                                  0.0    \n",
       "zitro                                                  0.0    \n",
       "zmom                                                   0.0    \n",
       "\n",
       "prodId   Various Artists - Choo Choo Soul (cd)  \\\n",
       "userId                                           \n",
       "00sab00                                    0.0   \n",
       "aaron                                      0.0   \n",
       "abbey                                      0.0   \n",
       "abbi                                       0.0   \n",
       "abby                                       0.0   \n",
       "...                                        ...   \n",
       "yohnie1                                    0.0   \n",
       "yummy                                      0.0   \n",
       "zippy                                      0.0   \n",
       "zitro                                      0.0   \n",
       "zmom                                       0.0   \n",
       "\n",
       "prodId   Vaseline Intensive Care Healthy Hands Stronger Nails  \\\n",
       "userId                                                          \n",
       "00sab00                                                0.0      \n",
       "aaron                                                  0.0      \n",
       "abbey                                                  0.0      \n",
       "abbi                                                   0.0      \n",
       "abby                                                   0.0      \n",
       "...                                                    ...      \n",
       "yohnie1                                                0.0      \n",
       "yummy                                                  0.0      \n",
       "zippy                                                  0.0      \n",
       "zitro                                                  0.0      \n",
       "zmom                                                   0.0      \n",
       "\n",
       "prodId   Vaseline Intensive Care Lip Therapy Cocoa Butter  \\\n",
       "userId                                                      \n",
       "00sab00                                               0.0   \n",
       "aaron                                                 0.0   \n",
       "abbey                                                 0.0   \n",
       "abbi                                                  0.0   \n",
       "abby                                                  0.0   \n",
       "...                                                   ...   \n",
       "yohnie1                                               0.0   \n",
       "yummy                                                 0.0   \n",
       "zippy                                                 0.0   \n",
       "zitro                                                 0.0   \n",
       "zmom                                                  0.0   \n",
       "\n",
       "prodId   Vicks Vaporub, Regular, 3.53oz  \\\n",
       "userId                                    \n",
       "00sab00                             0.0   \n",
       "aaron                               0.0   \n",
       "abbey                               0.0   \n",
       "abbi                                0.0   \n",
       "abby                                0.0   \n",
       "...                                 ...   \n",
       "yohnie1                             0.0   \n",
       "yummy                               0.0   \n",
       "zippy                               0.0   \n",
       "zitro                               0.0   \n",
       "zmom                                0.0   \n",
       "\n",
       "prodId   Voortman Sugar Free Fudge Chocolate Chip Cookies  \\\n",
       "userId                                                      \n",
       "00sab00                                               0.0   \n",
       "aaron                                                 0.0   \n",
       "abbey                                                 0.0   \n",
       "abbi                                                  0.0   \n",
       "abby                                                  0.0   \n",
       "...                                                   ...   \n",
       "yohnie1                                               0.0   \n",
       "yummy                                                 0.0   \n",
       "zippy                                                 0.0   \n",
       "zitro                                                 0.0   \n",
       "zmom                                                  0.0   \n",
       "\n",
       "prodId   Way Basics 3-Shelf Eco Narrow Bookcase Storage Shelf, Espresso - Formaldehyde Free - Lifetime Guarantee  \\\n",
       "userId                                                                                                             \n",
       "00sab00                                                0.0                                                         \n",
       "aaron                                                  0.0                                                         \n",
       "abbey                                                  0.0                                                         \n",
       "abbi                                                   0.0                                                         \n",
       "abby                                                   0.0                                                         \n",
       "...                                                    ...                                                         \n",
       "yohnie1                                                0.0                                                         \n",
       "yummy                                                  0.0                                                         \n",
       "zippy                                                  0.0                                                         \n",
       "zitro                                                  0.0                                                         \n",
       "zmom                                                   0.0                                                         \n",
       "\n",
       "prodId   Windex Original Glass Cleaner Refill 67.6oz (2 Liter)  \\\n",
       "userId                                                           \n",
       "00sab00                                                0.0       \n",
       "aaron                                                  0.0       \n",
       "abbey                                                  0.0       \n",
       "abbi                                                   0.0       \n",
       "abby                                                   0.0       \n",
       "...                                                    ...       \n",
       "yohnie1                                                0.0       \n",
       "yummy                                                  0.0       \n",
       "zippy                                                  0.0       \n",
       "zitro                                                  0.0       \n",
       "zmom                                                   0.0       \n",
       "\n",
       "prodId   Yes To Carrots Nourishing Body Wash  \n",
       "userId                                        \n",
       "00sab00                                  0.0  \n",
       "aaron                                    0.0  \n",
       "abbey                                    0.0  \n",
       "abbi                                     0.0  \n",
       "abby                                     0.0  \n",
       "...                                      ...  \n",
       "yohnie1                                  0.0  \n",
       "yummy                                    0.0  \n",
       "zippy                                    0.0  \n",
       "zitro                                    0.0  \n",
       "zmom                                     0.0  \n",
       "\n",
       "[893 rows x 119 columns]"
      ],
      "text/html": "<div>\n<style scoped>\n    .dataframe tbody tr th:only-of-type {\n        vertical-align: middle;\n    }\n\n    .dataframe tbody tr th {\n        vertical-align: top;\n    }\n\n    .dataframe thead th {\n        text-align: right;\n    }\n</style>\n<table border=\"1\" class=\"dataframe\">\n  <thead>\n    <tr style=\"text-align: right;\">\n      <th>prodId</th>\n      <th>0.6 Cu. Ft. Letter A4 Size Waterproof 30 Min. Fire File Chest</th>\n      <th>100:Complete First Season (blu-Ray)</th>\n      <th>Africa's Best No-Lye Dual Conditioning Relaxer System Super</th>\n      <th>Alex Cross (dvdvideo)</th>\n      <th>All,bran Complete Wheat Flakes, 18 Oz.</th>\n      <th>Ambi Complexion Cleansing Bar</th>\n      <th>Arrid Extra Dry Anti-Perspirant Deodorant Spray Regular</th>\n      <th>Aussie Aussome Volume Shampoo, 13.5 Oz</th>\n      <th>Australian Gold Exotic Blend Lotion, SPF 4</th>\n      <th>Aveeno Baby Continuous Protection Lotion Sunscreen with Broad Spectrum SPF 55, 4oz</th>\n      <th>...</th>\n      <th>Tostitos Simply Blue Corn Tortilla Chips</th>\n      <th>Various - Red Hot Blue:Tribute To Cole Porter (cd)</th>\n      <th>Various Artists - Choo Choo Soul (cd)</th>\n      <th>Vaseline Intensive Care Healthy Hands Stronger Nails</th>\n      <th>Vaseline Intensive Care Lip Therapy Cocoa Butter</th>\n      <th>Vicks Vaporub, Regular, 3.53oz</th>\n      <th>Voortman Sugar Free Fudge Chocolate Chip Cookies</th>\n      <th>Way Basics 3-Shelf Eco Narrow Bookcase Storage Shelf, Espresso - Formaldehyde Free - Lifetime Guarantee</th>\n      <th>Windex Original Glass Cleaner Refill 67.6oz (2 Liter)</th>\n      <th>Yes To Carrots Nourishing Body Wash</th>\n    </tr>\n    <tr>\n      <th>userId</th>\n      <th></th>\n      <th></th>\n      <th></th>\n      <th></th>\n      <th></th>\n      <th></th>\n      <th></th>\n      <th></th>\n      <th></th>\n      <th></th>\n      <th></th>\n      <th></th>\n      <th></th>\n      <th></th>\n      <th></th>\n      <th></th>\n      <th></th>\n      <th></th>\n      <th></th>\n      <th></th>\n      <th></th>\n    </tr>\n  </thead>\n  <tbody>\n    <tr>\n      <th>00sab00</th>\n      <td>0.0</td>\n      <td>0.0</td>\n      <td>0.0</td>\n      <td>0.0</td>\n      <td>0.0</td>\n      <td>0.0</td>\n      <td>0.0</td>\n      <td>0.0</td>\n      <td>0.0</td>\n      <td>0.0</td>\n      <td>...</td>\n      <td>0.0</td>\n      <td>0.0</td>\n      <td>0.0</td>\n      <td>0.0</td>\n      <td>0.0</td>\n      <td>0.0</td>\n      <td>0.0</td>\n      <td>0.0</td>\n      <td>0.0</td>\n      <td>0.0</td>\n    </tr>\n    <tr>\n      <th>aaron</th>\n      <td>0.0</td>\n      <td>0.0</td>\n      <td>0.0</td>\n      <td>0.0</td>\n      <td>0.0</td>\n      <td>0.0</td>\n      <td>0.0</td>\n      <td>0.0</td>\n      <td>0.0</td>\n      <td>0.0</td>\n      <td>...</td>\n      <td>0.0</td>\n      <td>0.0</td>\n      <td>0.0</td>\n      <td>0.0</td>\n      <td>0.0</td>\n      <td>0.0</td>\n      <td>0.0</td>\n      <td>0.0</td>\n      <td>0.0</td>\n      <td>0.0</td>\n    </tr>\n    <tr>\n      <th>abbey</th>\n      <td>0.0</td>\n      <td>0.0</td>\n      <td>0.0</td>\n      <td>0.0</td>\n      <td>0.0</td>\n      <td>0.0</td>\n      <td>0.0</td>\n      <td>0.0</td>\n      <td>0.0</td>\n      <td>0.0</td>\n      <td>...</td>\n      <td>0.0</td>\n      <td>0.0</td>\n      <td>0.0</td>\n      <td>0.0</td>\n      <td>0.0</td>\n      <td>0.0</td>\n      <td>0.0</td>\n      <td>0.0</td>\n      <td>0.0</td>\n      <td>0.0</td>\n    </tr>\n    <tr>\n      <th>abbi</th>\n      <td>0.0</td>\n      <td>0.0</td>\n      <td>0.0</td>\n      <td>0.0</td>\n      <td>0.0</td>\n      <td>0.0</td>\n      <td>0.0</td>\n      <td>0.0</td>\n      <td>0.0</td>\n      <td>0.0</td>\n      <td>...</td>\n      <td>0.0</td>\n      <td>0.0</td>\n      <td>0.0</td>\n      <td>0.0</td>\n      <td>0.0</td>\n      <td>0.0</td>\n      <td>0.0</td>\n      <td>0.0</td>\n      <td>0.0</td>\n      <td>0.0</td>\n    </tr>\n    <tr>\n      <th>abby</th>\n      <td>0.0</td>\n      <td>0.0</td>\n      <td>0.0</td>\n      <td>0.0</td>\n      <td>0.0</td>\n      <td>0.0</td>\n      <td>0.0</td>\n      <td>0.0</td>\n      <td>0.0</td>\n      <td>0.0</td>\n      <td>...</td>\n      <td>0.0</td>\n      <td>0.0</td>\n      <td>0.0</td>\n      <td>0.0</td>\n      <td>0.0</td>\n      <td>0.0</td>\n      <td>0.0</td>\n      <td>0.0</td>\n      <td>0.0</td>\n      <td>0.0</td>\n    </tr>\n    <tr>\n      <th>...</th>\n      <td>...</td>\n      <td>...</td>\n      <td>...</td>\n      <td>...</td>\n      <td>...</td>\n      <td>...</td>\n      <td>...</td>\n      <td>...</td>\n      <td>...</td>\n      <td>...</td>\n      <td>...</td>\n      <td>...</td>\n      <td>...</td>\n      <td>...</td>\n      <td>...</td>\n      <td>...</td>\n      <td>...</td>\n      <td>...</td>\n      <td>...</td>\n      <td>...</td>\n      <td>...</td>\n    </tr>\n    <tr>\n      <th>yohnie1</th>\n      <td>0.0</td>\n      <td>0.0</td>\n      <td>0.0</td>\n      <td>0.0</td>\n      <td>0.0</td>\n      <td>0.0</td>\n      <td>0.0</td>\n      <td>0.0</td>\n      <td>0.0</td>\n      <td>0.0</td>\n      <td>...</td>\n      <td>0.0</td>\n      <td>0.0</td>\n      <td>0.0</td>\n      <td>0.0</td>\n      <td>0.0</td>\n      <td>0.0</td>\n      <td>0.0</td>\n      <td>0.0</td>\n      <td>0.0</td>\n      <td>0.0</td>\n    </tr>\n    <tr>\n      <th>yummy</th>\n      <td>0.0</td>\n      <td>0.0</td>\n      <td>0.0</td>\n      <td>0.0</td>\n      <td>0.0</td>\n      <td>0.0</td>\n      <td>0.0</td>\n      <td>0.0</td>\n      <td>0.0</td>\n      <td>0.0</td>\n      <td>...</td>\n      <td>5.0</td>\n      <td>0.0</td>\n      <td>0.0</td>\n      <td>0.0</td>\n      <td>0.0</td>\n      <td>0.0</td>\n      <td>0.0</td>\n      <td>0.0</td>\n      <td>0.0</td>\n      <td>0.0</td>\n    </tr>\n    <tr>\n      <th>zippy</th>\n      <td>0.0</td>\n      <td>0.0</td>\n      <td>0.0</td>\n      <td>0.0</td>\n      <td>0.0</td>\n      <td>0.0</td>\n      <td>0.0</td>\n      <td>0.0</td>\n      <td>0.0</td>\n      <td>0.0</td>\n      <td>...</td>\n      <td>0.0</td>\n      <td>0.0</td>\n      <td>0.0</td>\n      <td>0.0</td>\n      <td>0.0</td>\n      <td>0.0</td>\n      <td>0.0</td>\n      <td>0.0</td>\n      <td>0.0</td>\n      <td>0.0</td>\n    </tr>\n    <tr>\n      <th>zitro</th>\n      <td>0.0</td>\n      <td>0.0</td>\n      <td>0.0</td>\n      <td>0.0</td>\n      <td>0.0</td>\n      <td>0.0</td>\n      <td>0.0</td>\n      <td>0.0</td>\n      <td>0.0</td>\n      <td>0.0</td>\n      <td>...</td>\n      <td>0.0</td>\n      <td>0.0</td>\n      <td>0.0</td>\n      <td>0.0</td>\n      <td>0.0</td>\n      <td>0.0</td>\n      <td>0.0</td>\n      <td>0.0</td>\n      <td>0.0</td>\n      <td>0.0</td>\n    </tr>\n    <tr>\n      <th>zmom</th>\n      <td>0.0</td>\n      <td>0.0</td>\n      <td>0.0</td>\n      <td>0.0</td>\n      <td>0.0</td>\n      <td>0.0</td>\n      <td>0.0</td>\n      <td>0.0</td>\n      <td>0.0</td>\n      <td>0.0</td>\n      <td>...</td>\n      <td>0.0</td>\n      <td>0.0</td>\n      <td>0.0</td>\n      <td>0.0</td>\n      <td>0.0</td>\n      <td>0.0</td>\n      <td>0.0</td>\n      <td>0.0</td>\n      <td>0.0</td>\n      <td>0.0</td>\n    </tr>\n  </tbody>\n</table>\n<p>893 rows × 119 columns</p>\n</div>"
     },
     "metadata": {},
     "execution_count": 44
    }
   ],
   "source": [
    "common_user_predicted_ratings"
   ]
  },
  {
   "cell_type": "code",
   "execution_count": 45,
   "metadata": {},
   "outputs": [
    {
     "output_type": "stream",
     "name": "stdout",
     "text": [
      "MinMaxScaler(feature_range=(1, 5))\n[[nan nan nan ... nan nan nan]\n [nan nan nan ... nan nan nan]\n [nan nan nan ... nan nan nan]\n ...\n [nan nan nan ... nan nan nan]\n [nan nan nan ... nan nan nan]\n [nan nan nan ... nan nan nan]]\n"
     ]
    }
   ],
   "source": [
    "from sklearn.preprocessing import MinMaxScaler\n",
    "from numpy import *\n",
    "\n",
    "X  = common_user_predicted_ratings.copy() \n",
    "X = X[X>0]\n",
    "\n",
    "scaler = MinMaxScaler(feature_range=(1, 5))\n",
    "print(scaler.fit(X))\n",
    "y = (scaler.transform(X))\n",
    "\n",
    "print(y)"
   ]
  },
  {
   "cell_type": "code",
   "execution_count": 46,
   "metadata": {},
   "outputs": [],
   "source": [
    "common_ = common.pivot_table(index='userId', columns='prodId', values='rating')"
   ]
  },
  {
   "cell_type": "code",
   "execution_count": 47,
   "metadata": {},
   "outputs": [],
   "source": [
    "# Finding total non-NaN value\n",
    "total_non_nan = np.count_nonzero(~np.isnan(y))"
   ]
  },
  {
   "cell_type": "code",
   "execution_count": 48,
   "metadata": {},
   "outputs": [
    {
     "output_type": "stream",
     "name": "stdout",
     "text": [
      "2.1350293240028626\n"
     ]
    }
   ],
   "source": [
    "rmse = (sum(sum((common_ - y )**2))/total_non_nan)**0.5\n",
    "print(rmse)"
   ]
  },
  {
   "source": [
    "# Item Item"
   ],
   "cell_type": "markdown",
   "metadata": {}
  },
  {
   "cell_type": "code",
   "execution_count": 49,
   "metadata": {},
   "outputs": [
    {
     "output_type": "execute_result",
     "data": {
      "text/plain": [
       "userId                                              00dog3  00sab00  01impala  \\\n",
       "prodId                                                                          \n",
       "0.6 Cu. Ft. Letter A4 Size Waterproof 30 Min. F...     0.0      0.0       0.0   \n",
       "100:Complete First Season (blu-Ray)                    0.0      0.0       0.0   \n",
       "2017-2018 Brownline174 Duraflex 14-Month Planne...     0.0      0.0       0.0   \n",
       "2x Ultra Era with Oxi Booster, 50fl oz                 0.0      0.0       0.0   \n",
       "42 Dual Drop Leaf Table with 2 Madrid Chairs\"          0.0      0.0       0.0   \n",
       "\n",
       "userId                                              0325home  06stidriver  \\\n",
       "prodId                                                                      \n",
       "0.6 Cu. Ft. Letter A4 Size Waterproof 30 Min. F...       0.0          0.0   \n",
       "100:Complete First Season (blu-Ray)                      0.0          0.0   \n",
       "2017-2018 Brownline174 Duraflex 14-Month Planne...       0.0          0.0   \n",
       "2x Ultra Era with Oxi Booster, 50fl oz                   0.0          0.0   \n",
       "42 Dual Drop Leaf Table with 2 Madrid Chairs\"            0.0          0.0   \n",
       "\n",
       "userId                                              1.11E+24  10ten  1234  \\\n",
       "prodId                                                                      \n",
       "0.6 Cu. Ft. Letter A4 Size Waterproof 30 Min. F...       0.0    0.0   0.0   \n",
       "100:Complete First Season (blu-Ray)                      0.0    0.0   0.0   \n",
       "2017-2018 Brownline174 Duraflex 14-Month Planne...       0.0    0.0   0.0   \n",
       "2x Ultra Era with Oxi Booster, 50fl oz                   0.0    0.0   0.0   \n",
       "42 Dual Drop Leaf Table with 2 Madrid Chairs\"            0.0    0.0   0.0   \n",
       "\n",
       "userId                                              1234asdf  123cat123  ...  \\\n",
       "prodId                                                                   ...   \n",
       "0.6 Cu. Ft. Letter A4 Size Waterproof 30 Min. F...       0.0        0.0  ...   \n",
       "100:Complete First Season (blu-Ray)                      0.0        0.0  ...   \n",
       "2017-2018 Brownline174 Duraflex 14-Month Planne...       0.0        0.0  ...   \n",
       "2x Ultra Era with Oxi Booster, 50fl oz                   0.0        0.0  ...   \n",
       "42 Dual Drop Leaf Table with 2 Madrid Chairs\"            0.0        0.0  ...   \n",
       "\n",
       "userId                                              zozo0o  zsarah  zt313  \\\n",
       "prodId                                                                      \n",
       "0.6 Cu. Ft. Letter A4 Size Waterproof 30 Min. F...     0.0     0.0    0.0   \n",
       "100:Complete First Season (blu-Ray)                    0.0     0.0    0.0   \n",
       "2017-2018 Brownline174 Duraflex 14-Month Planne...     0.0     0.0    0.0   \n",
       "2x Ultra Era with Oxi Booster, 50fl oz                 0.0     0.0    0.0   \n",
       "42 Dual Drop Leaf Table with 2 Madrid Chairs\"          0.0     0.0    0.0   \n",
       "\n",
       "userId                                              zuttle  zwithanx  zxcsdfd  \\\n",
       "prodId                                                                          \n",
       "0.6 Cu. Ft. Letter A4 Size Waterproof 30 Min. F...     0.0       0.0      0.0   \n",
       "100:Complete First Season (blu-Ray)                    0.0       0.0      0.0   \n",
       "2017-2018 Brownline174 Duraflex 14-Month Planne...     0.0       0.0      0.0   \n",
       "2x Ultra Era with Oxi Booster, 50fl oz                 0.0       0.0      0.0   \n",
       "42 Dual Drop Leaf Table with 2 Madrid Chairs\"          0.0       0.0      0.0   \n",
       "\n",
       "userId                                              zxjki  zyiah4  zzdiane  \\\n",
       "prodId                                                                       \n",
       "0.6 Cu. Ft. Letter A4 Size Waterproof 30 Min. F...    0.0     0.0      0.0   \n",
       "100:Complete First Season (blu-Ray)                   0.0     0.0      0.0   \n",
       "2017-2018 Brownline174 Duraflex 14-Month Planne...    0.0     0.0      0.0   \n",
       "2x Ultra Era with Oxi Booster, 50fl oz                0.0     0.0      0.0   \n",
       "42 Dual Drop Leaf Table with 2 Madrid Chairs\"         0.0     0.0      0.0   \n",
       "\n",
       "userId                                              zzz1127  \n",
       "prodId                                                       \n",
       "0.6 Cu. Ft. Letter A4 Size Waterproof 30 Min. F...      0.0  \n",
       "100:Complete First Season (blu-Ray)                     0.0  \n",
       "2017-2018 Brownline174 Duraflex 14-Month Planne...      0.0  \n",
       "2x Ultra Era with Oxi Booster, 50fl oz                  0.0  \n",
       "42 Dual Drop Leaf Table with 2 Madrid Chairs\"           0.0  \n",
       "\n",
       "[5 rows x 17844 columns]"
      ],
      "text/html": "<div>\n<style scoped>\n    .dataframe tbody tr th:only-of-type {\n        vertical-align: middle;\n    }\n\n    .dataframe tbody tr th {\n        vertical-align: top;\n    }\n\n    .dataframe thead th {\n        text-align: right;\n    }\n</style>\n<table border=\"1\" class=\"dataframe\">\n  <thead>\n    <tr style=\"text-align: right;\">\n      <th>userId</th>\n      <th>00dog3</th>\n      <th>00sab00</th>\n      <th>01impala</th>\n      <th>0325home</th>\n      <th>06stidriver</th>\n      <th>1.11E+24</th>\n      <th>10ten</th>\n      <th>1234</th>\n      <th>1234asdf</th>\n      <th>123cat123</th>\n      <th>...</th>\n      <th>zozo0o</th>\n      <th>zsarah</th>\n      <th>zt313</th>\n      <th>zuttle</th>\n      <th>zwithanx</th>\n      <th>zxcsdfd</th>\n      <th>zxjki</th>\n      <th>zyiah4</th>\n      <th>zzdiane</th>\n      <th>zzz1127</th>\n    </tr>\n    <tr>\n      <th>prodId</th>\n      <th></th>\n      <th></th>\n      <th></th>\n      <th></th>\n      <th></th>\n      <th></th>\n      <th></th>\n      <th></th>\n      <th></th>\n      <th></th>\n      <th></th>\n      <th></th>\n      <th></th>\n      <th></th>\n      <th></th>\n      <th></th>\n      <th></th>\n      <th></th>\n      <th></th>\n      <th></th>\n      <th></th>\n    </tr>\n  </thead>\n  <tbody>\n    <tr>\n      <th>0.6 Cu. Ft. Letter A4 Size Waterproof 30 Min. Fire File Chest</th>\n      <td>0.0</td>\n      <td>0.0</td>\n      <td>0.0</td>\n      <td>0.0</td>\n      <td>0.0</td>\n      <td>0.0</td>\n      <td>0.0</td>\n      <td>0.0</td>\n      <td>0.0</td>\n      <td>0.0</td>\n      <td>...</td>\n      <td>0.0</td>\n      <td>0.0</td>\n      <td>0.0</td>\n      <td>0.0</td>\n      <td>0.0</td>\n      <td>0.0</td>\n      <td>0.0</td>\n      <td>0.0</td>\n      <td>0.0</td>\n      <td>0.0</td>\n    </tr>\n    <tr>\n      <th>100:Complete First Season (blu-Ray)</th>\n      <td>0.0</td>\n      <td>0.0</td>\n      <td>0.0</td>\n      <td>0.0</td>\n      <td>0.0</td>\n      <td>0.0</td>\n      <td>0.0</td>\n      <td>0.0</td>\n      <td>0.0</td>\n      <td>0.0</td>\n      <td>...</td>\n      <td>0.0</td>\n      <td>0.0</td>\n      <td>0.0</td>\n      <td>0.0</td>\n      <td>0.0</td>\n      <td>0.0</td>\n      <td>0.0</td>\n      <td>0.0</td>\n      <td>0.0</td>\n      <td>0.0</td>\n    </tr>\n    <tr>\n      <th>2017-2018 Brownline174 Duraflex 14-Month Planner 8 1/2 X 11 Black</th>\n      <td>0.0</td>\n      <td>0.0</td>\n      <td>0.0</td>\n      <td>0.0</td>\n      <td>0.0</td>\n      <td>0.0</td>\n      <td>0.0</td>\n      <td>0.0</td>\n      <td>0.0</td>\n      <td>0.0</td>\n      <td>...</td>\n      <td>0.0</td>\n      <td>0.0</td>\n      <td>0.0</td>\n      <td>0.0</td>\n      <td>0.0</td>\n      <td>0.0</td>\n      <td>0.0</td>\n      <td>0.0</td>\n      <td>0.0</td>\n      <td>0.0</td>\n    </tr>\n    <tr>\n      <th>2x Ultra Era with Oxi Booster, 50fl oz</th>\n      <td>0.0</td>\n      <td>0.0</td>\n      <td>0.0</td>\n      <td>0.0</td>\n      <td>0.0</td>\n      <td>0.0</td>\n      <td>0.0</td>\n      <td>0.0</td>\n      <td>0.0</td>\n      <td>0.0</td>\n      <td>...</td>\n      <td>0.0</td>\n      <td>0.0</td>\n      <td>0.0</td>\n      <td>0.0</td>\n      <td>0.0</td>\n      <td>0.0</td>\n      <td>0.0</td>\n      <td>0.0</td>\n      <td>0.0</td>\n      <td>0.0</td>\n    </tr>\n    <tr>\n      <th>42 Dual Drop Leaf Table with 2 Madrid Chairs\"</th>\n      <td>0.0</td>\n      <td>0.0</td>\n      <td>0.0</td>\n      <td>0.0</td>\n      <td>0.0</td>\n      <td>0.0</td>\n      <td>0.0</td>\n      <td>0.0</td>\n      <td>0.0</td>\n      <td>0.0</td>\n      <td>...</td>\n      <td>0.0</td>\n      <td>0.0</td>\n      <td>0.0</td>\n      <td>0.0</td>\n      <td>0.0</td>\n      <td>0.0</td>\n      <td>0.0</td>\n      <td>0.0</td>\n      <td>0.0</td>\n      <td>0.0</td>\n    </tr>\n  </tbody>\n</table>\n<p>5 rows × 17844 columns</p>\n</div>"
     },
     "metadata": {},
     "execution_count": 49
    }
   ],
   "source": [
    "df_pivot = train.pivot(\n",
    "    index='userId',\n",
    "    columns='prodId',\n",
    "    values='rating'\n",
    ").T.fillna(0)\n",
    "\n",
    "df_pivot.head()"
   ]
  },
  {
   "cell_type": "code",
   "execution_count": 50,
   "metadata": {},
   "outputs": [],
   "source": [
    "# mean = np.nanmean(df_pivot, axis=1)\n",
    "# df_subtracted = (df_pivot.T-mean).T"
   ]
  },
  {
   "cell_type": "code",
   "execution_count": 51,
   "metadata": {},
   "outputs": [],
   "source": [
    "# df_subtracted.head()"
   ]
  },
  {
   "cell_type": "code",
   "execution_count": 52,
   "metadata": {},
   "outputs": [
    {
     "output_type": "stream",
     "name": "stdout",
     "text": [
      "[[1.         0.         0.         ... 0.         0.         0.        ]\n [0.         1.         0.         ... 0.00256854 0.         0.        ]\n [0.         0.         1.         ... 0.         0.         0.        ]\n ...\n [0.         0.00256854 0.         ... 1.         0.         0.        ]\n [0.         0.         0.         ... 0.         1.         0.        ]\n [0.         0.         0.         ... 0.         0.         1.        ]]\n"
     ]
    }
   ],
   "source": [
    "# Item Similarity Matrix\n",
    "item_correlation = 1 - pairwise_distances(df_pivot.fillna(0), metric='cosine')\n",
    "item_correlation[np.isnan(item_correlation)] = 0\n",
    "print(item_correlation)"
   ]
  },
  {
   "cell_type": "code",
   "execution_count": 53,
   "metadata": {},
   "outputs": [
    {
     "output_type": "execute_result",
     "data": {
      "text/plain": [
       "array([[1.        , 0.        , 0.        , ..., 0.        , 0.        ,\n",
       "        0.        ],\n",
       "       [0.        , 1.        , 0.        , ..., 0.00256854, 0.        ,\n",
       "        0.        ],\n",
       "       [0.        , 0.        , 1.        , ..., 0.        , 0.        ,\n",
       "        0.        ],\n",
       "       ...,\n",
       "       [0.        , 0.00256854, 0.        , ..., 1.        , 0.        ,\n",
       "        0.        ],\n",
       "       [0.        , 0.        , 0.        , ..., 0.        , 1.        ,\n",
       "        0.        ],\n",
       "       [0.        , 0.        , 0.        , ..., 0.        , 0.        ,\n",
       "        1.        ]])"
      ]
     },
     "metadata": {},
     "execution_count": 53
    }
   ],
   "source": [
    "item_correlation[item_correlation<0]=0\n",
    "item_correlation"
   ]
  },
  {
   "cell_type": "code",
   "execution_count": 54,
   "metadata": {},
   "outputs": [
    {
     "output_type": "execute_result",
     "data": {
      "text/plain": [
       "array([[0.        , 0.        , 0.        , ..., 0.        , 0.        ,\n",
       "        0.        ],\n",
       "       [0.        , 0.00993523, 0.        , ..., 0.02036922, 0.        ,\n",
       "        0.00221168],\n",
       "       [0.        , 0.05559729, 0.        , ..., 0.05216393, 0.00743035,\n",
       "        0.01538456],\n",
       "       ...,\n",
       "       [0.        , 0.02076871, 0.        , ..., 0.02215223, 0.01128499,\n",
       "        0.        ],\n",
       "       [0.        , 0.        , 0.        , ..., 0.01915693, 0.02951152,\n",
       "        0.03394649],\n",
       "       [0.        , 0.01661497, 0.        , ..., 0.01772178, 0.00902799,\n",
       "        0.        ]])"
      ]
     },
     "metadata": {},
     "execution_count": 54
    }
   ],
   "source": [
    "item_predicted_ratings = np.dot((df_pivot.fillna(0).T),item_correlation)\n",
    "item_predicted_ratings"
   ]
  },
  {
   "cell_type": "code",
   "execution_count": 55,
   "metadata": {},
   "outputs": [
    {
     "output_type": "execute_result",
     "data": {
      "text/plain": [
       "(17844, 254)"
      ]
     },
     "metadata": {},
     "execution_count": 55
    }
   ],
   "source": [
    "item_predicted_ratings.shape"
   ]
  },
  {
   "cell_type": "code",
   "execution_count": 56,
   "metadata": {},
   "outputs": [
    {
     "output_type": "execute_result",
     "data": {
      "text/plain": [
       "(17844, 254)"
      ]
     },
     "metadata": {},
     "execution_count": 56
    }
   ],
   "source": [
    "dummy_train.shape"
   ]
  },
  {
   "cell_type": "code",
   "execution_count": 57,
   "metadata": {},
   "outputs": [
    {
     "output_type": "execute_result",
     "data": {
      "text/plain": [
       "prodId       0.6 Cu. Ft. Letter A4 Size Waterproof 30 Min. Fire File Chest  \\\n",
       "userId                                                                       \n",
       "00dog3                                                     0.0               \n",
       "00sab00                                                    0.0               \n",
       "01impala                                                   0.0               \n",
       "0325home                                                   0.0               \n",
       "06stidriver                                                0.0               \n",
       "\n",
       "prodId       100:Complete First Season (blu-Ray)  \\\n",
       "userId                                             \n",
       "00dog3                                  0.000000   \n",
       "00sab00                                 0.009935   \n",
       "01impala                                0.055597   \n",
       "0325home                                0.020769   \n",
       "06stidriver                             0.020769   \n",
       "\n",
       "prodId       2017-2018 Brownline174 Duraflex 14-Month Planner 8 1/2 X 11 Black  \\\n",
       "userId                                                                           \n",
       "00dog3                                                     0.0                   \n",
       "00sab00                                                    0.0                   \n",
       "01impala                                                   0.0                   \n",
       "0325home                                                   0.0                   \n",
       "06stidriver                                                0.0                   \n",
       "\n",
       "prodId       2x Ultra Era with Oxi Booster, 50fl oz  \\\n",
       "userId                                                \n",
       "00dog3                                          0.0   \n",
       "00sab00                                         0.0   \n",
       "01impala                                        0.0   \n",
       "0325home                                        0.0   \n",
       "06stidriver                                     0.0   \n",
       "\n",
       "prodId       42 Dual Drop Leaf Table with 2 Madrid Chairs\"  \\\n",
       "userId                                                       \n",
       "00dog3                                                 0.0   \n",
       "00sab00                                                0.0   \n",
       "01impala                                               0.0   \n",
       "0325home                                               0.0   \n",
       "06stidriver                                            0.0   \n",
       "\n",
       "prodId       4C Grated Parmesan Cheese 100% Natural 8oz Shaker  \\\n",
       "userId                                                           \n",
       "00dog3                                                     0.0   \n",
       "00sab00                                                    0.0   \n",
       "01impala                                                   0.0   \n",
       "0325home                                                   0.0   \n",
       "06stidriver                                                0.0   \n",
       "\n",
       "prodId       5302050 15/16 FCT/HOSE ADAPTOR  \\\n",
       "userId                                        \n",
       "00dog3                                  0.0   \n",
       "00sab00                                 0.0   \n",
       "01impala                                0.0   \n",
       "0325home                                0.0   \n",
       "06stidriver                             0.0   \n",
       "\n",
       "prodId       Africa's Best No-Lye Dual Conditioning Relaxer System Super  \\\n",
       "userId                                                                     \n",
       "00dog3                                                     0.0             \n",
       "00sab00                                                    0.0             \n",
       "01impala                                                   0.0             \n",
       "0325home                                                   0.0             \n",
       "06stidriver                                                0.0             \n",
       "\n",
       "prodId       Alberto VO5 Salon Series Smooth Plus Sleek Shampoo  \\\n",
       "userId                                                            \n",
       "00dog3                                                     0.0    \n",
       "00sab00                                                    0.0    \n",
       "01impala                                                   0.0    \n",
       "0325home                                                   0.0    \n",
       "06stidriver                                                0.0    \n",
       "\n",
       "prodId       Alex Cross (dvdvideo)  ...  \\\n",
       "userId                              ...   \n",
       "00dog3                    0.097375  ...   \n",
       "00sab00                   0.017602  ...   \n",
       "01impala                  0.044529  ...   \n",
       "0325home                  0.013050  ...   \n",
       "06stidriver               0.013050  ...   \n",
       "\n",
       "prodId       Wagan Smartac 80watt Inverter With Usb  \\\n",
       "userId                                                \n",
       "00dog3                                     0.000000   \n",
       "00sab00                                    0.000000   \n",
       "01impala                                   0.040201   \n",
       "0325home                                   0.000000   \n",
       "06stidriver                                0.000000   \n",
       "\n",
       "prodId       Walkers Stem Ginger Shortbread  \\\n",
       "userId                                        \n",
       "00dog3                                  0.0   \n",
       "00sab00                                 0.0   \n",
       "01impala                                0.0   \n",
       "0325home                                0.0   \n",
       "06stidriver                             0.0   \n",
       "\n",
       "prodId       Way Basics 3-Shelf Eco Narrow Bookcase Storage Shelf, Espresso - Formaldehyde Free - Lifetime Guarantee  \\\n",
       "userId                                                                                                                 \n",
       "00dog3                                                0.000000                                                         \n",
       "00sab00                                               0.017676                                                         \n",
       "01impala                                              0.030419                                                         \n",
       "0325home                                              0.000000                                                         \n",
       "06stidriver                                           0.000000                                                         \n",
       "\n",
       "prodId       WeatherTech 40647 14-15 Outlander Cargo Liners Behind 2nd Row, Black  \\\n",
       "userId                                                                              \n",
       "00dog3                                                0.000000                      \n",
       "00sab00                                               0.014766                      \n",
       "01impala                                              0.024964                      \n",
       "0325home                                              0.000000                      \n",
       "06stidriver                                           0.000000                      \n",
       "\n",
       "prodId       Wedding Wishes Wedding Guest Book  Weleda Everon Lip Balm  \\\n",
       "userId                                                                   \n",
       "00dog3                                     0.0                     0.0   \n",
       "00sab00                                    0.0                     0.0   \n",
       "01impala                                   0.0                     0.0   \n",
       "0325home                                   0.0                     0.0   \n",
       "06stidriver                                0.0                     0.0   \n",
       "\n",
       "prodId       Wilton Black Dots Standard Baking Cups  \\\n",
       "userId                                                \n",
       "00dog3                                          0.0   \n",
       "00sab00                                         0.0   \n",
       "01impala                                        0.0   \n",
       "0325home                                        0.0   \n",
       "06stidriver                                     0.0   \n",
       "\n",
       "prodId       Windex Original Glass Cleaner Refill 67.6oz (2 Liter)  \\\n",
       "userId                                                               \n",
       "00dog3                                                0.000000       \n",
       "00sab00                                               0.020369       \n",
       "01impala                                              0.052164       \n",
       "0325home                                              0.022152       \n",
       "06stidriver                                           0.022152       \n",
       "\n",
       "prodId       Yes To Carrots Nourishing Body Wash  \\\n",
       "userId                                             \n",
       "00dog3                                  0.000000   \n",
       "00sab00                                 0.000000   \n",
       "01impala                                0.007430   \n",
       "0325home                                0.011285   \n",
       "06stidriver                             0.011285   \n",
       "\n",
       "prodId       Yes To Grapefruit Rejuvenating Body Wash  \n",
       "userId                                                 \n",
       "00dog3                                       0.000000  \n",
       "00sab00                                      0.002212  \n",
       "01impala                                     0.015385  \n",
       "0325home                                     0.000000  \n",
       "06stidriver                                  0.000000  \n",
       "\n",
       "[5 rows x 254 columns]"
      ],
      "text/html": "<div>\n<style scoped>\n    .dataframe tbody tr th:only-of-type {\n        vertical-align: middle;\n    }\n\n    .dataframe tbody tr th {\n        vertical-align: top;\n    }\n\n    .dataframe thead th {\n        text-align: right;\n    }\n</style>\n<table border=\"1\" class=\"dataframe\">\n  <thead>\n    <tr style=\"text-align: right;\">\n      <th>prodId</th>\n      <th>0.6 Cu. Ft. Letter A4 Size Waterproof 30 Min. Fire File Chest</th>\n      <th>100:Complete First Season (blu-Ray)</th>\n      <th>2017-2018 Brownline174 Duraflex 14-Month Planner 8 1/2 X 11 Black</th>\n      <th>2x Ultra Era with Oxi Booster, 50fl oz</th>\n      <th>42 Dual Drop Leaf Table with 2 Madrid Chairs\"</th>\n      <th>4C Grated Parmesan Cheese 100% Natural 8oz Shaker</th>\n      <th>5302050 15/16 FCT/HOSE ADAPTOR</th>\n      <th>Africa's Best No-Lye Dual Conditioning Relaxer System Super</th>\n      <th>Alberto VO5 Salon Series Smooth Plus Sleek Shampoo</th>\n      <th>Alex Cross (dvdvideo)</th>\n      <th>...</th>\n      <th>Wagan Smartac 80watt Inverter With Usb</th>\n      <th>Walkers Stem Ginger Shortbread</th>\n      <th>Way Basics 3-Shelf Eco Narrow Bookcase Storage Shelf, Espresso - Formaldehyde Free - Lifetime Guarantee</th>\n      <th>WeatherTech 40647 14-15 Outlander Cargo Liners Behind 2nd Row, Black</th>\n      <th>Wedding Wishes Wedding Guest Book</th>\n      <th>Weleda Everon Lip Balm</th>\n      <th>Wilton Black Dots Standard Baking Cups</th>\n      <th>Windex Original Glass Cleaner Refill 67.6oz (2 Liter)</th>\n      <th>Yes To Carrots Nourishing Body Wash</th>\n      <th>Yes To Grapefruit Rejuvenating Body Wash</th>\n    </tr>\n    <tr>\n      <th>userId</th>\n      <th></th>\n      <th></th>\n      <th></th>\n      <th></th>\n      <th></th>\n      <th></th>\n      <th></th>\n      <th></th>\n      <th></th>\n      <th></th>\n      <th></th>\n      <th></th>\n      <th></th>\n      <th></th>\n      <th></th>\n      <th></th>\n      <th></th>\n      <th></th>\n      <th></th>\n      <th></th>\n      <th></th>\n    </tr>\n  </thead>\n  <tbody>\n    <tr>\n      <th>00dog3</th>\n      <td>0.0</td>\n      <td>0.000000</td>\n      <td>0.0</td>\n      <td>0.0</td>\n      <td>0.0</td>\n      <td>0.0</td>\n      <td>0.0</td>\n      <td>0.0</td>\n      <td>0.0</td>\n      <td>0.097375</td>\n      <td>...</td>\n      <td>0.000000</td>\n      <td>0.0</td>\n      <td>0.000000</td>\n      <td>0.000000</td>\n      <td>0.0</td>\n      <td>0.0</td>\n      <td>0.0</td>\n      <td>0.000000</td>\n      <td>0.000000</td>\n      <td>0.000000</td>\n    </tr>\n    <tr>\n      <th>00sab00</th>\n      <td>0.0</td>\n      <td>0.009935</td>\n      <td>0.0</td>\n      <td>0.0</td>\n      <td>0.0</td>\n      <td>0.0</td>\n      <td>0.0</td>\n      <td>0.0</td>\n      <td>0.0</td>\n      <td>0.017602</td>\n      <td>...</td>\n      <td>0.000000</td>\n      <td>0.0</td>\n      <td>0.017676</td>\n      <td>0.014766</td>\n      <td>0.0</td>\n      <td>0.0</td>\n      <td>0.0</td>\n      <td>0.020369</td>\n      <td>0.000000</td>\n      <td>0.002212</td>\n    </tr>\n    <tr>\n      <th>01impala</th>\n      <td>0.0</td>\n      <td>0.055597</td>\n      <td>0.0</td>\n      <td>0.0</td>\n      <td>0.0</td>\n      <td>0.0</td>\n      <td>0.0</td>\n      <td>0.0</td>\n      <td>0.0</td>\n      <td>0.044529</td>\n      <td>...</td>\n      <td>0.040201</td>\n      <td>0.0</td>\n      <td>0.030419</td>\n      <td>0.024964</td>\n      <td>0.0</td>\n      <td>0.0</td>\n      <td>0.0</td>\n      <td>0.052164</td>\n      <td>0.007430</td>\n      <td>0.015385</td>\n    </tr>\n    <tr>\n      <th>0325home</th>\n      <td>0.0</td>\n      <td>0.020769</td>\n      <td>0.0</td>\n      <td>0.0</td>\n      <td>0.0</td>\n      <td>0.0</td>\n      <td>0.0</td>\n      <td>0.0</td>\n      <td>0.0</td>\n      <td>0.013050</td>\n      <td>...</td>\n      <td>0.000000</td>\n      <td>0.0</td>\n      <td>0.000000</td>\n      <td>0.000000</td>\n      <td>0.0</td>\n      <td>0.0</td>\n      <td>0.0</td>\n      <td>0.022152</td>\n      <td>0.011285</td>\n      <td>0.000000</td>\n    </tr>\n    <tr>\n      <th>06stidriver</th>\n      <td>0.0</td>\n      <td>0.020769</td>\n      <td>0.0</td>\n      <td>0.0</td>\n      <td>0.0</td>\n      <td>0.0</td>\n      <td>0.0</td>\n      <td>0.0</td>\n      <td>0.0</td>\n      <td>0.013050</td>\n      <td>...</td>\n      <td>0.000000</td>\n      <td>0.0</td>\n      <td>0.000000</td>\n      <td>0.000000</td>\n      <td>0.0</td>\n      <td>0.0</td>\n      <td>0.0</td>\n      <td>0.022152</td>\n      <td>0.011285</td>\n      <td>0.000000</td>\n    </tr>\n  </tbody>\n</table>\n<p>5 rows × 254 columns</p>\n</div>"
     },
     "metadata": {},
     "execution_count": 57
    }
   ],
   "source": [
    "item_final_rating = np.multiply(item_predicted_ratings,dummy_train)\n",
    "item_final_rating.head()"
   ]
  },
  {
   "source": [
    "# Evaluation Item Item"
   ],
   "cell_type": "markdown",
   "metadata": {}
  },
  {
   "cell_type": "code",
   "execution_count": 58,
   "metadata": {},
   "outputs": [
    {
     "output_type": "execute_result",
     "data": {
      "text/plain": [
       "Index(['userId', 'prodId', 'rating'], dtype='object')"
      ]
     },
     "metadata": {},
     "execution_count": 58
    }
   ],
   "source": [
    "test.columns"
   ]
  },
  {
   "cell_type": "code",
   "execution_count": 59,
   "metadata": {},
   "outputs": [
    {
     "output_type": "execute_result",
     "data": {
      "text/plain": [
       "(8259, 3)"
      ]
     },
     "metadata": {},
     "execution_count": 59
    }
   ],
   "source": [
    "common =  test[test.prodId.isin(train.prodId)]\n",
    "common.shape"
   ]
  },
  {
   "cell_type": "code",
   "execution_count": 60,
   "metadata": {},
   "outputs": [
    {
     "output_type": "execute_result",
     "data": {
      "text/plain": [
       "               userId                                             prodId  \\\n",
       "1579       arylant506                Yes To Carrots Nourishing Body Wash   \n",
       "16793     maverick193  Avery174 Ready Index Contemporary Table Of Con...   \n",
       "19254          ncpace  Godzilla 3d Includes Digital Copy Ultraviolet ...   \n",
       "5590   cleanlady12345  Clorox Disinfecting Wipes Value Pack Scented 1...   \n",
       "\n",
       "       rating  \n",
       "1579      5.0  \n",
       "16793     5.0  \n",
       "19254     5.0  \n",
       "5590      4.0  "
      ],
      "text/html": "<div>\n<style scoped>\n    .dataframe tbody tr th:only-of-type {\n        vertical-align: middle;\n    }\n\n    .dataframe tbody tr th {\n        vertical-align: top;\n    }\n\n    .dataframe thead th {\n        text-align: right;\n    }\n</style>\n<table border=\"1\" class=\"dataframe\">\n  <thead>\n    <tr style=\"text-align: right;\">\n      <th></th>\n      <th>userId</th>\n      <th>prodId</th>\n      <th>rating</th>\n    </tr>\n  </thead>\n  <tbody>\n    <tr>\n      <th>1579</th>\n      <td>arylant506</td>\n      <td>Yes To Carrots Nourishing Body Wash</td>\n      <td>5.0</td>\n    </tr>\n    <tr>\n      <th>16793</th>\n      <td>maverick193</td>\n      <td>Avery174 Ready Index Contemporary Table Of Con...</td>\n      <td>5.0</td>\n    </tr>\n    <tr>\n      <th>19254</th>\n      <td>ncpace</td>\n      <td>Godzilla 3d Includes Digital Copy Ultraviolet ...</td>\n      <td>5.0</td>\n    </tr>\n    <tr>\n      <th>5590</th>\n      <td>cleanlady12345</td>\n      <td>Clorox Disinfecting Wipes Value Pack Scented 1...</td>\n      <td>4.0</td>\n    </tr>\n  </tbody>\n</table>\n</div>"
     },
     "metadata": {},
     "execution_count": 60
    }
   ],
   "source": [
    "common.head(4)"
   ]
  },
  {
   "cell_type": "code",
   "execution_count": 61,
   "metadata": {},
   "outputs": [],
   "source": [
    "common_item_based_matrix = common.pivot_table(index='userId', columns='prodId', values='rating').T"
   ]
  },
  {
   "cell_type": "code",
   "execution_count": 62,
   "metadata": {},
   "outputs": [
    {
     "output_type": "execute_result",
     "data": {
      "text/plain": [
       "(199, 7946)"
      ]
     },
     "metadata": {},
     "execution_count": 62
    }
   ],
   "source": [
    "common_item_based_matrix.shape"
   ]
  },
  {
   "cell_type": "code",
   "execution_count": 63,
   "metadata": {},
   "outputs": [],
   "source": [
    "item_correlation_df = pd.DataFrame(item_correlation)"
   ]
  },
  {
   "cell_type": "code",
   "execution_count": 64,
   "metadata": {},
   "outputs": [
    {
     "output_type": "execute_result",
     "data": {
      "text/plain": [
       "     0         1    2    3    4    5    6    7    8    9    ...  244  245  \\\n",
       "244  0.0  0.000000  0.0  0.0  0.0  0.0  0.0  0.0  0.0  0.0  ...  1.0  0.0   \n",
       "245  0.0  0.000000  0.0  0.0  0.0  0.0  0.0  0.0  0.0  0.0  ...  0.0  1.0   \n",
       "246  0.0  0.000000  0.0  0.0  0.0  0.0  0.0  0.0  0.0  0.0  ...  0.0  0.0   \n",
       "247  0.0  0.000000  0.0  0.0  0.0  0.0  0.0  0.0  0.0  0.0  ...  0.0  0.0   \n",
       "248  0.0  0.000000  0.0  0.0  0.0  0.0  0.0  0.0  0.0  0.0  ...  0.0  0.0   \n",
       "249  0.0  0.000000  0.0  0.0  0.0  0.0  0.0  0.0  0.0  0.0  ...  0.0  0.0   \n",
       "250  0.0  0.000000  0.0  0.0  0.0  0.0  0.0  0.0  0.0  0.0  ...  0.0  0.0   \n",
       "251  0.0  0.002569  0.0  0.0  0.0  0.0  0.0  0.0  0.0  0.0  ...  0.0  0.0   \n",
       "252  0.0  0.000000  0.0  0.0  0.0  0.0  0.0  0.0  0.0  0.0  ...  0.0  0.0   \n",
       "253  0.0  0.000000  0.0  0.0  0.0  0.0  0.0  0.0  0.0  0.0  ...  0.0  0.0   \n",
       "\n",
       "     246       247  248  249  250       251  252  253  \n",
       "244  0.0  0.000000  0.0  0.0  0.0  0.000000  0.0  0.0  \n",
       "245  0.0  0.000000  0.0  0.0  0.0  0.000000  0.0  0.0  \n",
       "246  1.0  0.000000  0.0  0.0  0.0  0.000000  0.0  0.0  \n",
       "247  0.0  1.000000  0.0  0.0  0.0  0.027867  0.0  0.0  \n",
       "248  0.0  0.000000  1.0  0.0  0.0  0.000000  0.0  0.0  \n",
       "249  0.0  0.000000  0.0  1.0  0.0  0.000000  0.0  0.0  \n",
       "250  0.0  0.000000  0.0  0.0  1.0  0.000000  0.0  0.0  \n",
       "251  0.0  0.027867  0.0  0.0  0.0  1.000000  0.0  0.0  \n",
       "252  0.0  0.000000  0.0  0.0  0.0  0.000000  1.0  0.0  \n",
       "253  0.0  0.000000  0.0  0.0  0.0  0.000000  0.0  1.0  \n",
       "\n",
       "[10 rows x 254 columns]"
      ],
      "text/html": "<div>\n<style scoped>\n    .dataframe tbody tr th:only-of-type {\n        vertical-align: middle;\n    }\n\n    .dataframe tbody tr th {\n        vertical-align: top;\n    }\n\n    .dataframe thead th {\n        text-align: right;\n    }\n</style>\n<table border=\"1\" class=\"dataframe\">\n  <thead>\n    <tr style=\"text-align: right;\">\n      <th></th>\n      <th>0</th>\n      <th>1</th>\n      <th>2</th>\n      <th>3</th>\n      <th>4</th>\n      <th>5</th>\n      <th>6</th>\n      <th>7</th>\n      <th>8</th>\n      <th>9</th>\n      <th>...</th>\n      <th>244</th>\n      <th>245</th>\n      <th>246</th>\n      <th>247</th>\n      <th>248</th>\n      <th>249</th>\n      <th>250</th>\n      <th>251</th>\n      <th>252</th>\n      <th>253</th>\n    </tr>\n  </thead>\n  <tbody>\n    <tr>\n      <th>244</th>\n      <td>0.0</td>\n      <td>0.000000</td>\n      <td>0.0</td>\n      <td>0.0</td>\n      <td>0.0</td>\n      <td>0.0</td>\n      <td>0.0</td>\n      <td>0.0</td>\n      <td>0.0</td>\n      <td>0.0</td>\n      <td>...</td>\n      <td>1.0</td>\n      <td>0.0</td>\n      <td>0.0</td>\n      <td>0.000000</td>\n      <td>0.0</td>\n      <td>0.0</td>\n      <td>0.0</td>\n      <td>0.000000</td>\n      <td>0.0</td>\n      <td>0.0</td>\n    </tr>\n    <tr>\n      <th>245</th>\n      <td>0.0</td>\n      <td>0.000000</td>\n      <td>0.0</td>\n      <td>0.0</td>\n      <td>0.0</td>\n      <td>0.0</td>\n      <td>0.0</td>\n      <td>0.0</td>\n      <td>0.0</td>\n      <td>0.0</td>\n      <td>...</td>\n      <td>0.0</td>\n      <td>1.0</td>\n      <td>0.0</td>\n      <td>0.000000</td>\n      <td>0.0</td>\n      <td>0.0</td>\n      <td>0.0</td>\n      <td>0.000000</td>\n      <td>0.0</td>\n      <td>0.0</td>\n    </tr>\n    <tr>\n      <th>246</th>\n      <td>0.0</td>\n      <td>0.000000</td>\n      <td>0.0</td>\n      <td>0.0</td>\n      <td>0.0</td>\n      <td>0.0</td>\n      <td>0.0</td>\n      <td>0.0</td>\n      <td>0.0</td>\n      <td>0.0</td>\n      <td>...</td>\n      <td>0.0</td>\n      <td>0.0</td>\n      <td>1.0</td>\n      <td>0.000000</td>\n      <td>0.0</td>\n      <td>0.0</td>\n      <td>0.0</td>\n      <td>0.000000</td>\n      <td>0.0</td>\n      <td>0.0</td>\n    </tr>\n    <tr>\n      <th>247</th>\n      <td>0.0</td>\n      <td>0.000000</td>\n      <td>0.0</td>\n      <td>0.0</td>\n      <td>0.0</td>\n      <td>0.0</td>\n      <td>0.0</td>\n      <td>0.0</td>\n      <td>0.0</td>\n      <td>0.0</td>\n      <td>...</td>\n      <td>0.0</td>\n      <td>0.0</td>\n      <td>0.0</td>\n      <td>1.000000</td>\n      <td>0.0</td>\n      <td>0.0</td>\n      <td>0.0</td>\n      <td>0.027867</td>\n      <td>0.0</td>\n      <td>0.0</td>\n    </tr>\n    <tr>\n      <th>248</th>\n      <td>0.0</td>\n      <td>0.000000</td>\n      <td>0.0</td>\n      <td>0.0</td>\n      <td>0.0</td>\n      <td>0.0</td>\n      <td>0.0</td>\n      <td>0.0</td>\n      <td>0.0</td>\n      <td>0.0</td>\n      <td>...</td>\n      <td>0.0</td>\n      <td>0.0</td>\n      <td>0.0</td>\n      <td>0.000000</td>\n      <td>1.0</td>\n      <td>0.0</td>\n      <td>0.0</td>\n      <td>0.000000</td>\n      <td>0.0</td>\n      <td>0.0</td>\n    </tr>\n    <tr>\n      <th>249</th>\n      <td>0.0</td>\n      <td>0.000000</td>\n      <td>0.0</td>\n      <td>0.0</td>\n      <td>0.0</td>\n      <td>0.0</td>\n      <td>0.0</td>\n      <td>0.0</td>\n      <td>0.0</td>\n      <td>0.0</td>\n      <td>...</td>\n      <td>0.0</td>\n      <td>0.0</td>\n      <td>0.0</td>\n      <td>0.000000</td>\n      <td>0.0</td>\n      <td>1.0</td>\n      <td>0.0</td>\n      <td>0.000000</td>\n      <td>0.0</td>\n      <td>0.0</td>\n    </tr>\n    <tr>\n      <th>250</th>\n      <td>0.0</td>\n      <td>0.000000</td>\n      <td>0.0</td>\n      <td>0.0</td>\n      <td>0.0</td>\n      <td>0.0</td>\n      <td>0.0</td>\n      <td>0.0</td>\n      <td>0.0</td>\n      <td>0.0</td>\n      <td>...</td>\n      <td>0.0</td>\n      <td>0.0</td>\n      <td>0.0</td>\n      <td>0.000000</td>\n      <td>0.0</td>\n      <td>0.0</td>\n      <td>1.0</td>\n      <td>0.000000</td>\n      <td>0.0</td>\n      <td>0.0</td>\n    </tr>\n    <tr>\n      <th>251</th>\n      <td>0.0</td>\n      <td>0.002569</td>\n      <td>0.0</td>\n      <td>0.0</td>\n      <td>0.0</td>\n      <td>0.0</td>\n      <td>0.0</td>\n      <td>0.0</td>\n      <td>0.0</td>\n      <td>0.0</td>\n      <td>...</td>\n      <td>0.0</td>\n      <td>0.0</td>\n      <td>0.0</td>\n      <td>0.027867</td>\n      <td>0.0</td>\n      <td>0.0</td>\n      <td>0.0</td>\n      <td>1.000000</td>\n      <td>0.0</td>\n      <td>0.0</td>\n    </tr>\n    <tr>\n      <th>252</th>\n      <td>0.0</td>\n      <td>0.000000</td>\n      <td>0.0</td>\n      <td>0.0</td>\n      <td>0.0</td>\n      <td>0.0</td>\n      <td>0.0</td>\n      <td>0.0</td>\n      <td>0.0</td>\n      <td>0.0</td>\n      <td>...</td>\n      <td>0.0</td>\n      <td>0.0</td>\n      <td>0.0</td>\n      <td>0.000000</td>\n      <td>0.0</td>\n      <td>0.0</td>\n      <td>0.0</td>\n      <td>0.000000</td>\n      <td>1.0</td>\n      <td>0.0</td>\n    </tr>\n    <tr>\n      <th>253</th>\n      <td>0.0</td>\n      <td>0.000000</td>\n      <td>0.0</td>\n      <td>0.0</td>\n      <td>0.0</td>\n      <td>0.0</td>\n      <td>0.0</td>\n      <td>0.0</td>\n      <td>0.0</td>\n      <td>0.0</td>\n      <td>...</td>\n      <td>0.0</td>\n      <td>0.0</td>\n      <td>0.0</td>\n      <td>0.000000</td>\n      <td>0.0</td>\n      <td>0.0</td>\n      <td>0.0</td>\n      <td>0.000000</td>\n      <td>0.0</td>\n      <td>1.0</td>\n    </tr>\n  </tbody>\n</table>\n<p>10 rows × 254 columns</p>\n</div>"
     },
     "metadata": {},
     "execution_count": 64
    }
   ],
   "source": [
    "item_correlation_df.tail(10)"
   ]
  },
  {
   "cell_type": "code",
   "execution_count": 66,
   "metadata": {},
   "outputs": [
    {
     "output_type": "execute_result",
     "data": {
      "text/plain": [
       "                                                    0    1    2    3    4    \\\n",
       "prodId                                                                        \n",
       "0.6 Cu. Ft. Letter A4 Size Waterproof 30 Min. F...  1.0  0.0  0.0  0.0  0.0   \n",
       "100:Complete First Season (blu-Ray)                 0.0  1.0  0.0  0.0  0.0   \n",
       "2017-2018 Brownline174 Duraflex 14-Month Planne...  0.0  0.0  1.0  0.0  0.0   \n",
       "2x Ultra Era with Oxi Booster, 50fl oz              0.0  0.0  0.0  1.0  0.0   \n",
       "42 Dual Drop Leaf Table with 2 Madrid Chairs\"       0.0  0.0  0.0  0.0  1.0   \n",
       "\n",
       "                                                    5    6    7    8    9    \\\n",
       "prodId                                                                        \n",
       "0.6 Cu. Ft. Letter A4 Size Waterproof 30 Min. F...  0.0  0.0  0.0  0.0  0.0   \n",
       "100:Complete First Season (blu-Ray)                 0.0  0.0  0.0  0.0  0.0   \n",
       "2017-2018 Brownline174 Duraflex 14-Month Planne...  0.0  0.0  0.0  0.0  0.0   \n",
       "2x Ultra Era with Oxi Booster, 50fl oz              0.0  0.0  0.0  0.0  0.0   \n",
       "42 Dual Drop Leaf Table with 2 Madrid Chairs\"       0.0  0.0  0.0  0.0  0.0   \n",
       "\n",
       "                                                    ...  244  245  246  247  \\\n",
       "prodId                                              ...                       \n",
       "0.6 Cu. Ft. Letter A4 Size Waterproof 30 Min. F...  ...  0.0  0.0  0.0  0.0   \n",
       "100:Complete First Season (blu-Ray)                 ...  0.0  0.0  0.0  0.0   \n",
       "2017-2018 Brownline174 Duraflex 14-Month Planne...  ...  0.0  0.0  0.0  0.0   \n",
       "2x Ultra Era with Oxi Booster, 50fl oz              ...  0.0  0.0  0.0  0.0   \n",
       "42 Dual Drop Leaf Table with 2 Madrid Chairs\"       ...  0.0  0.0  0.0  0.0   \n",
       "\n",
       "                                                    248  249  250       251  \\\n",
       "prodId                                                                        \n",
       "0.6 Cu. Ft. Letter A4 Size Waterproof 30 Min. F...  0.0  0.0  0.0  0.000000   \n",
       "100:Complete First Season (blu-Ray)                 0.0  0.0  0.0  0.002569   \n",
       "2017-2018 Brownline174 Duraflex 14-Month Planne...  0.0  0.0  0.0  0.000000   \n",
       "2x Ultra Era with Oxi Booster, 50fl oz              0.0  0.0  0.0  0.000000   \n",
       "42 Dual Drop Leaf Table with 2 Madrid Chairs\"       0.0  0.0  0.0  0.000000   \n",
       "\n",
       "                                                    252  253  \n",
       "prodId                                                        \n",
       "0.6 Cu. Ft. Letter A4 Size Waterproof 30 Min. F...  0.0  0.0  \n",
       "100:Complete First Season (blu-Ray)                 0.0  0.0  \n",
       "2017-2018 Brownline174 Duraflex 14-Month Planne...  0.0  0.0  \n",
       "2x Ultra Era with Oxi Booster, 50fl oz              0.0  0.0  \n",
       "42 Dual Drop Leaf Table with 2 Madrid Chairs\"       0.0  0.0  \n",
       "\n",
       "[5 rows x 254 columns]"
      ],
      "text/html": "<div>\n<style scoped>\n    .dataframe tbody tr th:only-of-type {\n        vertical-align: middle;\n    }\n\n    .dataframe tbody tr th {\n        vertical-align: top;\n    }\n\n    .dataframe thead th {\n        text-align: right;\n    }\n</style>\n<table border=\"1\" class=\"dataframe\">\n  <thead>\n    <tr style=\"text-align: right;\">\n      <th></th>\n      <th>0</th>\n      <th>1</th>\n      <th>2</th>\n      <th>3</th>\n      <th>4</th>\n      <th>5</th>\n      <th>6</th>\n      <th>7</th>\n      <th>8</th>\n      <th>9</th>\n      <th>...</th>\n      <th>244</th>\n      <th>245</th>\n      <th>246</th>\n      <th>247</th>\n      <th>248</th>\n      <th>249</th>\n      <th>250</th>\n      <th>251</th>\n      <th>252</th>\n      <th>253</th>\n    </tr>\n    <tr>\n      <th>prodId</th>\n      <th></th>\n      <th></th>\n      <th></th>\n      <th></th>\n      <th></th>\n      <th></th>\n      <th></th>\n      <th></th>\n      <th></th>\n      <th></th>\n      <th></th>\n      <th></th>\n      <th></th>\n      <th></th>\n      <th></th>\n      <th></th>\n      <th></th>\n      <th></th>\n      <th></th>\n      <th></th>\n      <th></th>\n    </tr>\n  </thead>\n  <tbody>\n    <tr>\n      <th>0.6 Cu. Ft. Letter A4 Size Waterproof 30 Min. Fire File Chest</th>\n      <td>1.0</td>\n      <td>0.0</td>\n      <td>0.0</td>\n      <td>0.0</td>\n      <td>0.0</td>\n      <td>0.0</td>\n      <td>0.0</td>\n      <td>0.0</td>\n      <td>0.0</td>\n      <td>0.0</td>\n      <td>...</td>\n      <td>0.0</td>\n      <td>0.0</td>\n      <td>0.0</td>\n      <td>0.0</td>\n      <td>0.0</td>\n      <td>0.0</td>\n      <td>0.0</td>\n      <td>0.000000</td>\n      <td>0.0</td>\n      <td>0.0</td>\n    </tr>\n    <tr>\n      <th>100:Complete First Season (blu-Ray)</th>\n      <td>0.0</td>\n      <td>1.0</td>\n      <td>0.0</td>\n      <td>0.0</td>\n      <td>0.0</td>\n      <td>0.0</td>\n      <td>0.0</td>\n      <td>0.0</td>\n      <td>0.0</td>\n      <td>0.0</td>\n      <td>...</td>\n      <td>0.0</td>\n      <td>0.0</td>\n      <td>0.0</td>\n      <td>0.0</td>\n      <td>0.0</td>\n      <td>0.0</td>\n      <td>0.0</td>\n      <td>0.002569</td>\n      <td>0.0</td>\n      <td>0.0</td>\n    </tr>\n    <tr>\n      <th>2017-2018 Brownline174 Duraflex 14-Month Planner 8 1/2 X 11 Black</th>\n      <td>0.0</td>\n      <td>0.0</td>\n      <td>1.0</td>\n      <td>0.0</td>\n      <td>0.0</td>\n      <td>0.0</td>\n      <td>0.0</td>\n      <td>0.0</td>\n      <td>0.0</td>\n      <td>0.0</td>\n      <td>...</td>\n      <td>0.0</td>\n      <td>0.0</td>\n      <td>0.0</td>\n      <td>0.0</td>\n      <td>0.0</td>\n      <td>0.0</td>\n      <td>0.0</td>\n      <td>0.000000</td>\n      <td>0.0</td>\n      <td>0.0</td>\n    </tr>\n    <tr>\n      <th>2x Ultra Era with Oxi Booster, 50fl oz</th>\n      <td>0.0</td>\n      <td>0.0</td>\n      <td>0.0</td>\n      <td>1.0</td>\n      <td>0.0</td>\n      <td>0.0</td>\n      <td>0.0</td>\n      <td>0.0</td>\n      <td>0.0</td>\n      <td>0.0</td>\n      <td>...</td>\n      <td>0.0</td>\n      <td>0.0</td>\n      <td>0.0</td>\n      <td>0.0</td>\n      <td>0.0</td>\n      <td>0.0</td>\n      <td>0.0</td>\n      <td>0.000000</td>\n      <td>0.0</td>\n      <td>0.0</td>\n    </tr>\n    <tr>\n      <th>42 Dual Drop Leaf Table with 2 Madrid Chairs\"</th>\n      <td>0.0</td>\n      <td>0.0</td>\n      <td>0.0</td>\n      <td>0.0</td>\n      <td>1.0</td>\n      <td>0.0</td>\n      <td>0.0</td>\n      <td>0.0</td>\n      <td>0.0</td>\n      <td>0.0</td>\n      <td>...</td>\n      <td>0.0</td>\n      <td>0.0</td>\n      <td>0.0</td>\n      <td>0.0</td>\n      <td>0.0</td>\n      <td>0.0</td>\n      <td>0.0</td>\n      <td>0.000000</td>\n      <td>0.0</td>\n      <td>0.0</td>\n    </tr>\n  </tbody>\n</table>\n<p>5 rows × 254 columns</p>\n</div>"
     },
     "metadata": {},
     "execution_count": 66
    }
   ],
   "source": [
    "item_correlation_df['prodId'] = df_pivot.index\n",
    "item_correlation_df.set_index('prodId',inplace=True)\n",
    "item_correlation_df.head()"
   ]
  },
  {
   "cell_type": "code",
   "execution_count": 67,
   "metadata": {},
   "outputs": [],
   "source": [
    "list_name = common.prodId.tolist()"
   ]
  },
  {
   "cell_type": "code",
   "execution_count": 68,
   "metadata": {},
   "outputs": [],
   "source": [
    "item_correlation_df.columns = df_pivot.index.tolist()\n",
    "\n",
    "item_correlation_df_1 =  item_correlation_df[item_correlation_df.index.isin(list_name)]"
   ]
  },
  {
   "cell_type": "code",
   "execution_count": 69,
   "metadata": {},
   "outputs": [],
   "source": [
    "item_correlation_df_2 = item_correlation_df_1.T[item_correlation_df_1.T.index.isin(list_name)]\n",
    "\n",
    "item_correlation_df_3 = item_correlation_df_2.T"
   ]
  },
  {
   "cell_type": "code",
   "execution_count": 70,
   "metadata": {},
   "outputs": [
    {
     "output_type": "execute_result",
     "data": {
      "text/plain": [
       "                                                    0.6 Cu. Ft. Letter A4 Size Waterproof 30 Min. Fire File Chest  \\\n",
       "prodId                                                                                                              \n",
       "0.6 Cu. Ft. Letter A4 Size Waterproof 30 Min. F...                                                1.0               \n",
       "100:Complete First Season (blu-Ray)                                                               0.0               \n",
       "2017-2018 Brownline174 Duraflex 14-Month Planne...                                                0.0               \n",
       "2x Ultra Era with Oxi Booster, 50fl oz                                                            0.0               \n",
       "4C Grated Parmesan Cheese 100% Natural 8oz Shaker                                                 0.0               \n",
       "\n",
       "                                                    100:Complete First Season (blu-Ray)  \\\n",
       "prodId                                                                                    \n",
       "0.6 Cu. Ft. Letter A4 Size Waterproof 30 Min. F...                                  0.0   \n",
       "100:Complete First Season (blu-Ray)                                                 1.0   \n",
       "2017-2018 Brownline174 Duraflex 14-Month Planne...                                  0.0   \n",
       "2x Ultra Era with Oxi Booster, 50fl oz                                              0.0   \n",
       "4C Grated Parmesan Cheese 100% Natural 8oz Shaker                                   0.0   \n",
       "\n",
       "                                                    2017-2018 Brownline174 Duraflex 14-Month Planner 8 1/2 X 11 Black  \\\n",
       "prodId                                                                                                                  \n",
       "0.6 Cu. Ft. Letter A4 Size Waterproof 30 Min. F...                                                0.0                   \n",
       "100:Complete First Season (blu-Ray)                                                               0.0                   \n",
       "2017-2018 Brownline174 Duraflex 14-Month Planne...                                                1.0                   \n",
       "2x Ultra Era with Oxi Booster, 50fl oz                                                            0.0                   \n",
       "4C Grated Parmesan Cheese 100% Natural 8oz Shaker                                                 0.0                   \n",
       "\n",
       "                                                    2x Ultra Era with Oxi Booster, 50fl oz  \\\n",
       "prodId                                                                                       \n",
       "0.6 Cu. Ft. Letter A4 Size Waterproof 30 Min. F...                                     0.0   \n",
       "100:Complete First Season (blu-Ray)                                                    0.0   \n",
       "2017-2018 Brownline174 Duraflex 14-Month Planne...                                     0.0   \n",
       "2x Ultra Era with Oxi Booster, 50fl oz                                                 1.0   \n",
       "4C Grated Parmesan Cheese 100% Natural 8oz Shaker                                      0.0   \n",
       "\n",
       "                                                    4C Grated Parmesan Cheese 100% Natural 8oz Shaker  \\\n",
       "prodId                                                                                                  \n",
       "0.6 Cu. Ft. Letter A4 Size Waterproof 30 Min. F...                                                0.0   \n",
       "100:Complete First Season (blu-Ray)                                                               0.0   \n",
       "2017-2018 Brownline174 Duraflex 14-Month Planne...                                                0.0   \n",
       "2x Ultra Era with Oxi Booster, 50fl oz                                                            0.0   \n",
       "4C Grated Parmesan Cheese 100% Natural 8oz Shaker                                                 1.0   \n",
       "\n",
       "                                                    Africa's Best No-Lye Dual Conditioning Relaxer System Super  \\\n",
       "prodId                                                                                                            \n",
       "0.6 Cu. Ft. Letter A4 Size Waterproof 30 Min. F...                                                0.0             \n",
       "100:Complete First Season (blu-Ray)                                                               0.0             \n",
       "2017-2018 Brownline174 Duraflex 14-Month Planne...                                                0.0             \n",
       "2x Ultra Era with Oxi Booster, 50fl oz                                                            0.0             \n",
       "4C Grated Parmesan Cheese 100% Natural 8oz Shaker                                                 0.0             \n",
       "\n",
       "                                                    Alberto VO5 Salon Series Smooth Plus Sleek Shampoo  \\\n",
       "prodId                                                                                                   \n",
       "0.6 Cu. Ft. Letter A4 Size Waterproof 30 Min. F...                                                0.0    \n",
       "100:Complete First Season (blu-Ray)                                                               0.0    \n",
       "2017-2018 Brownline174 Duraflex 14-Month Planne...                                                0.0    \n",
       "2x Ultra Era with Oxi Booster, 50fl oz                                                            0.0    \n",
       "4C Grated Parmesan Cheese 100% Natural 8oz Shaker                                                 0.0    \n",
       "\n",
       "                                                    Alex Cross (dvdvideo)  \\\n",
       "prodId                                                                      \n",
       "0.6 Cu. Ft. Letter A4 Size Waterproof 30 Min. F...                    0.0   \n",
       "100:Complete First Season (blu-Ray)                                   0.0   \n",
       "2017-2018 Brownline174 Duraflex 14-Month Planne...                    0.0   \n",
       "2x Ultra Era with Oxi Booster, 50fl oz                                0.0   \n",
       "4C Grated Parmesan Cheese 100% Natural 8oz Shaker                     0.0   \n",
       "\n",
       "                                                    All,bran Complete Wheat Flakes, 18 Oz.  \\\n",
       "prodId                                                                                       \n",
       "0.6 Cu. Ft. Letter A4 Size Waterproof 30 Min. F...                                     0.0   \n",
       "100:Complete First Season (blu-Ray)                                                    0.0   \n",
       "2017-2018 Brownline174 Duraflex 14-Month Planne...                                     0.0   \n",
       "2x Ultra Era with Oxi Booster, 50fl oz                                                 0.0   \n",
       "4C Grated Parmesan Cheese 100% Natural 8oz Shaker                                      0.0   \n",
       "\n",
       "                                                    Ambi Complexion Cleansing Bar  \\\n",
       "prodId                                                                              \n",
       "0.6 Cu. Ft. Letter A4 Size Waterproof 30 Min. F...                            0.0   \n",
       "100:Complete First Season (blu-Ray)                                           0.0   \n",
       "2017-2018 Brownline174 Duraflex 14-Month Planne...                            0.0   \n",
       "2x Ultra Era with Oxi Booster, 50fl oz                                        0.0   \n",
       "4C Grated Parmesan Cheese 100% Natural 8oz Shaker                             0.0   \n",
       "\n",
       "                                                    ...  \\\n",
       "prodId                                              ...   \n",
       "0.6 Cu. Ft. Letter A4 Size Waterproof 30 Min. F...  ...   \n",
       "100:Complete First Season (blu-Ray)                 ...   \n",
       "2017-2018 Brownline174 Duraflex 14-Month Planne...  ...   \n",
       "2x Ultra Era with Oxi Booster, 50fl oz              ...   \n",
       "4C Grated Parmesan Cheese 100% Natural 8oz Shaker   ...   \n",
       "\n",
       "                                                    Vaseline Intensive Care Lip Therapy Cocoa Butter  \\\n",
       "prodId                                                                                                 \n",
       "0.6 Cu. Ft. Letter A4 Size Waterproof 30 Min. F...                                               0.0   \n",
       "100:Complete First Season (blu-Ray)                                                              0.0   \n",
       "2017-2018 Brownline174 Duraflex 14-Month Planne...                                               0.0   \n",
       "2x Ultra Era with Oxi Booster, 50fl oz                                                           0.0   \n",
       "4C Grated Parmesan Cheese 100% Natural 8oz Shaker                                                0.0   \n",
       "\n",
       "                                                    Vicks Vaporub, Regular, 3.53oz  \\\n",
       "prodId                                                                               \n",
       "0.6 Cu. Ft. Letter A4 Size Waterproof 30 Min. F...                             0.0   \n",
       "100:Complete First Season (blu-Ray)                                            0.0   \n",
       "2017-2018 Brownline174 Duraflex 14-Month Planne...                             0.0   \n",
       "2x Ultra Era with Oxi Booster, 50fl oz                                         0.0   \n",
       "4C Grated Parmesan Cheese 100% Natural 8oz Shaker                              0.0   \n",
       "\n",
       "                                                    Voortman Sugar Free Fudge Chocolate Chip Cookies  \\\n",
       "prodId                                                                                                 \n",
       "0.6 Cu. Ft. Letter A4 Size Waterproof 30 Min. F...                                               0.0   \n",
       "100:Complete First Season (blu-Ray)                                                              0.0   \n",
       "2017-2018 Brownline174 Duraflex 14-Month Planne...                                               0.0   \n",
       "2x Ultra Era with Oxi Booster, 50fl oz                                                           0.0   \n",
       "4C Grated Parmesan Cheese 100% Natural 8oz Shaker                                                0.0   \n",
       "\n",
       "                                                    Wagan Smartac 80watt Inverter With Usb  \\\n",
       "prodId                                                                                       \n",
       "0.6 Cu. Ft. Letter A4 Size Waterproof 30 Min. F...                                     0.0   \n",
       "100:Complete First Season (blu-Ray)                                                    0.0   \n",
       "2017-2018 Brownline174 Duraflex 14-Month Planne...                                     0.0   \n",
       "2x Ultra Era with Oxi Booster, 50fl oz                                                 0.0   \n",
       "4C Grated Parmesan Cheese 100% Natural 8oz Shaker                                      0.0   \n",
       "\n",
       "                                                    Way Basics 3-Shelf Eco Narrow Bookcase Storage Shelf, Espresso - Formaldehyde Free - Lifetime Guarantee  \\\n",
       "prodId                                                                                                                                                        \n",
       "0.6 Cu. Ft. Letter A4 Size Waterproof 30 Min. F...                                                0.0                                                         \n",
       "100:Complete First Season (blu-Ray)                                                               0.0                                                         \n",
       "2017-2018 Brownline174 Duraflex 14-Month Planne...                                                0.0                                                         \n",
       "2x Ultra Era with Oxi Booster, 50fl oz                                                            0.0                                                         \n",
       "4C Grated Parmesan Cheese 100% Natural 8oz Shaker                                                 0.0                                                         \n",
       "\n",
       "                                                    WeatherTech 40647 14-15 Outlander Cargo Liners Behind 2nd Row, Black  \\\n",
       "prodId                                                                                                                     \n",
       "0.6 Cu. Ft. Letter A4 Size Waterproof 30 Min. F...                                                0.0                      \n",
       "100:Complete First Season (blu-Ray)                                                               0.0                      \n",
       "2017-2018 Brownline174 Duraflex 14-Month Planne...                                                0.0                      \n",
       "2x Ultra Era with Oxi Booster, 50fl oz                                                            0.0                      \n",
       "4C Grated Parmesan Cheese 100% Natural 8oz Shaker                                                 0.0                      \n",
       "\n",
       "                                                    Weleda Everon Lip Balm  \\\n",
       "prodId                                                                       \n",
       "0.6 Cu. Ft. Letter A4 Size Waterproof 30 Min. F...                     0.0   \n",
       "100:Complete First Season (blu-Ray)                                    0.0   \n",
       "2017-2018 Brownline174 Duraflex 14-Month Planne...                     0.0   \n",
       "2x Ultra Era with Oxi Booster, 50fl oz                                 0.0   \n",
       "4C Grated Parmesan Cheese 100% Natural 8oz Shaker                      0.0   \n",
       "\n",
       "                                                    Windex Original Glass Cleaner Refill 67.6oz (2 Liter)  \\\n",
       "prodId                                                                                                      \n",
       "0.6 Cu. Ft. Letter A4 Size Waterproof 30 Min. F...                                           0.000000       \n",
       "100:Complete First Season (blu-Ray)                                                          0.002569       \n",
       "2017-2018 Brownline174 Duraflex 14-Month Planne...                                           0.000000       \n",
       "2x Ultra Era with Oxi Booster, 50fl oz                                                       0.000000       \n",
       "4C Grated Parmesan Cheese 100% Natural 8oz Shaker                                            0.000000       \n",
       "\n",
       "                                                    Yes To Carrots Nourishing Body Wash  \\\n",
       "prodId                                                                                    \n",
       "0.6 Cu. Ft. Letter A4 Size Waterproof 30 Min. F...                                  0.0   \n",
       "100:Complete First Season (blu-Ray)                                                 0.0   \n",
       "2017-2018 Brownline174 Duraflex 14-Month Planne...                                  0.0   \n",
       "2x Ultra Era with Oxi Booster, 50fl oz                                              0.0   \n",
       "4C Grated Parmesan Cheese 100% Natural 8oz Shaker                                   0.0   \n",
       "\n",
       "                                                    Yes To Grapefruit Rejuvenating Body Wash  \n",
       "prodId                                                                                        \n",
       "0.6 Cu. Ft. Letter A4 Size Waterproof 30 Min. F...                                       0.0  \n",
       "100:Complete First Season (blu-Ray)                                                      0.0  \n",
       "2017-2018 Brownline174 Duraflex 14-Month Planne...                                       0.0  \n",
       "2x Ultra Era with Oxi Booster, 50fl oz                                                   0.0  \n",
       "4C Grated Parmesan Cheese 100% Natural 8oz Shaker                                        0.0  \n",
       "\n",
       "[5 rows x 199 columns]"
      ],
      "text/html": "<div>\n<style scoped>\n    .dataframe tbody tr th:only-of-type {\n        vertical-align: middle;\n    }\n\n    .dataframe tbody tr th {\n        vertical-align: top;\n    }\n\n    .dataframe thead th {\n        text-align: right;\n    }\n</style>\n<table border=\"1\" class=\"dataframe\">\n  <thead>\n    <tr style=\"text-align: right;\">\n      <th></th>\n      <th>0.6 Cu. Ft. Letter A4 Size Waterproof 30 Min. Fire File Chest</th>\n      <th>100:Complete First Season (blu-Ray)</th>\n      <th>2017-2018 Brownline174 Duraflex 14-Month Planner 8 1/2 X 11 Black</th>\n      <th>2x Ultra Era with Oxi Booster, 50fl oz</th>\n      <th>4C Grated Parmesan Cheese 100% Natural 8oz Shaker</th>\n      <th>Africa's Best No-Lye Dual Conditioning Relaxer System Super</th>\n      <th>Alberto VO5 Salon Series Smooth Plus Sleek Shampoo</th>\n      <th>Alex Cross (dvdvideo)</th>\n      <th>All,bran Complete Wheat Flakes, 18 Oz.</th>\n      <th>Ambi Complexion Cleansing Bar</th>\n      <th>...</th>\n      <th>Vaseline Intensive Care Lip Therapy Cocoa Butter</th>\n      <th>Vicks Vaporub, Regular, 3.53oz</th>\n      <th>Voortman Sugar Free Fudge Chocolate Chip Cookies</th>\n      <th>Wagan Smartac 80watt Inverter With Usb</th>\n      <th>Way Basics 3-Shelf Eco Narrow Bookcase Storage Shelf, Espresso - Formaldehyde Free - Lifetime Guarantee</th>\n      <th>WeatherTech 40647 14-15 Outlander Cargo Liners Behind 2nd Row, Black</th>\n      <th>Weleda Everon Lip Balm</th>\n      <th>Windex Original Glass Cleaner Refill 67.6oz (2 Liter)</th>\n      <th>Yes To Carrots Nourishing Body Wash</th>\n      <th>Yes To Grapefruit Rejuvenating Body Wash</th>\n    </tr>\n    <tr>\n      <th>prodId</th>\n      <th></th>\n      <th></th>\n      <th></th>\n      <th></th>\n      <th></th>\n      <th></th>\n      <th></th>\n      <th></th>\n      <th></th>\n      <th></th>\n      <th></th>\n      <th></th>\n      <th></th>\n      <th></th>\n      <th></th>\n      <th></th>\n      <th></th>\n      <th></th>\n      <th></th>\n      <th></th>\n      <th></th>\n    </tr>\n  </thead>\n  <tbody>\n    <tr>\n      <th>0.6 Cu. Ft. Letter A4 Size Waterproof 30 Min. Fire File Chest</th>\n      <td>1.0</td>\n      <td>0.0</td>\n      <td>0.0</td>\n      <td>0.0</td>\n      <td>0.0</td>\n      <td>0.0</td>\n      <td>0.0</td>\n      <td>0.0</td>\n      <td>0.0</td>\n      <td>0.0</td>\n      <td>...</td>\n      <td>0.0</td>\n      <td>0.0</td>\n      <td>0.0</td>\n      <td>0.0</td>\n      <td>0.0</td>\n      <td>0.0</td>\n      <td>0.0</td>\n      <td>0.000000</td>\n      <td>0.0</td>\n      <td>0.0</td>\n    </tr>\n    <tr>\n      <th>100:Complete First Season (blu-Ray)</th>\n      <td>0.0</td>\n      <td>1.0</td>\n      <td>0.0</td>\n      <td>0.0</td>\n      <td>0.0</td>\n      <td>0.0</td>\n      <td>0.0</td>\n      <td>0.0</td>\n      <td>0.0</td>\n      <td>0.0</td>\n      <td>...</td>\n      <td>0.0</td>\n      <td>0.0</td>\n      <td>0.0</td>\n      <td>0.0</td>\n      <td>0.0</td>\n      <td>0.0</td>\n      <td>0.0</td>\n      <td>0.002569</td>\n      <td>0.0</td>\n      <td>0.0</td>\n    </tr>\n    <tr>\n      <th>2017-2018 Brownline174 Duraflex 14-Month Planner 8 1/2 X 11 Black</th>\n      <td>0.0</td>\n      <td>0.0</td>\n      <td>1.0</td>\n      <td>0.0</td>\n      <td>0.0</td>\n      <td>0.0</td>\n      <td>0.0</td>\n      <td>0.0</td>\n      <td>0.0</td>\n      <td>0.0</td>\n      <td>...</td>\n      <td>0.0</td>\n      <td>0.0</td>\n      <td>0.0</td>\n      <td>0.0</td>\n      <td>0.0</td>\n      <td>0.0</td>\n      <td>0.0</td>\n      <td>0.000000</td>\n      <td>0.0</td>\n      <td>0.0</td>\n    </tr>\n    <tr>\n      <th>2x Ultra Era with Oxi Booster, 50fl oz</th>\n      <td>0.0</td>\n      <td>0.0</td>\n      <td>0.0</td>\n      <td>1.0</td>\n      <td>0.0</td>\n      <td>0.0</td>\n      <td>0.0</td>\n      <td>0.0</td>\n      <td>0.0</td>\n      <td>0.0</td>\n      <td>...</td>\n      <td>0.0</td>\n      <td>0.0</td>\n      <td>0.0</td>\n      <td>0.0</td>\n      <td>0.0</td>\n      <td>0.0</td>\n      <td>0.0</td>\n      <td>0.000000</td>\n      <td>0.0</td>\n      <td>0.0</td>\n    </tr>\n    <tr>\n      <th>4C Grated Parmesan Cheese 100% Natural 8oz Shaker</th>\n      <td>0.0</td>\n      <td>0.0</td>\n      <td>0.0</td>\n      <td>0.0</td>\n      <td>1.0</td>\n      <td>0.0</td>\n      <td>0.0</td>\n      <td>0.0</td>\n      <td>0.0</td>\n      <td>0.0</td>\n      <td>...</td>\n      <td>0.0</td>\n      <td>0.0</td>\n      <td>0.0</td>\n      <td>0.0</td>\n      <td>0.0</td>\n      <td>0.0</td>\n      <td>0.0</td>\n      <td>0.000000</td>\n      <td>0.0</td>\n      <td>0.0</td>\n    </tr>\n  </tbody>\n</table>\n<p>5 rows × 199 columns</p>\n</div>"
     },
     "metadata": {},
     "execution_count": 70
    }
   ],
   "source": [
    "item_correlation_df_3.head()"
   ]
  },
  {
   "cell_type": "code",
   "execution_count": 71,
   "metadata": {},
   "outputs": [
    {
     "output_type": "execute_result",
     "data": {
      "text/plain": [
       "array([[0.        , 0.        , 0.        , ..., 0.        , 0.        ,\n",
       "        0.        ],\n",
       "       [0.        , 0.09266215, 0.07412972, ..., 0.        , 0.10877889,\n",
       "        0.08447234],\n",
       "       [0.        , 0.        , 0.        , ..., 0.        , 0.        ,\n",
       "        0.        ],\n",
       "       ...,\n",
       "       [0.01149416, 0.08693988, 0.06955191, ..., 0.02869606, 0.0250818 ,\n",
       "        0.02416955],\n",
       "       [0.01770691, 0.01238392, 0.00990714, ..., 0.        , 0.        ,\n",
       "        0.        ],\n",
       "       [0.02036789, 0.02564094, 0.02051275, ..., 0.        , 0.03367081,\n",
       "        0.        ]])"
      ]
     },
     "metadata": {},
     "execution_count": 71
    }
   ],
   "source": [
    "item_correlation_df_3[item_correlation_df_3<0]=0\n",
    "\n",
    "common_item_predicted_ratings = np.dot(item_correlation_df_3, common_item_based_matrix.fillna(0))\n",
    "common_item_predicted_ratings\n"
   ]
  },
  {
   "cell_type": "code",
   "execution_count": 72,
   "metadata": {},
   "outputs": [
    {
     "output_type": "execute_result",
     "data": {
      "text/plain": [
       "(199, 7946)"
      ]
     },
     "metadata": {},
     "execution_count": 72
    }
   ],
   "source": [
    "common_item_predicted_ratings.shape"
   ]
  },
  {
   "cell_type": "code",
   "execution_count": 73,
   "metadata": {},
   "outputs": [],
   "source": [
    "dummy_test = common.copy()\n",
    "\n",
    "dummy_test['rating'] = dummy_test['rating'].apply(lambda x: 1 if x>=1 else 0)\n",
    "\n",
    "dummy_test = dummy_test.pivot_table(index='userId', columns='prodId', values='rating').T.fillna(0)\n",
    "\n",
    "common_item_predicted_ratings = np.multiply(common_item_predicted_ratings,dummy_test)"
   ]
  },
  {
   "cell_type": "code",
   "execution_count": 74,
   "metadata": {},
   "outputs": [],
   "source": [
    "common_ = common.pivot_table(index='userId', columns='prodId', values='rating').T"
   ]
  },
  {
   "cell_type": "code",
   "execution_count": 75,
   "metadata": {},
   "outputs": [
    {
     "output_type": "stream",
     "name": "stdout",
     "text": [
      "MinMaxScaler(feature_range=(1, 5))\n[[nan nan nan ... nan nan nan]\n [nan nan nan ... nan nan nan]\n [nan nan nan ... nan nan nan]\n ...\n [nan nan nan ... nan nan nan]\n [nan nan nan ... nan nan nan]\n [nan nan nan ... nan nan nan]]\n"
     ]
    }
   ],
   "source": [
    "X  = common_item_predicted_ratings.copy() \n",
    "X = X[X>0]\n",
    "\n",
    "scaler = MinMaxScaler(feature_range=(1, 5))\n",
    "print(scaler.fit(X))\n",
    "y = (scaler.transform(X))\n",
    "\n",
    "print(y)"
   ]
  },
  {
   "cell_type": "code",
   "execution_count": 76,
   "metadata": {},
   "outputs": [],
   "source": [
    "# Finding total non-NaN value\n",
    "total_non_nan = np.count_nonzero(~np.isnan(y))"
   ]
  },
  {
   "cell_type": "code",
   "execution_count": 77,
   "metadata": {},
   "outputs": [
    {
     "output_type": "stream",
     "name": "stdout",
     "text": [
      "3.5823704746734277\n"
     ]
    }
   ],
   "source": [
    "rmse = (sum(sum((common_ - y )**2))/total_non_nan)**0.5\n",
    "print(rmse)"
   ]
  },
  {
   "cell_type": "code",
   "execution_count": null,
   "metadata": {},
   "outputs": [],
   "source": []
  }
 ]
}